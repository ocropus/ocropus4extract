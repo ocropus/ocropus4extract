{
 "cells": [
  {
   "cell_type": "code",
   "execution_count": 8,
   "metadata": {},
   "outputs": [],
   "source": [
    "import glob\n",
    "import os"
   ]
  },
  {
   "cell_type": "code",
   "execution_count": 9,
   "metadata": {},
   "outputs": [],
   "source": [
    "def run(cmd):\n",
    "    print(f\"# {cmd}\")\n",
    "    assert 0 == os.system(cmd)"
   ]
  },
  {
   "cell_type": "code",
   "execution_count": 10,
   "metadata": {},
   "outputs": [],
   "source": [
    "bucket = \"ocro-iaa-sample\""
   ]
  },
  {
   "cell_type": "code",
   "execution_count": 11,
   "metadata": {},
   "outputs": [
    {
     "name": "stdout",
     "output_type": "stream",
     "text": [
      "# gsutil -m rm gs://ocro-iaa-sample/segs/*.tar || true\n"
     ]
    },
    {
     "name": "stderr",
     "output_type": "stream",
     "text": [
      "CommandException: 1 files/objects could not be removed.\n"
     ]
    },
    {
     "name": "stdout",
     "output_type": "stream",
     "text": [
      "# gsutil -m rm gs://ocro-iaa-sample/lines/*.tar || true\n"
     ]
    },
    {
     "name": "stderr",
     "output_type": "stream",
     "text": [
      "CommandException: 1 files/objects could not be removed.\n"
     ]
    },
    {
     "name": "stdout",
     "output_type": "stream",
     "text": [
      "# gsutil -m rm gs://ocro-iaa-sample/words/*.tar || true\n"
     ]
    },
    {
     "name": "stderr",
     "output_type": "stream",
     "text": [
      "CommandException: 1 files/objects could not be removed.\n"
     ]
    }
   ],
   "source": [
    "run(f\"gsutil -m rm gs://{bucket}/segs/*.tar || true\")\n",
    "run(f\"gsutil -m rm gs://{bucket}/lines/*.tar || true\")\n",
    "run(f\"gsutil -m rm gs://{bucket}/words/*.tar || true\")"
   ]
  },
  {
   "cell_type": "code",
   "execution_count": 13,
   "metadata": {},
   "outputs": [
    {
     "name": "stdout",
     "output_type": "stream",
     "text": [
      "0 iaextracted/books-08cc1cadac9047f797ad38080ec4240d-000000-segs.tar\n",
      "# gsutil cp iaextracted/books-08cc1cadac9047f797ad38080ec4240d-000000-segs.tar gs://ocro-iaa-sample/segs/segs-000000.tar\n"
     ]
    },
    {
     "name": "stderr",
     "output_type": "stream",
     "text": [
      "Copying file://iaextracted/books-08cc1cadac9047f797ad38080ec4240d-000000-segs.tar [Content-Type=application/x-tar]...\n",
      "\\ [1 files][ 85.0 MiB/ 85.0 MiB]                                                \n",
      "Operation completed over 1 objects/85.0 MiB.                                     \n"
     ]
    },
    {
     "name": "stdout",
     "output_type": "stream",
     "text": [
      "1 iaextracted/books-08cc1cadac9047f797ad38080ec4240d-000001-segs.tar\n",
      "# gsutil cp iaextracted/books-08cc1cadac9047f797ad38080ec4240d-000001-segs.tar gs://ocro-iaa-sample/segs/segs-000001.tar\n"
     ]
    },
    {
     "name": "stderr",
     "output_type": "stream",
     "text": [
      "Copying file://iaextracted/books-08cc1cadac9047f797ad38080ec4240d-000001-segs.tar [Content-Type=application/x-tar]...\n",
      "- [1 files][ 54.9 MiB/ 54.9 MiB]                                                \n",
      "Operation completed over 1 objects/54.9 MiB.                                     \n"
     ]
    },
    {
     "name": "stdout",
     "output_type": "stream",
     "text": [
      "2 iaextracted/books-08cc1cadac9047f797ad38080ec4240d-000002-segs.tar\n",
      "# gsutil cp iaextracted/books-08cc1cadac9047f797ad38080ec4240d-000002-segs.tar gs://ocro-iaa-sample/segs/segs-000002.tar\n"
     ]
    },
    {
     "name": "stderr",
     "output_type": "stream",
     "text": [
      "Copying file://iaextracted/books-08cc1cadac9047f797ad38080ec4240d-000002-segs.tar [Content-Type=application/x-tar]...\n",
      "/ [1 files][ 36.9 MiB/ 36.9 MiB]                                                \n",
      "Operation completed over 1 objects/36.9 MiB.                                     \n"
     ]
    },
    {
     "name": "stdout",
     "output_type": "stream",
     "text": [
      "3 iaextracted/books-08cc1cadac9047f797ad38080ec4240d-000003-segs.tar\n",
      "# gsutil cp iaextracted/books-08cc1cadac9047f797ad38080ec4240d-000003-segs.tar gs://ocro-iaa-sample/segs/segs-000003.tar\n"
     ]
    },
    {
     "name": "stderr",
     "output_type": "stream",
     "text": [
      "Copying file://iaextracted/books-08cc1cadac9047f797ad38080ec4240d-000003-segs.tar [Content-Type=application/x-tar]...\n",
      "/ [1 files][ 14.4 MiB/ 14.4 MiB]                                                \n",
      "Operation completed over 1 objects/14.4 MiB.                                     \n"
     ]
    },
    {
     "name": "stdout",
     "output_type": "stream",
     "text": [
      "4 iaextracted/books-08cc1cadac9047f797ad38080ec4240d-000004-segs.tar\n",
      "# gsutil cp iaextracted/books-08cc1cadac9047f797ad38080ec4240d-000004-segs.tar gs://ocro-iaa-sample/segs/segs-000004.tar\n"
     ]
    },
    {
     "name": "stderr",
     "output_type": "stream",
     "text": [
      "Copying file://iaextracted/books-08cc1cadac9047f797ad38080ec4240d-000004-segs.tar [Content-Type=application/x-tar]...\n",
      "- [1 files][ 57.0 MiB/ 57.0 MiB]                                                \n",
      "Operation completed over 1 objects/57.0 MiB.                                     \n"
     ]
    },
    {
     "name": "stdout",
     "output_type": "stream",
     "text": [
      "5 iaextracted/books-08cc1cadac9047f797ad38080ec4240d-000005-segs.tar\n",
      "# gsutil cp iaextracted/books-08cc1cadac9047f797ad38080ec4240d-000005-segs.tar gs://ocro-iaa-sample/segs/segs-000005.tar\n"
     ]
    },
    {
     "name": "stderr",
     "output_type": "stream",
     "text": [
      "Copying file://iaextracted/books-08cc1cadac9047f797ad38080ec4240d-000005-segs.tar [Content-Type=application/x-tar]...\n",
      "/ [1 files][ 47.3 MiB/ 47.3 MiB]                                                \n",
      "Operation completed over 1 objects/47.3 MiB.                                     \n"
     ]
    },
    {
     "name": "stdout",
     "output_type": "stream",
     "text": [
      "6 iaextracted/books-08cc1cadac9047f797ad38080ec4240d-000006-segs.tar\n",
      "# gsutil cp iaextracted/books-08cc1cadac9047f797ad38080ec4240d-000006-segs.tar gs://ocro-iaa-sample/segs/segs-000006.tar\n"
     ]
    },
    {
     "name": "stderr",
     "output_type": "stream",
     "text": [
      "Copying file://iaextracted/books-08cc1cadac9047f797ad38080ec4240d-000006-segs.tar [Content-Type=application/x-tar]...\n",
      "/ [1 files][ 27.7 MiB/ 27.7 MiB]                                                \n",
      "Operation completed over 1 objects/27.7 MiB.                                     \n"
     ]
    },
    {
     "name": "stdout",
     "output_type": "stream",
     "text": [
      "7 iaextracted/books-08cc1cadac9047f797ad38080ec4240d-000007-segs.tar\n",
      "# gsutil cp iaextracted/books-08cc1cadac9047f797ad38080ec4240d-000007-segs.tar gs://ocro-iaa-sample/segs/segs-000007.tar\n"
     ]
    },
    {
     "name": "stderr",
     "output_type": "stream",
     "text": [
      "Copying file://iaextracted/books-08cc1cadac9047f797ad38080ec4240d-000007-segs.tar [Content-Type=application/x-tar]...\n",
      "/ [1 files][ 36.5 MiB/ 36.5 MiB]                                                \n",
      "Operation completed over 1 objects/36.5 MiB.                                     \n"
     ]
    },
    {
     "name": "stdout",
     "output_type": "stream",
     "text": [
      "8 iaextracted/books-08cc1cadac9047f797ad38080ec4240d-000008-segs.tar\n",
      "# gsutil cp iaextracted/books-08cc1cadac9047f797ad38080ec4240d-000008-segs.tar gs://ocro-iaa-sample/segs/segs-000008.tar\n"
     ]
    },
    {
     "name": "stderr",
     "output_type": "stream",
     "text": [
      "Copying file://iaextracted/books-08cc1cadac9047f797ad38080ec4240d-000008-segs.tar [Content-Type=application/x-tar]...\n",
      "/ [1 files][  4.9 MiB/  4.9 MiB]                                                \n",
      "Operation completed over 1 objects/4.9 MiB.                                      \n"
     ]
    },
    {
     "name": "stdout",
     "output_type": "stream",
     "text": [
      "9 iaextracted/books-08cc1cadac9047f797ad38080ec4240d-000009-segs.tar\n",
      "# gsutil cp iaextracted/books-08cc1cadac9047f797ad38080ec4240d-000009-segs.tar gs://ocro-iaa-sample/segs/segs-000009.tar\n"
     ]
    },
    {
     "name": "stderr",
     "output_type": "stream",
     "text": [
      "Copying file://iaextracted/books-08cc1cadac9047f797ad38080ec4240d-000009-segs.tar [Content-Type=application/x-tar]...\n",
      "/ [1 files][ 23.3 MiB/ 23.3 MiB]                                                \n",
      "Operation completed over 1 objects/23.3 MiB.                                     \n"
     ]
    },
    {
     "name": "stdout",
     "output_type": "stream",
     "text": [
      "10 iaextracted/books-08cc1cadac9047f797ad38080ec4240d-000010-segs.tar\n",
      "# gsutil cp iaextracted/books-08cc1cadac9047f797ad38080ec4240d-000010-segs.tar gs://ocro-iaa-sample/segs/segs-000010.tar\n"
     ]
    },
    {
     "name": "stderr",
     "output_type": "stream",
     "text": [
      "Copying file://iaextracted/books-08cc1cadac9047f797ad38080ec4240d-000010-segs.tar [Content-Type=application/x-tar]...\n",
      "- [1 files][ 45.9 MiB/ 45.9 MiB]                                                \n",
      "Operation completed over 1 objects/45.9 MiB.                                     \n"
     ]
    },
    {
     "name": "stdout",
     "output_type": "stream",
     "text": [
      "11 iaextracted/books-08cc1cadac9047f797ad38080ec4240d-000011-segs.tar\n",
      "# gsutil cp iaextracted/books-08cc1cadac9047f797ad38080ec4240d-000011-segs.tar gs://ocro-iaa-sample/segs/segs-000011.tar\n"
     ]
    },
    {
     "name": "stderr",
     "output_type": "stream",
     "text": [
      "Copying file://iaextracted/books-08cc1cadac9047f797ad38080ec4240d-000011-segs.tar [Content-Type=application/x-tar]...\n",
      "- [1 files][ 38.4 MiB/ 38.4 MiB]                                                \n",
      "Operation completed over 1 objects/38.4 MiB.                                     \n"
     ]
    },
    {
     "name": "stdout",
     "output_type": "stream",
     "text": [
      "12 iaextracted/books-08cc1cadac9047f797ad38080ec4240d-000012-segs.tar\n",
      "# gsutil cp iaextracted/books-08cc1cadac9047f797ad38080ec4240d-000012-segs.tar gs://ocro-iaa-sample/segs/segs-000012.tar\n"
     ]
    },
    {
     "name": "stderr",
     "output_type": "stream",
     "text": [
      "Copying file://iaextracted/books-08cc1cadac9047f797ad38080ec4240d-000012-segs.tar [Content-Type=application/x-tar]...\n",
      "/ [1 files][ 30.6 MiB/ 30.6 MiB]                                                \n",
      "Operation completed over 1 objects/30.6 MiB.                                     \n"
     ]
    },
    {
     "name": "stdout",
     "output_type": "stream",
     "text": [
      "13 iaextracted/books-08cc1cadac9047f797ad38080ec4240d-000013-segs.tar\n",
      "# gsutil cp iaextracted/books-08cc1cadac9047f797ad38080ec4240d-000013-segs.tar gs://ocro-iaa-sample/segs/segs-000013.tar\n"
     ]
    },
    {
     "name": "stderr",
     "output_type": "stream",
     "text": [
      "Copying file://iaextracted/books-08cc1cadac9047f797ad38080ec4240d-000013-segs.tar [Content-Type=application/x-tar]...\n",
      "- [1 files][ 50.2 MiB/ 50.2 MiB]                                                \n",
      "Operation completed over 1 objects/50.2 MiB.                                     \n"
     ]
    },
    {
     "name": "stdout",
     "output_type": "stream",
     "text": [
      "14 iaextracted/books-08cc1cadac9047f797ad38080ec4240d-000014-segs.tar\n",
      "# gsutil cp iaextracted/books-08cc1cadac9047f797ad38080ec4240d-000014-segs.tar gs://ocro-iaa-sample/segs/segs-000014.tar\n"
     ]
    },
    {
     "name": "stderr",
     "output_type": "stream",
     "text": [
      "Copying file://iaextracted/books-08cc1cadac9047f797ad38080ec4240d-000014-segs.tar [Content-Type=application/x-tar]...\n",
      "/ [1 files][ 35.8 MiB/ 35.8 MiB]                                                \n",
      "Operation completed over 1 objects/35.8 MiB.                                     \n"
     ]
    },
    {
     "name": "stdout",
     "output_type": "stream",
     "text": [
      "15 iaextracted/books-08cc1cadac9047f797ad38080ec4240d-000015-segs.tar\n",
      "# gsutil cp iaextracted/books-08cc1cadac9047f797ad38080ec4240d-000015-segs.tar gs://ocro-iaa-sample/segs/segs-000015.tar\n"
     ]
    },
    {
     "name": "stderr",
     "output_type": "stream",
     "text": [
      "Copying file://iaextracted/books-08cc1cadac9047f797ad38080ec4240d-000015-segs.tar [Content-Type=application/x-tar]...\n",
      "/ [1 files][ 27.8 MiB/ 27.8 MiB]                                                \n",
      "Operation completed over 1 objects/27.8 MiB.                                     \n"
     ]
    },
    {
     "name": "stdout",
     "output_type": "stream",
     "text": [
      "16 iaextracted/books-08cc1cadac9047f797ad38080ec4240d-000016-segs.tar\n",
      "# gsutil cp iaextracted/books-08cc1cadac9047f797ad38080ec4240d-000016-segs.tar gs://ocro-iaa-sample/segs/segs-000016.tar\n"
     ]
    },
    {
     "name": "stderr",
     "output_type": "stream",
     "text": [
      "Copying file://iaextracted/books-08cc1cadac9047f797ad38080ec4240d-000016-segs.tar [Content-Type=application/x-tar]...\n",
      "- [1 files][ 52.9 MiB/ 52.9 MiB]                                                \n",
      "Operation completed over 1 objects/52.9 MiB.                                     \n"
     ]
    },
    {
     "name": "stdout",
     "output_type": "stream",
     "text": [
      "17 iaextracted/books-08cc1cadac9047f797ad38080ec4240d-000017-segs.tar\n",
      "# gsutil cp iaextracted/books-08cc1cadac9047f797ad38080ec4240d-000017-segs.tar gs://ocro-iaa-sample/segs/segs-000017.tar\n"
     ]
    },
    {
     "name": "stderr",
     "output_type": "stream",
     "text": [
      "Copying file://iaextracted/books-08cc1cadac9047f797ad38080ec4240d-000017-segs.tar [Content-Type=application/x-tar]...\n",
      "/ [1 files][ 41.2 MiB/ 41.2 MiB]                                                \n",
      "Operation completed over 1 objects/41.2 MiB.                                     \n"
     ]
    },
    {
     "name": "stdout",
     "output_type": "stream",
     "text": [
      "18 iaextracted/books-08cc1cadac9047f797ad38080ec4240d-000018-segs.tar\n",
      "# gsutil cp iaextracted/books-08cc1cadac9047f797ad38080ec4240d-000018-segs.tar gs://ocro-iaa-sample/segs/segs-000018.tar\n"
     ]
    },
    {
     "name": "stderr",
     "output_type": "stream",
     "text": [
      "Copying file://iaextracted/books-08cc1cadac9047f797ad38080ec4240d-000018-segs.tar [Content-Type=application/x-tar]...\n",
      "/ [1 files][ 46.2 MiB/ 46.2 MiB]                                                \n",
      "Operation completed over 1 objects/46.2 MiB.                                     \n"
     ]
    },
    {
     "name": "stdout",
     "output_type": "stream",
     "text": [
      "19 iaextracted/books-08cc1cadac9047f797ad38080ec4240d-000019-segs.tar\n",
      "# gsutil cp iaextracted/books-08cc1cadac9047f797ad38080ec4240d-000019-segs.tar gs://ocro-iaa-sample/segs/segs-000019.tar\n"
     ]
    },
    {
     "name": "stderr",
     "output_type": "stream",
     "text": [
      "Copying file://iaextracted/books-08cc1cadac9047f797ad38080ec4240d-000019-segs.tar [Content-Type=application/x-tar]...\n",
      "/ [1 files][ 17.7 MiB/ 17.7 MiB]                                                \n",
      "Operation completed over 1 objects/17.7 MiB.                                     \n"
     ]
    },
    {
     "name": "stdout",
     "output_type": "stream",
     "text": [
      "20 iaextracted/books-08cc1cadac9047f797ad38080ec4240d-000020-segs.tar\n",
      "# gsutil cp iaextracted/books-08cc1cadac9047f797ad38080ec4240d-000020-segs.tar gs://ocro-iaa-sample/segs/segs-000020.tar\n"
     ]
    },
    {
     "name": "stderr",
     "output_type": "stream",
     "text": [
      "Copying file://iaextracted/books-08cc1cadac9047f797ad38080ec4240d-000020-segs.tar [Content-Type=application/x-tar]...\n",
      "- [1 files][ 44.8 MiB/ 44.8 MiB]                                                \n",
      "Operation completed over 1 objects/44.8 MiB.                                     \n"
     ]
    },
    {
     "name": "stdout",
     "output_type": "stream",
     "text": [
      "21 iaextracted/books-08cc1cadac9047f797ad38080ec4240d-000021-segs.tar\n",
      "# gsutil cp iaextracted/books-08cc1cadac9047f797ad38080ec4240d-000021-segs.tar gs://ocro-iaa-sample/segs/segs-000021.tar\n"
     ]
    },
    {
     "name": "stderr",
     "output_type": "stream",
     "text": [
      "Copying file://iaextracted/books-08cc1cadac9047f797ad38080ec4240d-000021-segs.tar [Content-Type=application/x-tar]...\n",
      "- [1 files][ 61.2 MiB/ 61.2 MiB]                                                \n",
      "Operation completed over 1 objects/61.2 MiB.                                     \n"
     ]
    },
    {
     "name": "stdout",
     "output_type": "stream",
     "text": [
      "22 iaextracted/books-08cc1cadac9047f797ad38080ec4240d-000022-segs.tar\n",
      "# gsutil cp iaextracted/books-08cc1cadac9047f797ad38080ec4240d-000022-segs.tar gs://ocro-iaa-sample/segs/segs-000022.tar\n"
     ]
    },
    {
     "name": "stderr",
     "output_type": "stream",
     "text": [
      "Copying file://iaextracted/books-08cc1cadac9047f797ad38080ec4240d-000022-segs.tar [Content-Type=application/x-tar]...\n",
      "/ [1 files][ 32.6 MiB/ 32.6 MiB]                                                \n",
      "Operation completed over 1 objects/32.6 MiB.                                     \n"
     ]
    },
    {
     "name": "stdout",
     "output_type": "stream",
     "text": [
      "23 iaextracted/books-08cc1cadac9047f797ad38080ec4240d-000023-segs.tar\n",
      "# gsutil cp iaextracted/books-08cc1cadac9047f797ad38080ec4240d-000023-segs.tar gs://ocro-iaa-sample/segs/segs-000023.tar\n"
     ]
    },
    {
     "name": "stderr",
     "output_type": "stream",
     "text": [
      "Copying file://iaextracted/books-08cc1cadac9047f797ad38080ec4240d-000023-segs.tar [Content-Type=application/x-tar]...\n",
      "- [1 files][ 48.8 MiB/ 48.8 MiB]                                                \n",
      "Operation completed over 1 objects/48.8 MiB.                                     \n"
     ]
    },
    {
     "name": "stdout",
     "output_type": "stream",
     "text": [
      "24 iaextracted/books-08cc1cadac9047f797ad38080ec4240d-000024-segs.tar\n",
      "# gsutil cp iaextracted/books-08cc1cadac9047f797ad38080ec4240d-000024-segs.tar gs://ocro-iaa-sample/segs/segs-000024.tar\n"
     ]
    },
    {
     "name": "stderr",
     "output_type": "stream",
     "text": [
      "Copying file://iaextracted/books-08cc1cadac9047f797ad38080ec4240d-000024-segs.tar [Content-Type=application/x-tar]...\n",
      "/ [1 files][ 39.3 MiB/ 39.3 MiB]                                                \n",
      "Operation completed over 1 objects/39.3 MiB.                                     \n"
     ]
    },
    {
     "name": "stdout",
     "output_type": "stream",
     "text": [
      "25 iaextracted/books-08cc1cadac9047f797ad38080ec4240d-000025-segs.tar\n",
      "# gsutil cp iaextracted/books-08cc1cadac9047f797ad38080ec4240d-000025-segs.tar gs://ocro-iaa-sample/segs/segs-000025.tar\n"
     ]
    },
    {
     "name": "stderr",
     "output_type": "stream",
     "text": [
      "Copying file://iaextracted/books-08cc1cadac9047f797ad38080ec4240d-000025-segs.tar [Content-Type=application/x-tar]...\n",
      "/ [1 files][ 50.5 MiB/ 50.5 MiB]                                                \n",
      "Operation completed over 1 objects/50.5 MiB.                                     \n"
     ]
    },
    {
     "name": "stdout",
     "output_type": "stream",
     "text": [
      "26 iaextracted/books-08cc1cadac9047f797ad38080ec4240d-000026-segs.tar\n",
      "# gsutil cp iaextracted/books-08cc1cadac9047f797ad38080ec4240d-000026-segs.tar gs://ocro-iaa-sample/segs/segs-000026.tar\n"
     ]
    },
    {
     "name": "stderr",
     "output_type": "stream",
     "text": [
      "Copying file://iaextracted/books-08cc1cadac9047f797ad38080ec4240d-000026-segs.tar [Content-Type=application/x-tar]...\n",
      "- [1 files][ 47.0 MiB/ 47.0 MiB]                                                \n",
      "Operation completed over 1 objects/47.0 MiB.                                     \n"
     ]
    },
    {
     "name": "stdout",
     "output_type": "stream",
     "text": [
      "27 iaextracted/books-08cc1cadac9047f797ad38080ec4240d-000027-segs.tar\n",
      "# gsutil cp iaextracted/books-08cc1cadac9047f797ad38080ec4240d-000027-segs.tar gs://ocro-iaa-sample/segs/segs-000027.tar\n"
     ]
    },
    {
     "name": "stderr",
     "output_type": "stream",
     "text": [
      "Copying file://iaextracted/books-08cc1cadac9047f797ad38080ec4240d-000027-segs.tar [Content-Type=application/x-tar]...\n",
      "- [1 files][ 76.4 MiB/ 76.4 MiB]                                                \n",
      "Operation completed over 1 objects/76.4 MiB.                                     \n"
     ]
    },
    {
     "name": "stdout",
     "output_type": "stream",
     "text": [
      "28 iaextracted/books-08cc1cadac9047f797ad38080ec4240d-000028-segs.tar\n",
      "# gsutil cp iaextracted/books-08cc1cadac9047f797ad38080ec4240d-000028-segs.tar gs://ocro-iaa-sample/segs/segs-000028.tar\n"
     ]
    },
    {
     "name": "stderr",
     "output_type": "stream",
     "text": [
      "Copying file://iaextracted/books-08cc1cadac9047f797ad38080ec4240d-000028-segs.tar [Content-Type=application/x-tar]...\n",
      "/ [1 files][ 30.4 MiB/ 30.4 MiB]                                                \n",
      "Operation completed over 1 objects/30.4 MiB.                                     \n"
     ]
    },
    {
     "name": "stdout",
     "output_type": "stream",
     "text": [
      "29 iaextracted/books-08cc1cadac9047f797ad38080ec4240d-000029-segs.tar\n",
      "# gsutil cp iaextracted/books-08cc1cadac9047f797ad38080ec4240d-000029-segs.tar gs://ocro-iaa-sample/segs/segs-000029.tar\n"
     ]
    },
    {
     "name": "stderr",
     "output_type": "stream",
     "text": [
      "Copying file://iaextracted/books-08cc1cadac9047f797ad38080ec4240d-000029-segs.tar [Content-Type=application/x-tar]...\n",
      "- [1 files][ 54.8 MiB/ 54.8 MiB]                                                \n",
      "Operation completed over 1 objects/54.8 MiB.                                     \n"
     ]
    },
    {
     "name": "stdout",
     "output_type": "stream",
     "text": [
      "30 iaextracted/books-08cc1cadac9047f797ad38080ec4240d-000030-segs.tar\n",
      "# gsutil cp iaextracted/books-08cc1cadac9047f797ad38080ec4240d-000030-segs.tar gs://ocro-iaa-sample/segs/segs-000030.tar\n"
     ]
    },
    {
     "name": "stderr",
     "output_type": "stream",
     "text": [
      "Copying file://iaextracted/books-08cc1cadac9047f797ad38080ec4240d-000030-segs.tar [Content-Type=application/x-tar]...\n",
      "/ [1 files][ 40.6 MiB/ 40.6 MiB]                                                \n",
      "Operation completed over 1 objects/40.6 MiB.                                     \n"
     ]
    },
    {
     "name": "stdout",
     "output_type": "stream",
     "text": [
      "31 iaextracted/books-08cc1cadac9047f797ad38080ec4240d-000031-segs.tar\n",
      "# gsutil cp iaextracted/books-08cc1cadac9047f797ad38080ec4240d-000031-segs.tar gs://ocro-iaa-sample/segs/segs-000031.tar\n"
     ]
    },
    {
     "name": "stderr",
     "output_type": "stream",
     "text": [
      "Copying file://iaextracted/books-08cc1cadac9047f797ad38080ec4240d-000031-segs.tar [Content-Type=application/x-tar]...\n",
      "/ [1 files][ 31.6 MiB/ 31.6 MiB]                                                \n",
      "Operation completed over 1 objects/31.6 MiB.                                     \n"
     ]
    },
    {
     "name": "stdout",
     "output_type": "stream",
     "text": [
      "32 iaextracted/books-08cc1cadac9047f797ad38080ec4240d-000032-segs.tar\n",
      "# gsutil cp iaextracted/books-08cc1cadac9047f797ad38080ec4240d-000032-segs.tar gs://ocro-iaa-sample/segs/segs-000032.tar\n"
     ]
    },
    {
     "name": "stderr",
     "output_type": "stream",
     "text": [
      "Copying file://iaextracted/books-08cc1cadac9047f797ad38080ec4240d-000032-segs.tar [Content-Type=application/x-tar]...\n",
      "- [1 files][ 50.8 MiB/ 50.8 MiB]                                                \n",
      "Operation completed over 1 objects/50.8 MiB.                                     \n"
     ]
    },
    {
     "name": "stdout",
     "output_type": "stream",
     "text": [
      "33 iaextracted/books-08cc1cadac9047f797ad38080ec4240d-000033-segs.tar\n",
      "# gsutil cp iaextracted/books-08cc1cadac9047f797ad38080ec4240d-000033-segs.tar gs://ocro-iaa-sample/segs/segs-000033.tar\n"
     ]
    },
    {
     "name": "stderr",
     "output_type": "stream",
     "text": [
      "Copying file://iaextracted/books-08cc1cadac9047f797ad38080ec4240d-000033-segs.tar [Content-Type=application/x-tar]...\n",
      "/ [1 files][ 18.4 MiB/ 18.4 MiB]                                                \n",
      "Operation completed over 1 objects/18.4 MiB.                                     \n"
     ]
    },
    {
     "name": "stdout",
     "output_type": "stream",
     "text": [
      "34 iaextracted/books-08cc1cadac9047f797ad38080ec4240d-000034-segs.tar\n",
      "# gsutil cp iaextracted/books-08cc1cadac9047f797ad38080ec4240d-000034-segs.tar gs://ocro-iaa-sample/segs/segs-000034.tar\n"
     ]
    },
    {
     "name": "stderr",
     "output_type": "stream",
     "text": [
      "Copying file://iaextracted/books-08cc1cadac9047f797ad38080ec4240d-000034-segs.tar [Content-Type=application/x-tar]...\n",
      "/ [1 files][ 50.6 MiB/ 50.6 MiB]                                                \n",
      "Operation completed over 1 objects/50.6 MiB.                                     \n"
     ]
    },
    {
     "name": "stdout",
     "output_type": "stream",
     "text": [
      "35 iaextracted/books-08cc1cadac9047f797ad38080ec4240d-000035-segs.tar\n",
      "# gsutil cp iaextracted/books-08cc1cadac9047f797ad38080ec4240d-000035-segs.tar gs://ocro-iaa-sample/segs/segs-000035.tar\n"
     ]
    },
    {
     "name": "stderr",
     "output_type": "stream",
     "text": [
      "Copying file://iaextracted/books-08cc1cadac9047f797ad38080ec4240d-000035-segs.tar [Content-Type=application/x-tar]...\n",
      "- [1 files][ 57.9 MiB/ 57.9 MiB]                                                \n",
      "Operation completed over 1 objects/57.9 MiB.                                     \n"
     ]
    },
    {
     "name": "stdout",
     "output_type": "stream",
     "text": [
      "36 iaextracted/books-08cc1cadac9047f797ad38080ec4240d-000036-segs.tar\n",
      "# gsutil cp iaextracted/books-08cc1cadac9047f797ad38080ec4240d-000036-segs.tar gs://ocro-iaa-sample/segs/segs-000036.tar\n"
     ]
    },
    {
     "name": "stderr",
     "output_type": "stream",
     "text": [
      "Copying file://iaextracted/books-08cc1cadac9047f797ad38080ec4240d-000036-segs.tar [Content-Type=application/x-tar]...\n",
      "- [1 files][ 46.4 MiB/ 46.4 MiB]                                                \n",
      "Operation completed over 1 objects/46.4 MiB.                                     \n"
     ]
    },
    {
     "name": "stdout",
     "output_type": "stream",
     "text": [
      "37 iaextracted/books-08cc1cadac9047f797ad38080ec4240d-000037-segs.tar\n",
      "# gsutil cp iaextracted/books-08cc1cadac9047f797ad38080ec4240d-000037-segs.tar gs://ocro-iaa-sample/segs/segs-000037.tar\n"
     ]
    },
    {
     "name": "stderr",
     "output_type": "stream",
     "text": [
      "Copying file://iaextracted/books-08cc1cadac9047f797ad38080ec4240d-000037-segs.tar [Content-Type=application/x-tar]...\n",
      "/ [1 files][ 41.1 MiB/ 41.1 MiB]                                                \n",
      "Operation completed over 1 objects/41.1 MiB.                                     \n"
     ]
    },
    {
     "name": "stdout",
     "output_type": "stream",
     "text": [
      "38 iaextracted/books-08cc1cadac9047f797ad38080ec4240d-000038-segs.tar\n",
      "# gsutil cp iaextracted/books-08cc1cadac9047f797ad38080ec4240d-000038-segs.tar gs://ocro-iaa-sample/segs/segs-000038.tar\n"
     ]
    },
    {
     "name": "stderr",
     "output_type": "stream",
     "text": [
      "Copying file://iaextracted/books-08cc1cadac9047f797ad38080ec4240d-000038-segs.tar [Content-Type=application/x-tar]...\n",
      "/ [1 files][ 42.0 MiB/ 42.0 MiB]                                                \n",
      "Operation completed over 1 objects/42.0 MiB.                                     \n"
     ]
    },
    {
     "name": "stdout",
     "output_type": "stream",
     "text": [
      "39 iaextracted/books-08cc1cadac9047f797ad38080ec4240d-000039-segs.tar\n",
      "# gsutil cp iaextracted/books-08cc1cadac9047f797ad38080ec4240d-000039-segs.tar gs://ocro-iaa-sample/segs/segs-000039.tar\n"
     ]
    },
    {
     "name": "stderr",
     "output_type": "stream",
     "text": [
      "Copying file://iaextracted/books-08cc1cadac9047f797ad38080ec4240d-000039-segs.tar [Content-Type=application/x-tar]...\n",
      "- [1 files][ 52.7 MiB/ 52.7 MiB]                                                \n",
      "Operation completed over 1 objects/52.7 MiB.                                     \n"
     ]
    },
    {
     "name": "stdout",
     "output_type": "stream",
     "text": [
      "40 iaextracted/books-08cc1cadac9047f797ad38080ec4240d-000040-segs.tar\n",
      "# gsutil cp iaextracted/books-08cc1cadac9047f797ad38080ec4240d-000040-segs.tar gs://ocro-iaa-sample/segs/segs-000040.tar\n"
     ]
    },
    {
     "name": "stderr",
     "output_type": "stream",
     "text": [
      "Copying file://iaextracted/books-08cc1cadac9047f797ad38080ec4240d-000040-segs.tar [Content-Type=application/x-tar]...\n",
      "/ [1 files][ 29.5 MiB/ 29.5 MiB]                                                \n",
      "Operation completed over 1 objects/29.5 MiB.                                     \n"
     ]
    },
    {
     "name": "stdout",
     "output_type": "stream",
     "text": [
      "41 iaextracted/books-08cc1cadac9047f797ad38080ec4240d-000041-segs.tar\n",
      "# gsutil cp iaextracted/books-08cc1cadac9047f797ad38080ec4240d-000041-segs.tar gs://ocro-iaa-sample/segs/segs-000041.tar\n"
     ]
    },
    {
     "name": "stderr",
     "output_type": "stream",
     "text": [
      "Copying file://iaextracted/books-08cc1cadac9047f797ad38080ec4240d-000041-segs.tar [Content-Type=application/x-tar]...\n",
      "- [1 files][ 58.6 MiB/ 58.6 MiB]                                                \n",
      "Operation completed over 1 objects/58.6 MiB.                                     \n"
     ]
    },
    {
     "name": "stdout",
     "output_type": "stream",
     "text": [
      "42 iaextracted/books-08cc1cadac9047f797ad38080ec4240d-000042-segs.tar\n",
      "# gsutil cp iaextracted/books-08cc1cadac9047f797ad38080ec4240d-000042-segs.tar gs://ocro-iaa-sample/segs/segs-000042.tar\n"
     ]
    },
    {
     "name": "stderr",
     "output_type": "stream",
     "text": [
      "Copying file://iaextracted/books-08cc1cadac9047f797ad38080ec4240d-000042-segs.tar [Content-Type=application/x-tar]...\n",
      "/ [1 files][ 31.2 MiB/ 31.2 MiB]                                                \n",
      "Operation completed over 1 objects/31.2 MiB.                                     \n"
     ]
    },
    {
     "name": "stdout",
     "output_type": "stream",
     "text": [
      "43 iaextracted/books-08cc1cadac9047f797ad38080ec4240d-000043-segs.tar\n",
      "# gsutil cp iaextracted/books-08cc1cadac9047f797ad38080ec4240d-000043-segs.tar gs://ocro-iaa-sample/segs/segs-000043.tar\n"
     ]
    },
    {
     "name": "stderr",
     "output_type": "stream",
     "text": [
      "Copying file://iaextracted/books-08cc1cadac9047f797ad38080ec4240d-000043-segs.tar [Content-Type=application/x-tar]...\n",
      "/ [1 files][ 19.0 MiB/ 19.0 MiB]                                                \n",
      "Operation completed over 1 objects/19.0 MiB.                                     \n"
     ]
    },
    {
     "name": "stdout",
     "output_type": "stream",
     "text": [
      "44 iaextracted/books-08cc1cadac9047f797ad38080ec4240d-000044-segs.tar\n",
      "# gsutil cp iaextracted/books-08cc1cadac9047f797ad38080ec4240d-000044-segs.tar gs://ocro-iaa-sample/segs/segs-000044.tar\n"
     ]
    },
    {
     "name": "stderr",
     "output_type": "stream",
     "text": [
      "Copying file://iaextracted/books-08cc1cadac9047f797ad38080ec4240d-000044-segs.tar [Content-Type=application/x-tar]...\n",
      "- [1 files][ 54.9 MiB/ 54.9 MiB]                                                \n",
      "Operation completed over 1 objects/54.9 MiB.                                     \n"
     ]
    },
    {
     "name": "stdout",
     "output_type": "stream",
     "text": [
      "45 iaextracted/books-08cc1cadac9047f797ad38080ec4240d-000045-segs.tar\n",
      "# gsutil cp iaextracted/books-08cc1cadac9047f797ad38080ec4240d-000045-segs.tar gs://ocro-iaa-sample/segs/segs-000045.tar\n"
     ]
    },
    {
     "name": "stderr",
     "output_type": "stream",
     "text": [
      "Copying file://iaextracted/books-08cc1cadac9047f797ad38080ec4240d-000045-segs.tar [Content-Type=application/x-tar]...\n",
      "- [1 files][ 40.7 MiB/ 40.7 MiB]                                                \n",
      "Operation completed over 1 objects/40.7 MiB.                                     \n"
     ]
    },
    {
     "name": "stdout",
     "output_type": "stream",
     "text": [
      "46 iaextracted/books-08cc1cadac9047f797ad38080ec4240d-000046-segs.tar\n",
      "# gsutil cp iaextracted/books-08cc1cadac9047f797ad38080ec4240d-000046-segs.tar gs://ocro-iaa-sample/segs/segs-000046.tar\n"
     ]
    },
    {
     "name": "stderr",
     "output_type": "stream",
     "text": [
      "Copying file://iaextracted/books-08cc1cadac9047f797ad38080ec4240d-000046-segs.tar [Content-Type=application/x-tar]...\n",
      "- [1 files][ 41.6 MiB/ 41.6 MiB]                                                \n",
      "Operation completed over 1 objects/41.6 MiB.                                     \n"
     ]
    },
    {
     "name": "stdout",
     "output_type": "stream",
     "text": [
      "47 iaextracted/books-08cc1cadac9047f797ad38080ec4240d-000047-segs.tar\n",
      "# gsutil cp iaextracted/books-08cc1cadac9047f797ad38080ec4240d-000047-segs.tar gs://ocro-iaa-sample/segs/segs-000047.tar\n"
     ]
    },
    {
     "name": "stderr",
     "output_type": "stream",
     "text": [
      "Copying file://iaextracted/books-08cc1cadac9047f797ad38080ec4240d-000047-segs.tar [Content-Type=application/x-tar]...\n",
      "- [1 files][ 65.4 MiB/ 65.4 MiB]                                                \n",
      "Operation completed over 1 objects/65.4 MiB.                                     \n"
     ]
    },
    {
     "name": "stdout",
     "output_type": "stream",
     "text": [
      "48 iaextracted/books-08cc1cadac9047f797ad38080ec4240d-000048-segs.tar\n",
      "# gsutil cp iaextracted/books-08cc1cadac9047f797ad38080ec4240d-000048-segs.tar gs://ocro-iaa-sample/segs/segs-000048.tar\n"
     ]
    },
    {
     "name": "stderr",
     "output_type": "stream",
     "text": [
      "Copying file://iaextracted/books-08cc1cadac9047f797ad38080ec4240d-000048-segs.tar [Content-Type=application/x-tar]...\n",
      "/ [1 files][ 29.2 MiB/ 29.2 MiB]                                                \n",
      "Operation completed over 1 objects/29.2 MiB.                                     \n"
     ]
    },
    {
     "name": "stdout",
     "output_type": "stream",
     "text": [
      "49 iaextracted/books-08cc1cadac9047f797ad38080ec4240d-000049-segs.tar\n",
      "# gsutil cp iaextracted/books-08cc1cadac9047f797ad38080ec4240d-000049-segs.tar gs://ocro-iaa-sample/segs/segs-000049.tar\n"
     ]
    },
    {
     "name": "stderr",
     "output_type": "stream",
     "text": [
      "Copying file://iaextracted/books-08cc1cadac9047f797ad38080ec4240d-000049-segs.tar [Content-Type=application/x-tar]...\n",
      "- [1 files][ 41.8 MiB/ 41.8 MiB]                                                \n",
      "Operation completed over 1 objects/41.8 MiB.                                     \n"
     ]
    },
    {
     "name": "stdout",
     "output_type": "stream",
     "text": [
      "50 iaextracted/books-08cc1cadac9047f797ad38080ec4240d-000050-segs.tar\n",
      "# gsutil cp iaextracted/books-08cc1cadac9047f797ad38080ec4240d-000050-segs.tar gs://ocro-iaa-sample/segs/segs-000050.tar\n"
     ]
    },
    {
     "name": "stderr",
     "output_type": "stream",
     "text": [
      "Copying file://iaextracted/books-08cc1cadac9047f797ad38080ec4240d-000050-segs.tar [Content-Type=application/x-tar]...\n",
      "/ [1 files][ 26.0 MiB/ 26.0 MiB]                                                \n",
      "Operation completed over 1 objects/26.0 MiB.                                     \n"
     ]
    },
    {
     "name": "stdout",
     "output_type": "stream",
     "text": [
      "51 iaextracted/books-08cc1cadac9047f797ad38080ec4240d-000051-segs.tar\n",
      "# gsutil cp iaextracted/books-08cc1cadac9047f797ad38080ec4240d-000051-segs.tar gs://ocro-iaa-sample/segs/segs-000051.tar\n"
     ]
    },
    {
     "name": "stderr",
     "output_type": "stream",
     "text": [
      "Copying file://iaextracted/books-08cc1cadac9047f797ad38080ec4240d-000051-segs.tar [Content-Type=application/x-tar]...\n",
      "/ [1 files][ 26.0 MiB/ 26.0 MiB]                                                \n",
      "Operation completed over 1 objects/26.0 MiB.                                     \n"
     ]
    },
    {
     "name": "stdout",
     "output_type": "stream",
     "text": [
      "52 iaextracted/books-08cc1cadac9047f797ad38080ec4240d-000052-segs.tar\n",
      "# gsutil cp iaextracted/books-08cc1cadac9047f797ad38080ec4240d-000052-segs.tar gs://ocro-iaa-sample/segs/segs-000052.tar\n"
     ]
    },
    {
     "name": "stderr",
     "output_type": "stream",
     "text": [
      "Copying file://iaextracted/books-08cc1cadac9047f797ad38080ec4240d-000052-segs.tar [Content-Type=application/x-tar]...\n",
      "- [1 files][ 53.4 MiB/ 53.4 MiB]                                                \n",
      "Operation completed over 1 objects/53.4 MiB.                                     \n"
     ]
    },
    {
     "name": "stdout",
     "output_type": "stream",
     "text": [
      "53 iaextracted/books-08cc1cadac9047f797ad38080ec4240d-000053-segs.tar\n",
      "# gsutil cp iaextracted/books-08cc1cadac9047f797ad38080ec4240d-000053-segs.tar gs://ocro-iaa-sample/segs/segs-000053.tar\n"
     ]
    },
    {
     "name": "stderr",
     "output_type": "stream",
     "text": [
      "Copying file://iaextracted/books-08cc1cadac9047f797ad38080ec4240d-000053-segs.tar [Content-Type=application/x-tar]...\n",
      "/ [1 files][ 32.5 MiB/ 32.5 MiB]                                                \n",
      "Operation completed over 1 objects/32.5 MiB.                                     \n"
     ]
    },
    {
     "name": "stdout",
     "output_type": "stream",
     "text": [
      "54 iaextracted/books-08cc1cadac9047f797ad38080ec4240d-000054-segs.tar\n",
      "# gsutil cp iaextracted/books-08cc1cadac9047f797ad38080ec4240d-000054-segs.tar gs://ocro-iaa-sample/segs/segs-000054.tar\n"
     ]
    },
    {
     "name": "stderr",
     "output_type": "stream",
     "text": [
      "Copying file://iaextracted/books-08cc1cadac9047f797ad38080ec4240d-000054-segs.tar [Content-Type=application/x-tar]...\n",
      "/ [1 files][ 32.3 MiB/ 32.3 MiB]                                                \n",
      "Operation completed over 1 objects/32.3 MiB.                                     \n"
     ]
    },
    {
     "name": "stdout",
     "output_type": "stream",
     "text": [
      "55 iaextracted/books-08cc1cadac9047f797ad38080ec4240d-000055-segs.tar\n",
      "# gsutil cp iaextracted/books-08cc1cadac9047f797ad38080ec4240d-000055-segs.tar gs://ocro-iaa-sample/segs/segs-000055.tar\n"
     ]
    },
    {
     "name": "stderr",
     "output_type": "stream",
     "text": [
      "Copying file://iaextracted/books-08cc1cadac9047f797ad38080ec4240d-000055-segs.tar [Content-Type=application/x-tar]...\n",
      "- [1 files][ 60.6 MiB/ 60.6 MiB]                                                \n",
      "Operation completed over 1 objects/60.6 MiB.                                     \n"
     ]
    },
    {
     "name": "stdout",
     "output_type": "stream",
     "text": [
      "56 iaextracted/books-08cc1cadac9047f797ad38080ec4240d-000056-segs.tar\n",
      "# gsutil cp iaextracted/books-08cc1cadac9047f797ad38080ec4240d-000056-segs.tar gs://ocro-iaa-sample/segs/segs-000056.tar\n"
     ]
    },
    {
     "name": "stderr",
     "output_type": "stream",
     "text": [
      "Copying file://iaextracted/books-08cc1cadac9047f797ad38080ec4240d-000056-segs.tar [Content-Type=application/x-tar]...\n",
      "/ [1 files][ 35.8 MiB/ 35.8 MiB]                                                \n",
      "Operation completed over 1 objects/35.8 MiB.                                     \n"
     ]
    },
    {
     "name": "stdout",
     "output_type": "stream",
     "text": [
      "57 iaextracted/books-08cc1cadac9047f797ad38080ec4240d-000057-segs.tar\n",
      "# gsutil cp iaextracted/books-08cc1cadac9047f797ad38080ec4240d-000057-segs.tar gs://ocro-iaa-sample/segs/segs-000057.tar\n"
     ]
    },
    {
     "name": "stderr",
     "output_type": "stream",
     "text": [
      "Copying file://iaextracted/books-08cc1cadac9047f797ad38080ec4240d-000057-segs.tar [Content-Type=application/x-tar]...\n",
      "- [1 files][ 64.2 MiB/ 64.2 MiB]                                                \n",
      "Operation completed over 1 objects/64.2 MiB.                                     \n"
     ]
    },
    {
     "name": "stdout",
     "output_type": "stream",
     "text": [
      "58 iaextracted/books-08cc1cadac9047f797ad38080ec4240d-000058-segs.tar\n",
      "# gsutil cp iaextracted/books-08cc1cadac9047f797ad38080ec4240d-000058-segs.tar gs://ocro-iaa-sample/segs/segs-000058.tar\n"
     ]
    },
    {
     "name": "stderr",
     "output_type": "stream",
     "text": [
      "Copying file://iaextracted/books-08cc1cadac9047f797ad38080ec4240d-000058-segs.tar [Content-Type=application/x-tar]...\n",
      "/ [1 files][ 35.5 MiB/ 35.5 MiB]                                                \n",
      "Operation completed over 1 objects/35.5 MiB.                                     \n"
     ]
    },
    {
     "name": "stdout",
     "output_type": "stream",
     "text": [
      "59 iaextracted/books-08cc1cadac9047f797ad38080ec4240d-000059-segs.tar\n",
      "# gsutil cp iaextracted/books-08cc1cadac9047f797ad38080ec4240d-000059-segs.tar gs://ocro-iaa-sample/segs/segs-000059.tar\n"
     ]
    },
    {
     "name": "stderr",
     "output_type": "stream",
     "text": [
      "Copying file://iaextracted/books-08cc1cadac9047f797ad38080ec4240d-000059-segs.tar [Content-Type=application/x-tar]...\n",
      "- [1 files][ 55.7 MiB/ 55.7 MiB]                                                \n",
      "Operation completed over 1 objects/55.7 MiB.                                     \n"
     ]
    },
    {
     "name": "stdout",
     "output_type": "stream",
     "text": [
      "0 iaextracted/books-08cc1cadac9047f797ad38080ec4240d-000000-lines.tar\n",
      "# gsutil cp iaextracted/books-08cc1cadac9047f797ad38080ec4240d-000000-lines.tar gs://ocro-iaa-sample/lines/lines-000000.tar\n"
     ]
    },
    {
     "name": "stderr",
     "output_type": "stream",
     "text": [
      "Copying file://iaextracted/books-08cc1cadac9047f797ad38080ec4240d-000000-lines.tar [Content-Type=application/x-tar]...\n",
      "==> NOTE: You are uploading one or more large file(s), which would run          \n",
      "significantly faster if you enable parallel composite uploads. This\n",
      "feature can be enabled by editing the\n",
      "\"parallel_composite_upload_threshold\" value in your .boto\n",
      "configuration file. However, note that if you do this large files will\n",
      "be uploaded as `composite objects\n",
      "<https://cloud.google.com/storage/docs/composite-objects>`_,which\n",
      "means that any user who downloads such objects will need to have a\n",
      "compiled crcmod installed (see \"gsutil help crcmod\"). This is because\n",
      "without a compiled crcmod, computing checksums on composite objects is\n",
      "so slow that gsutil disables downloads of composite objects.\n",
      "\n",
      "/ [1 files][513.7 MiB/513.7 MiB]                                                \n",
      "Operation completed over 1 objects/513.7 MiB.                                    \n"
     ]
    },
    {
     "name": "stdout",
     "output_type": "stream",
     "text": [
      "1 iaextracted/books-08cc1cadac9047f797ad38080ec4240d-000001-lines.tar\n",
      "# gsutil cp iaextracted/books-08cc1cadac9047f797ad38080ec4240d-000001-lines.tar gs://ocro-iaa-sample/lines/lines-000001.tar\n"
     ]
    },
    {
     "name": "stderr",
     "output_type": "stream",
     "text": [
      "Copying file://iaextracted/books-08cc1cadac9047f797ad38080ec4240d-000001-lines.tar [Content-Type=application/x-tar]...\n",
      "==> NOTE: You are uploading one or more large file(s), which would run          \n",
      "significantly faster if you enable parallel composite uploads. This\n",
      "feature can be enabled by editing the\n",
      "\"parallel_composite_upload_threshold\" value in your .boto\n",
      "configuration file. However, note that if you do this large files will\n",
      "be uploaded as `composite objects\n",
      "<https://cloud.google.com/storage/docs/composite-objects>`_,which\n",
      "means that any user who downloads such objects will need to have a\n",
      "compiled crcmod installed (see \"gsutil help crcmod\"). This is because\n",
      "without a compiled crcmod, computing checksums on composite objects is\n",
      "so slow that gsutil disables downloads of composite objects.\n",
      "\n",
      "- [1 files][323.9 MiB/323.9 MiB]                                                \n",
      "Operation completed over 1 objects/323.9 MiB.                                    \n"
     ]
    },
    {
     "name": "stdout",
     "output_type": "stream",
     "text": [
      "2 iaextracted/books-08cc1cadac9047f797ad38080ec4240d-000002-lines.tar\n",
      "# gsutil cp iaextracted/books-08cc1cadac9047f797ad38080ec4240d-000002-lines.tar gs://ocro-iaa-sample/lines/lines-000002.tar\n"
     ]
    },
    {
     "name": "stderr",
     "output_type": "stream",
     "text": [
      "Copying file://iaextracted/books-08cc1cadac9047f797ad38080ec4240d-000002-lines.tar [Content-Type=application/x-tar]...\n",
      "==> NOTE: You are uploading one or more large file(s), which would run          \n",
      "significantly faster if you enable parallel composite uploads. This\n",
      "feature can be enabled by editing the\n",
      "\"parallel_composite_upload_threshold\" value in your .boto\n",
      "configuration file. However, note that if you do this large files will\n",
      "be uploaded as `composite objects\n",
      "<https://cloud.google.com/storage/docs/composite-objects>`_,which\n",
      "means that any user who downloads such objects will need to have a\n",
      "compiled crcmod installed (see \"gsutil help crcmod\"). This is because\n",
      "without a compiled crcmod, computing checksums on composite objects is\n",
      "so slow that gsutil disables downloads of composite objects.\n",
      "\n",
      "/ [1 files][189.9 MiB/189.9 MiB]                                                \n",
      "Operation completed over 1 objects/189.9 MiB.                                    \n"
     ]
    },
    {
     "name": "stdout",
     "output_type": "stream",
     "text": [
      "3 iaextracted/books-08cc1cadac9047f797ad38080ec4240d-000003-lines.tar\n",
      "# gsutil cp iaextracted/books-08cc1cadac9047f797ad38080ec4240d-000003-lines.tar gs://ocro-iaa-sample/lines/lines-000003.tar\n"
     ]
    },
    {
     "name": "stderr",
     "output_type": "stream",
     "text": [
      "Copying file://iaextracted/books-08cc1cadac9047f797ad38080ec4240d-000003-lines.tar [Content-Type=application/x-tar]...\n",
      "\\ [1 files][121.0 MiB/121.0 MiB]                                                \n",
      "Operation completed over 1 objects/121.0 MiB.                                    \n"
     ]
    },
    {
     "name": "stdout",
     "output_type": "stream",
     "text": [
      "4 iaextracted/books-08cc1cadac9047f797ad38080ec4240d-000004-lines.tar\n",
      "# gsutil cp iaextracted/books-08cc1cadac9047f797ad38080ec4240d-000004-lines.tar gs://ocro-iaa-sample/lines/lines-000004.tar\n"
     ]
    },
    {
     "name": "stderr",
     "output_type": "stream",
     "text": [
      "Copying file://iaextracted/books-08cc1cadac9047f797ad38080ec4240d-000004-lines.tar [Content-Type=application/x-tar]...\n",
      "==> NOTE: You are uploading one or more large file(s), which would run          \n",
      "significantly faster if you enable parallel composite uploads. This\n",
      "feature can be enabled by editing the\n",
      "\"parallel_composite_upload_threshold\" value in your .boto\n",
      "configuration file. However, note that if you do this large files will\n",
      "be uploaded as `composite objects\n",
      "<https://cloud.google.com/storage/docs/composite-objects>`_,which\n",
      "means that any user who downloads such objects will need to have a\n",
      "compiled crcmod installed (see \"gsutil help crcmod\"). This is because\n",
      "without a compiled crcmod, computing checksums on composite objects is\n",
      "so slow that gsutil disables downloads of composite objects.\n",
      "\n",
      "- [1 files][274.7 MiB/274.7 MiB]                                                \n",
      "Operation completed over 1 objects/274.7 MiB.                                    \n"
     ]
    },
    {
     "name": "stdout",
     "output_type": "stream",
     "text": [
      "5 iaextracted/books-08cc1cadac9047f797ad38080ec4240d-000005-lines.tar\n",
      "# gsutil cp iaextracted/books-08cc1cadac9047f797ad38080ec4240d-000005-lines.tar gs://ocro-iaa-sample/lines/lines-000005.tar\n"
     ]
    },
    {
     "name": "stderr",
     "output_type": "stream",
     "text": [
      "Copying file://iaextracted/books-08cc1cadac9047f797ad38080ec4240d-000005-lines.tar [Content-Type=application/x-tar]...\n",
      "==> NOTE: You are uploading one or more large file(s), which would run          \n",
      "significantly faster if you enable parallel composite uploads. This\n",
      "feature can be enabled by editing the\n",
      "\"parallel_composite_upload_threshold\" value in your .boto\n",
      "configuration file. However, note that if you do this large files will\n",
      "be uploaded as `composite objects\n",
      "<https://cloud.google.com/storage/docs/composite-objects>`_,which\n",
      "means that any user who downloads such objects will need to have a\n",
      "compiled crcmod installed (see \"gsutil help crcmod\"). This is because\n",
      "without a compiled crcmod, computing checksums on composite objects is\n",
      "so slow that gsutil disables downloads of composite objects.\n",
      "\n",
      "/ [1 files][191.8 MiB/191.8 MiB]                                                \n",
      "Operation completed over 1 objects/191.8 MiB.                                    \n"
     ]
    },
    {
     "name": "stdout",
     "output_type": "stream",
     "text": [
      "6 iaextracted/books-08cc1cadac9047f797ad38080ec4240d-000006-lines.tar\n",
      "# gsutil cp iaextracted/books-08cc1cadac9047f797ad38080ec4240d-000006-lines.tar gs://ocro-iaa-sample/lines/lines-000006.tar\n"
     ]
    },
    {
     "name": "stderr",
     "output_type": "stream",
     "text": [
      "Copying file://iaextracted/books-08cc1cadac9047f797ad38080ec4240d-000006-lines.tar [Content-Type=application/x-tar]...\n",
      "- [1 files][104.1 MiB/104.1 MiB]                                                \n",
      "Operation completed over 1 objects/104.1 MiB.                                    \n"
     ]
    },
    {
     "name": "stdout",
     "output_type": "stream",
     "text": [
      "7 iaextracted/books-08cc1cadac9047f797ad38080ec4240d-000007-lines.tar\n",
      "# gsutil cp iaextracted/books-08cc1cadac9047f797ad38080ec4240d-000007-lines.tar gs://ocro-iaa-sample/lines/lines-000007.tar\n"
     ]
    },
    {
     "name": "stderr",
     "output_type": "stream",
     "text": [
      "Copying file://iaextracted/books-08cc1cadac9047f797ad38080ec4240d-000007-lines.tar [Content-Type=application/x-tar]...\n",
      "==> NOTE: You are uploading one or more large file(s), which would run          \n",
      "significantly faster if you enable parallel composite uploads. This\n",
      "feature can be enabled by editing the\n",
      "\"parallel_composite_upload_threshold\" value in your .boto\n",
      "configuration file. However, note that if you do this large files will\n",
      "be uploaded as `composite objects\n",
      "<https://cloud.google.com/storage/docs/composite-objects>`_,which\n",
      "means that any user who downloads such objects will need to have a\n",
      "compiled crcmod installed (see \"gsutil help crcmod\"). This is because\n",
      "without a compiled crcmod, computing checksums on composite objects is\n",
      "so slow that gsutil disables downloads of composite objects.\n",
      "\n",
      "/ [1 files][206.6 MiB/206.6 MiB]                                                \n",
      "Operation completed over 1 objects/206.6 MiB.                                    \n"
     ]
    },
    {
     "name": "stdout",
     "output_type": "stream",
     "text": [
      "8 iaextracted/books-08cc1cadac9047f797ad38080ec4240d-000008-lines.tar\n",
      "# gsutil cp iaextracted/books-08cc1cadac9047f797ad38080ec4240d-000008-lines.tar gs://ocro-iaa-sample/lines/lines-000008.tar\n"
     ]
    },
    {
     "name": "stderr",
     "output_type": "stream",
     "text": [
      "Copying file://iaextracted/books-08cc1cadac9047f797ad38080ec4240d-000008-lines.tar [Content-Type=application/x-tar]...\n",
      "/ [1 files][ 29.0 MiB/ 29.0 MiB]                                                \n",
      "Operation completed over 1 objects/29.0 MiB.                                     \n"
     ]
    },
    {
     "name": "stdout",
     "output_type": "stream",
     "text": [
      "9 iaextracted/books-08cc1cadac9047f797ad38080ec4240d-000009-lines.tar\n",
      "# gsutil cp iaextracted/books-08cc1cadac9047f797ad38080ec4240d-000009-lines.tar gs://ocro-iaa-sample/lines/lines-000009.tar\n"
     ]
    },
    {
     "name": "stderr",
     "output_type": "stream",
     "text": [
      "Copying file://iaextracted/books-08cc1cadac9047f797ad38080ec4240d-000009-lines.tar [Content-Type=application/x-tar]...\n",
      "\\ [1 files][129.2 MiB/129.2 MiB]                                                \n",
      "Operation completed over 1 objects/129.2 MiB.                                    \n"
     ]
    },
    {
     "name": "stdout",
     "output_type": "stream",
     "text": [
      "10 iaextracted/books-08cc1cadac9047f797ad38080ec4240d-000010-lines.tar\n",
      "# gsutil cp iaextracted/books-08cc1cadac9047f797ad38080ec4240d-000010-lines.tar gs://ocro-iaa-sample/lines/lines-000010.tar\n"
     ]
    },
    {
     "name": "stderr",
     "output_type": "stream",
     "text": [
      "Copying file://iaextracted/books-08cc1cadac9047f797ad38080ec4240d-000010-lines.tar [Content-Type=application/x-tar]...\n",
      "==> NOTE: You are uploading one or more large file(s), which would run          \n",
      "significantly faster if you enable parallel composite uploads. This\n",
      "feature can be enabled by editing the\n",
      "\"parallel_composite_upload_threshold\" value in your .boto\n",
      "configuration file. However, note that if you do this large files will\n",
      "be uploaded as `composite objects\n",
      "<https://cloud.google.com/storage/docs/composite-objects>`_,which\n",
      "means that any user who downloads such objects will need to have a\n",
      "compiled crcmod installed (see \"gsutil help crcmod\"). This is because\n",
      "without a compiled crcmod, computing checksums on composite objects is\n",
      "so slow that gsutil disables downloads of composite objects.\n",
      "\n",
      "| [1 files][229.3 MiB/229.3 MiB]                                                \n",
      "Operation completed over 1 objects/229.3 MiB.                                    \n"
     ]
    },
    {
     "name": "stdout",
     "output_type": "stream",
     "text": [
      "11 iaextracted/books-08cc1cadac9047f797ad38080ec4240d-000011-lines.tar\n",
      "# gsutil cp iaextracted/books-08cc1cadac9047f797ad38080ec4240d-000011-lines.tar gs://ocro-iaa-sample/lines/lines-000011.tar\n"
     ]
    },
    {
     "name": "stderr",
     "output_type": "stream",
     "text": [
      "Copying file://iaextracted/books-08cc1cadac9047f797ad38080ec4240d-000011-lines.tar [Content-Type=application/x-tar]...\n",
      "==> NOTE: You are uploading one or more large file(s), which would run          \n",
      "significantly faster if you enable parallel composite uploads. This\n",
      "feature can be enabled by editing the\n",
      "\"parallel_composite_upload_threshold\" value in your .boto\n",
      "configuration file. However, note that if you do this large files will\n",
      "be uploaded as `composite objects\n",
      "<https://cloud.google.com/storage/docs/composite-objects>`_,which\n",
      "means that any user who downloads such objects will need to have a\n",
      "compiled crcmod installed (see \"gsutil help crcmod\"). This is because\n",
      "without a compiled crcmod, computing checksums on composite objects is\n",
      "so slow that gsutil disables downloads of composite objects.\n",
      "\n",
      "| [1 files][187.9 MiB/187.9 MiB]                                                \n",
      "Operation completed over 1 objects/187.9 MiB.                                    \n"
     ]
    },
    {
     "name": "stdout",
     "output_type": "stream",
     "text": [
      "12 iaextracted/books-08cc1cadac9047f797ad38080ec4240d-000012-lines.tar\n",
      "# gsutil cp iaextracted/books-08cc1cadac9047f797ad38080ec4240d-000012-lines.tar gs://ocro-iaa-sample/lines/lines-000012.tar\n"
     ]
    },
    {
     "name": "stderr",
     "output_type": "stream",
     "text": [
      "Copying file://iaextracted/books-08cc1cadac9047f797ad38080ec4240d-000012-lines.tar [Content-Type=application/x-tar]...\n",
      "==> NOTE: You are uploading one or more large file(s), which would run          \n",
      "significantly faster if you enable parallel composite uploads. This\n",
      "feature can be enabled by editing the\n",
      "\"parallel_composite_upload_threshold\" value in your .boto\n",
      "configuration file. However, note that if you do this large files will\n",
      "be uploaded as `composite objects\n",
      "<https://cloud.google.com/storage/docs/composite-objects>`_,which\n",
      "means that any user who downloads such objects will need to have a\n",
      "compiled crcmod installed (see \"gsutil help crcmod\"). This is because\n",
      "without a compiled crcmod, computing checksums on composite objects is\n",
      "so slow that gsutil disables downloads of composite objects.\n",
      "\n",
      "/ [1 files][229.5 MiB/229.5 MiB]                                                \n",
      "Operation completed over 1 objects/229.5 MiB.                                    \n"
     ]
    },
    {
     "name": "stdout",
     "output_type": "stream",
     "text": [
      "13 iaextracted/books-08cc1cadac9047f797ad38080ec4240d-000013-lines.tar\n",
      "# gsutil cp iaextracted/books-08cc1cadac9047f797ad38080ec4240d-000013-lines.tar gs://ocro-iaa-sample/lines/lines-000013.tar\n"
     ]
    },
    {
     "name": "stderr",
     "output_type": "stream",
     "text": [
      "Copying file://iaextracted/books-08cc1cadac9047f797ad38080ec4240d-000013-lines.tar [Content-Type=application/x-tar]...\n",
      "==> NOTE: You are uploading one or more large file(s), which would run          \n",
      "significantly faster if you enable parallel composite uploads. This\n",
      "feature can be enabled by editing the\n",
      "\"parallel_composite_upload_threshold\" value in your .boto\n",
      "configuration file. However, note that if you do this large files will\n",
      "be uploaded as `composite objects\n",
      "<https://cloud.google.com/storage/docs/composite-objects>`_,which\n",
      "means that any user who downloads such objects will need to have a\n",
      "compiled crcmod installed (see \"gsutil help crcmod\"). This is because\n",
      "without a compiled crcmod, computing checksums on composite objects is\n",
      "so slow that gsutil disables downloads of composite objects.\n",
      "\n",
      "| [1 files][191.1 MiB/191.1 MiB]                                                \n",
      "Operation completed over 1 objects/191.1 MiB.                                    \n"
     ]
    },
    {
     "name": "stdout",
     "output_type": "stream",
     "text": [
      "14 iaextracted/books-08cc1cadac9047f797ad38080ec4240d-000014-lines.tar\n",
      "# gsutil cp iaextracted/books-08cc1cadac9047f797ad38080ec4240d-000014-lines.tar gs://ocro-iaa-sample/lines/lines-000014.tar\n"
     ]
    },
    {
     "name": "stderr",
     "output_type": "stream",
     "text": [
      "Copying file://iaextracted/books-08cc1cadac9047f797ad38080ec4240d-000014-lines.tar [Content-Type=application/x-tar]...\n",
      "==> NOTE: You are uploading one or more large file(s), which would run          \n",
      "significantly faster if you enable parallel composite uploads. This\n",
      "feature can be enabled by editing the\n",
      "\"parallel_composite_upload_threshold\" value in your .boto\n",
      "configuration file. However, note that if you do this large files will\n",
      "be uploaded as `composite objects\n",
      "<https://cloud.google.com/storage/docs/composite-objects>`_,which\n",
      "means that any user who downloads such objects will need to have a\n",
      "compiled crcmod installed (see \"gsutil help crcmod\"). This is because\n",
      "without a compiled crcmod, computing checksums on composite objects is\n",
      "so slow that gsutil disables downloads of composite objects.\n",
      "\n",
      "| [1 files][162.4 MiB/162.4 MiB]                                                \n",
      "Operation completed over 1 objects/162.4 MiB.                                    \n"
     ]
    },
    {
     "name": "stdout",
     "output_type": "stream",
     "text": [
      "15 iaextracted/books-08cc1cadac9047f797ad38080ec4240d-000015-lines.tar\n",
      "# gsutil cp iaextracted/books-08cc1cadac9047f797ad38080ec4240d-000015-lines.tar gs://ocro-iaa-sample/lines/lines-000015.tar\n"
     ]
    },
    {
     "name": "stderr",
     "output_type": "stream",
     "text": [
      "Copying file://iaextracted/books-08cc1cadac9047f797ad38080ec4240d-000015-lines.tar [Content-Type=application/x-tar]...\n",
      "\\ [1 files][104.7 MiB/104.7 MiB]                                                \n",
      "Operation completed over 1 objects/104.7 MiB.                                    \n"
     ]
    },
    {
     "name": "stdout",
     "output_type": "stream",
     "text": [
      "16 iaextracted/books-08cc1cadac9047f797ad38080ec4240d-000016-lines.tar\n",
      "# gsutil cp iaextracted/books-08cc1cadac9047f797ad38080ec4240d-000016-lines.tar gs://ocro-iaa-sample/lines/lines-000016.tar\n"
     ]
    },
    {
     "name": "stderr",
     "output_type": "stream",
     "text": [
      "Copying file://iaextracted/books-08cc1cadac9047f797ad38080ec4240d-000016-lines.tar [Content-Type=application/x-tar]...\n",
      "==> NOTE: You are uploading one or more large file(s), which would run          \n",
      "significantly faster if you enable parallel composite uploads. This\n",
      "feature can be enabled by editing the\n",
      "\"parallel_composite_upload_threshold\" value in your .boto\n",
      "configuration file. However, note that if you do this large files will\n",
      "be uploaded as `composite objects\n",
      "<https://cloud.google.com/storage/docs/composite-objects>`_,which\n",
      "means that any user who downloads such objects will need to have a\n",
      "compiled crcmod installed (see \"gsutil help crcmod\"). This is because\n",
      "without a compiled crcmod, computing checksums on composite objects is\n",
      "so slow that gsutil disables downloads of composite objects.\n",
      "\n",
      "| [1 files][176.7 MiB/176.7 MiB]                                                \n",
      "Operation completed over 1 objects/176.7 MiB.                                    \n"
     ]
    },
    {
     "name": "stdout",
     "output_type": "stream",
     "text": [
      "17 iaextracted/books-08cc1cadac9047f797ad38080ec4240d-000017-lines.tar\n",
      "# gsutil cp iaextracted/books-08cc1cadac9047f797ad38080ec4240d-000017-lines.tar gs://ocro-iaa-sample/lines/lines-000017.tar\n"
     ]
    },
    {
     "name": "stderr",
     "output_type": "stream",
     "text": [
      "Copying file://iaextracted/books-08cc1cadac9047f797ad38080ec4240d-000017-lines.tar [Content-Type=application/x-tar]...\n",
      "==> NOTE: You are uploading one or more large file(s), which would run          \n",
      "significantly faster if you enable parallel composite uploads. This\n",
      "feature can be enabled by editing the\n",
      "\"parallel_composite_upload_threshold\" value in your .boto\n",
      "configuration file. However, note that if you do this large files will\n",
      "be uploaded as `composite objects\n",
      "<https://cloud.google.com/storage/docs/composite-objects>`_,which\n",
      "means that any user who downloads such objects will need to have a\n",
      "compiled crcmod installed (see \"gsutil help crcmod\"). This is because\n",
      "without a compiled crcmod, computing checksums on composite objects is\n",
      "so slow that gsutil disables downloads of composite objects.\n",
      "\n",
      "/ [1 files][239.7 MiB/239.7 MiB]                                                \n",
      "Operation completed over 1 objects/239.7 MiB.                                    \n"
     ]
    },
    {
     "name": "stdout",
     "output_type": "stream",
     "text": [
      "18 iaextracted/books-08cc1cadac9047f797ad38080ec4240d-000018-lines.tar\n",
      "# gsutil cp iaextracted/books-08cc1cadac9047f797ad38080ec4240d-000018-lines.tar gs://ocro-iaa-sample/lines/lines-000018.tar\n"
     ]
    },
    {
     "name": "stderr",
     "output_type": "stream",
     "text": [
      "Copying file://iaextracted/books-08cc1cadac9047f797ad38080ec4240d-000018-lines.tar [Content-Type=application/x-tar]...\n",
      "==> NOTE: You are uploading one or more large file(s), which would run          \n",
      "significantly faster if you enable parallel composite uploads. This\n",
      "feature can be enabled by editing the\n",
      "\"parallel_composite_upload_threshold\" value in your .boto\n",
      "configuration file. However, note that if you do this large files will\n",
      "be uploaded as `composite objects\n",
      "<https://cloud.google.com/storage/docs/composite-objects>`_,which\n",
      "means that any user who downloads such objects will need to have a\n",
      "compiled crcmod installed (see \"gsutil help crcmod\"). This is because\n",
      "without a compiled crcmod, computing checksums on composite objects is\n",
      "so slow that gsutil disables downloads of composite objects.\n",
      "\n",
      "/ [1 files][237.3 MiB/237.3 MiB]                                                \n",
      "Operation completed over 1 objects/237.3 MiB.                                    \n"
     ]
    },
    {
     "name": "stdout",
     "output_type": "stream",
     "text": [
      "19 iaextracted/books-08cc1cadac9047f797ad38080ec4240d-000019-lines.tar\n",
      "# gsutil cp iaextracted/books-08cc1cadac9047f797ad38080ec4240d-000019-lines.tar gs://ocro-iaa-sample/lines/lines-000019.tar\n"
     ]
    },
    {
     "name": "stderr",
     "output_type": "stream",
     "text": [
      "Copying file://iaextracted/books-08cc1cadac9047f797ad38080ec4240d-000019-lines.tar [Content-Type=application/x-tar]...\n",
      "- [1 files][ 90.0 MiB/ 90.0 MiB]                                                \n",
      "Operation completed over 1 objects/90.0 MiB.                                     \n"
     ]
    },
    {
     "name": "stdout",
     "output_type": "stream",
     "text": [
      "20 iaextracted/books-08cc1cadac9047f797ad38080ec4240d-000020-lines.tar\n",
      "# gsutil cp iaextracted/books-08cc1cadac9047f797ad38080ec4240d-000020-lines.tar gs://ocro-iaa-sample/lines/lines-000020.tar\n"
     ]
    },
    {
     "name": "stderr",
     "output_type": "stream",
     "text": [
      "Copying file://iaextracted/books-08cc1cadac9047f797ad38080ec4240d-000020-lines.tar [Content-Type=application/x-tar]...\n",
      "==> NOTE: You are uploading one or more large file(s), which would run          \n",
      "significantly faster if you enable parallel composite uploads. This\n",
      "feature can be enabled by editing the\n",
      "\"parallel_composite_upload_threshold\" value in your .boto\n",
      "configuration file. However, note that if you do this large files will\n",
      "be uploaded as `composite objects\n",
      "<https://cloud.google.com/storage/docs/composite-objects>`_,which\n",
      "means that any user who downloads such objects will need to have a\n",
      "compiled crcmod installed (see \"gsutil help crcmod\"). This is because\n",
      "without a compiled crcmod, computing checksums on composite objects is\n",
      "so slow that gsutil disables downloads of composite objects.\n",
      "\n",
      "/ [1 files][272.3 MiB/272.3 MiB]                                                \n",
      "Operation completed over 1 objects/272.3 MiB.                                    \n"
     ]
    },
    {
     "name": "stdout",
     "output_type": "stream",
     "text": [
      "21 iaextracted/books-08cc1cadac9047f797ad38080ec4240d-000021-lines.tar\n",
      "# gsutil cp iaextracted/books-08cc1cadac9047f797ad38080ec4240d-000021-lines.tar gs://ocro-iaa-sample/lines/lines-000021.tar\n"
     ]
    },
    {
     "name": "stderr",
     "output_type": "stream",
     "text": [
      "Copying file://iaextracted/books-08cc1cadac9047f797ad38080ec4240d-000021-lines.tar [Content-Type=application/x-tar]...\n",
      "==> NOTE: You are uploading one or more large file(s), which would run          \n",
      "significantly faster if you enable parallel composite uploads. This\n",
      "feature can be enabled by editing the\n",
      "\"parallel_composite_upload_threshold\" value in your .boto\n",
      "configuration file. However, note that if you do this large files will\n",
      "be uploaded as `composite objects\n",
      "<https://cloud.google.com/storage/docs/composite-objects>`_,which\n",
      "means that any user who downloads such objects will need to have a\n",
      "compiled crcmod installed (see \"gsutil help crcmod\"). This is because\n",
      "without a compiled crcmod, computing checksums on composite objects is\n",
      "so slow that gsutil disables downloads of composite objects.\n",
      "\n",
      "- [1 files][316.2 MiB/316.2 MiB]                                                \n",
      "Operation completed over 1 objects/316.2 MiB.                                    \n"
     ]
    },
    {
     "name": "stdout",
     "output_type": "stream",
     "text": [
      "22 iaextracted/books-08cc1cadac9047f797ad38080ec4240d-000022-lines.tar\n",
      "# gsutil cp iaextracted/books-08cc1cadac9047f797ad38080ec4240d-000022-lines.tar gs://ocro-iaa-sample/lines/lines-000022.tar\n"
     ]
    },
    {
     "name": "stderr",
     "output_type": "stream",
     "text": [
      "Copying file://iaextracted/books-08cc1cadac9047f797ad38080ec4240d-000022-lines.tar [Content-Type=application/x-tar]...\n",
      "==> NOTE: You are uploading one or more large file(s), which would run          \n",
      "significantly faster if you enable parallel composite uploads. This\n",
      "feature can be enabled by editing the\n",
      "\"parallel_composite_upload_threshold\" value in your .boto\n",
      "configuration file. However, note that if you do this large files will\n",
      "be uploaded as `composite objects\n",
      "<https://cloud.google.com/storage/docs/composite-objects>`_,which\n",
      "means that any user who downloads such objects will need to have a\n",
      "compiled crcmod installed (see \"gsutil help crcmod\"). This is because\n",
      "without a compiled crcmod, computing checksums on composite objects is\n",
      "so slow that gsutil disables downloads of composite objects.\n",
      "\n",
      "\\ [1 files][167.6 MiB/167.6 MiB]                                                \n",
      "Operation completed over 1 objects/167.6 MiB.                                    \n"
     ]
    },
    {
     "name": "stdout",
     "output_type": "stream",
     "text": [
      "23 iaextracted/books-08cc1cadac9047f797ad38080ec4240d-000023-lines.tar\n",
      "# gsutil cp iaextracted/books-08cc1cadac9047f797ad38080ec4240d-000023-lines.tar gs://ocro-iaa-sample/lines/lines-000023.tar\n"
     ]
    },
    {
     "name": "stderr",
     "output_type": "stream",
     "text": [
      "Copying file://iaextracted/books-08cc1cadac9047f797ad38080ec4240d-000023-lines.tar [Content-Type=application/x-tar]...\n",
      "==> NOTE: You are uploading one or more large file(s), which would run          \n",
      "significantly faster if you enable parallel composite uploads. This\n",
      "feature can be enabled by editing the\n",
      "\"parallel_composite_upload_threshold\" value in your .boto\n",
      "configuration file. However, note that if you do this large files will\n",
      "be uploaded as `composite objects\n",
      "<https://cloud.google.com/storage/docs/composite-objects>`_,which\n",
      "means that any user who downloads such objects will need to have a\n",
      "compiled crcmod installed (see \"gsutil help crcmod\"). This is because\n",
      "without a compiled crcmod, computing checksums on composite objects is\n",
      "so slow that gsutil disables downloads of composite objects.\n",
      "\n",
      "- [1 files][325.2 MiB/325.2 MiB]                                                \n",
      "Operation completed over 1 objects/325.2 MiB.                                    \n"
     ]
    },
    {
     "name": "stdout",
     "output_type": "stream",
     "text": [
      "24 iaextracted/books-08cc1cadac9047f797ad38080ec4240d-000024-lines.tar\n",
      "# gsutil cp iaextracted/books-08cc1cadac9047f797ad38080ec4240d-000024-lines.tar gs://ocro-iaa-sample/lines/lines-000024.tar\n"
     ]
    },
    {
     "name": "stderr",
     "output_type": "stream",
     "text": [
      "Copying file://iaextracted/books-08cc1cadac9047f797ad38080ec4240d-000024-lines.tar [Content-Type=application/x-tar]...\n",
      "==> NOTE: You are uploading one or more large file(s), which would run          \n",
      "significantly faster if you enable parallel composite uploads. This\n",
      "feature can be enabled by editing the\n",
      "\"parallel_composite_upload_threshold\" value in your .boto\n",
      "configuration file. However, note that if you do this large files will\n",
      "be uploaded as `composite objects\n",
      "<https://cloud.google.com/storage/docs/composite-objects>`_,which\n",
      "means that any user who downloads such objects will need to have a\n",
      "compiled crcmod installed (see \"gsutil help crcmod\"). This is because\n",
      "without a compiled crcmod, computing checksums on composite objects is\n",
      "so slow that gsutil disables downloads of composite objects.\n",
      "\n",
      "\\ [1 files][156.7 MiB/156.7 MiB]                                                \n",
      "Operation completed over 1 objects/156.7 MiB.                                    \n"
     ]
    },
    {
     "name": "stdout",
     "output_type": "stream",
     "text": [
      "25 iaextracted/books-08cc1cadac9047f797ad38080ec4240d-000025-lines.tar\n",
      "# gsutil cp iaextracted/books-08cc1cadac9047f797ad38080ec4240d-000025-lines.tar gs://ocro-iaa-sample/lines/lines-000025.tar\n"
     ]
    },
    {
     "name": "stderr",
     "output_type": "stream",
     "text": [
      "Copying file://iaextracted/books-08cc1cadac9047f797ad38080ec4240d-000025-lines.tar [Content-Type=application/x-tar]...\n",
      "==> NOTE: You are uploading one or more large file(s), which would run          \n",
      "significantly faster if you enable parallel composite uploads. This\n",
      "feature can be enabled by editing the\n",
      "\"parallel_composite_upload_threshold\" value in your .boto\n",
      "configuration file. However, note that if you do this large files will\n",
      "be uploaded as `composite objects\n",
      "<https://cloud.google.com/storage/docs/composite-objects>`_,which\n",
      "means that any user who downloads such objects will need to have a\n",
      "compiled crcmod installed (see \"gsutil help crcmod\"). This is because\n",
      "without a compiled crcmod, computing checksums on composite objects is\n",
      "so slow that gsutil disables downloads of composite objects.\n",
      "\n",
      "- [1 files][276.2 MiB/276.2 MiB]                                                \n",
      "Operation completed over 1 objects/276.2 MiB.                                    \n"
     ]
    },
    {
     "name": "stdout",
     "output_type": "stream",
     "text": [
      "26 iaextracted/books-08cc1cadac9047f797ad38080ec4240d-000026-lines.tar\n",
      "# gsutil cp iaextracted/books-08cc1cadac9047f797ad38080ec4240d-000026-lines.tar gs://ocro-iaa-sample/lines/lines-000026.tar\n"
     ]
    },
    {
     "name": "stderr",
     "output_type": "stream",
     "text": [
      "Copying file://iaextracted/books-08cc1cadac9047f797ad38080ec4240d-000026-lines.tar [Content-Type=application/x-tar]...\n",
      "==> NOTE: You are uploading one or more large file(s), which would run          \n",
      "significantly faster if you enable parallel composite uploads. This\n",
      "feature can be enabled by editing the\n",
      "\"parallel_composite_upload_threshold\" value in your .boto\n",
      "configuration file. However, note that if you do this large files will\n",
      "be uploaded as `composite objects\n",
      "<https://cloud.google.com/storage/docs/composite-objects>`_,which\n",
      "means that any user who downloads such objects will need to have a\n",
      "compiled crcmod installed (see \"gsutil help crcmod\"). This is because\n",
      "without a compiled crcmod, computing checksums on composite objects is\n",
      "so slow that gsutil disables downloads of composite objects.\n",
      "\n",
      "- [1 files][314.4 MiB/314.4 MiB]                                                \n",
      "Operation completed over 1 objects/314.4 MiB.                                    \n"
     ]
    },
    {
     "name": "stdout",
     "output_type": "stream",
     "text": [
      "27 iaextracted/books-08cc1cadac9047f797ad38080ec4240d-000027-lines.tar\n",
      "# gsutil cp iaextracted/books-08cc1cadac9047f797ad38080ec4240d-000027-lines.tar gs://ocro-iaa-sample/lines/lines-000027.tar\n"
     ]
    },
    {
     "name": "stderr",
     "output_type": "stream",
     "text": [
      "Copying file://iaextracted/books-08cc1cadac9047f797ad38080ec4240d-000027-lines.tar [Content-Type=application/x-tar]...\n",
      "==> NOTE: You are uploading one or more large file(s), which would run          \n",
      "significantly faster if you enable parallel composite uploads. This\n",
      "feature can be enabled by editing the\n",
      "\"parallel_composite_upload_threshold\" value in your .boto\n",
      "configuration file. However, note that if you do this large files will\n",
      "be uploaded as `composite objects\n",
      "<https://cloud.google.com/storage/docs/composite-objects>`_,which\n",
      "means that any user who downloads such objects will need to have a\n",
      "compiled crcmod installed (see \"gsutil help crcmod\"). This is because\n",
      "without a compiled crcmod, computing checksums on composite objects is\n",
      "so slow that gsutil disables downloads of composite objects.\n",
      "\n",
      "\\ [1 files][307.0 MiB/307.0 MiB]                                                \n",
      "Operation completed over 1 objects/307.0 MiB.                                    \n"
     ]
    },
    {
     "name": "stdout",
     "output_type": "stream",
     "text": [
      "28 iaextracted/books-08cc1cadac9047f797ad38080ec4240d-000028-lines.tar\n",
      "# gsutil cp iaextracted/books-08cc1cadac9047f797ad38080ec4240d-000028-lines.tar gs://ocro-iaa-sample/lines/lines-000028.tar\n"
     ]
    },
    {
     "name": "stderr",
     "output_type": "stream",
     "text": [
      "Copying file://iaextracted/books-08cc1cadac9047f797ad38080ec4240d-000028-lines.tar [Content-Type=application/x-tar]...\n",
      "==> NOTE: You are uploading one or more large file(s), which would run          \n",
      "significantly faster if you enable parallel composite uploads. This\n",
      "feature can be enabled by editing the\n",
      "\"parallel_composite_upload_threshold\" value in your .boto\n",
      "configuration file. However, note that if you do this large files will\n",
      "be uploaded as `composite objects\n",
      "<https://cloud.google.com/storage/docs/composite-objects>`_,which\n",
      "means that any user who downloads such objects will need to have a\n",
      "compiled crcmod installed (see \"gsutil help crcmod\"). This is because\n",
      "without a compiled crcmod, computing checksums on composite objects is\n",
      "so slow that gsutil disables downloads of composite objects.\n",
      "\n",
      "| [1 files][203.6 MiB/203.6 MiB]                                                \n",
      "Operation completed over 1 objects/203.6 MiB.                                    \n"
     ]
    },
    {
     "name": "stdout",
     "output_type": "stream",
     "text": [
      "29 iaextracted/books-08cc1cadac9047f797ad38080ec4240d-000029-lines.tar\n",
      "# gsutil cp iaextracted/books-08cc1cadac9047f797ad38080ec4240d-000029-lines.tar gs://ocro-iaa-sample/lines/lines-000029.tar\n"
     ]
    },
    {
     "name": "stderr",
     "output_type": "stream",
     "text": [
      "Copying file://iaextracted/books-08cc1cadac9047f797ad38080ec4240d-000029-lines.tar [Content-Type=application/x-tar]...\n",
      "==> NOTE: You are uploading one or more large file(s), which would run          \n",
      "significantly faster if you enable parallel composite uploads. This\n",
      "feature can be enabled by editing the\n",
      "\"parallel_composite_upload_threshold\" value in your .boto\n",
      "configuration file. However, note that if you do this large files will\n",
      "be uploaded as `composite objects\n",
      "<https://cloud.google.com/storage/docs/composite-objects>`_,which\n",
      "means that any user who downloads such objects will need to have a\n",
      "compiled crcmod installed (see \"gsutil help crcmod\"). This is because\n",
      "without a compiled crcmod, computing checksums on composite objects is\n",
      "so slow that gsutil disables downloads of composite objects.\n",
      "\n",
      "| [1 files][186.8 MiB/186.8 MiB]                                                \n",
      "Operation completed over 1 objects/186.8 MiB.                                    \n"
     ]
    },
    {
     "name": "stdout",
     "output_type": "stream",
     "text": [
      "30 iaextracted/books-08cc1cadac9047f797ad38080ec4240d-000030-lines.tar\n",
      "# gsutil cp iaextracted/books-08cc1cadac9047f797ad38080ec4240d-000030-lines.tar gs://ocro-iaa-sample/lines/lines-000030.tar\n"
     ]
    },
    {
     "name": "stderr",
     "output_type": "stream",
     "text": [
      "Copying file://iaextracted/books-08cc1cadac9047f797ad38080ec4240d-000030-lines.tar [Content-Type=application/x-tar]...\n",
      "==> NOTE: You are uploading one or more large file(s), which would run          \n",
      "significantly faster if you enable parallel composite uploads. This\n",
      "feature can be enabled by editing the\n",
      "\"parallel_composite_upload_threshold\" value in your .boto\n",
      "configuration file. However, note that if you do this large files will\n",
      "be uploaded as `composite objects\n",
      "<https://cloud.google.com/storage/docs/composite-objects>`_,which\n",
      "means that any user who downloads such objects will need to have a\n",
      "compiled crcmod installed (see \"gsutil help crcmod\"). This is because\n",
      "without a compiled crcmod, computing checksums on composite objects is\n",
      "so slow that gsutil disables downloads of composite objects.\n",
      "\n",
      "- [1 files][311.6 MiB/311.6 MiB]                                                \n",
      "Operation completed over 1 objects/311.6 MiB.                                    \n"
     ]
    },
    {
     "name": "stdout",
     "output_type": "stream",
     "text": [
      "31 iaextracted/books-08cc1cadac9047f797ad38080ec4240d-000031-lines.tar\n",
      "# gsutil cp iaextracted/books-08cc1cadac9047f797ad38080ec4240d-000031-lines.tar gs://ocro-iaa-sample/lines/lines-000031.tar\n"
     ]
    },
    {
     "name": "stderr",
     "output_type": "stream",
     "text": [
      "Copying file://iaextracted/books-08cc1cadac9047f797ad38080ec4240d-000031-lines.tar [Content-Type=application/x-tar]...\n",
      "==> NOTE: You are uploading one or more large file(s), which would run          \n",
      "significantly faster if you enable parallel composite uploads. This\n",
      "feature can be enabled by editing the\n",
      "\"parallel_composite_upload_threshold\" value in your .boto\n",
      "configuration file. However, note that if you do this large files will\n",
      "be uploaded as `composite objects\n",
      "<https://cloud.google.com/storage/docs/composite-objects>`_,which\n",
      "means that any user who downloads such objects will need to have a\n",
      "compiled crcmod installed (see \"gsutil help crcmod\"). This is because\n",
      "without a compiled crcmod, computing checksums on composite objects is\n",
      "so slow that gsutil disables downloads of composite objects.\n",
      "\n",
      "| [1 files][226.4 MiB/226.4 MiB]                                                \n",
      "Operation completed over 1 objects/226.4 MiB.                                    \n"
     ]
    },
    {
     "name": "stdout",
     "output_type": "stream",
     "text": [
      "32 iaextracted/books-08cc1cadac9047f797ad38080ec4240d-000032-lines.tar\n",
      "# gsutil cp iaextracted/books-08cc1cadac9047f797ad38080ec4240d-000032-lines.tar gs://ocro-iaa-sample/lines/lines-000032.tar\n"
     ]
    },
    {
     "name": "stderr",
     "output_type": "stream",
     "text": [
      "Copying file://iaextracted/books-08cc1cadac9047f797ad38080ec4240d-000032-lines.tar [Content-Type=application/x-tar]...\n",
      "==> NOTE: You are uploading one or more large file(s), which would run          \n",
      "significantly faster if you enable parallel composite uploads. This\n",
      "feature can be enabled by editing the\n",
      "\"parallel_composite_upload_threshold\" value in your .boto\n",
      "configuration file. However, note that if you do this large files will\n",
      "be uploaded as `composite objects\n",
      "<https://cloud.google.com/storage/docs/composite-objects>`_,which\n",
      "means that any user who downloads such objects will need to have a\n",
      "compiled crcmod installed (see \"gsutil help crcmod\"). This is because\n",
      "without a compiled crcmod, computing checksums on composite objects is\n",
      "so slow that gsutil disables downloads of composite objects.\n",
      "\n",
      "- [1 files][333.3 MiB/333.3 MiB]                                                \n",
      "Operation completed over 1 objects/333.3 MiB.                                    \n"
     ]
    },
    {
     "name": "stdout",
     "output_type": "stream",
     "text": [
      "33 iaextracted/books-08cc1cadac9047f797ad38080ec4240d-000033-lines.tar\n",
      "# gsutil cp iaextracted/books-08cc1cadac9047f797ad38080ec4240d-000033-lines.tar gs://ocro-iaa-sample/lines/lines-000033.tar\n"
     ]
    },
    {
     "name": "stderr",
     "output_type": "stream",
     "text": [
      "Copying file://iaextracted/books-08cc1cadac9047f797ad38080ec4240d-000033-lines.tar [Content-Type=application/x-tar]...\n",
      "==> NOTE: You are uploading one or more large file(s), which would run          \n",
      "significantly faster if you enable parallel composite uploads. This\n",
      "feature can be enabled by editing the\n",
      "\"parallel_composite_upload_threshold\" value in your .boto\n",
      "configuration file. However, note that if you do this large files will\n",
      "be uploaded as `composite objects\n",
      "<https://cloud.google.com/storage/docs/composite-objects>`_,which\n",
      "means that any user who downloads such objects will need to have a\n",
      "compiled crcmod installed (see \"gsutil help crcmod\"). This is because\n",
      "without a compiled crcmod, computing checksums on composite objects is\n",
      "so slow that gsutil disables downloads of composite objects.\n",
      "\n",
      "\\ [1 files][156.0 MiB/156.0 MiB]                                                \n",
      "Operation completed over 1 objects/156.0 MiB.                                    \n"
     ]
    },
    {
     "name": "stdout",
     "output_type": "stream",
     "text": [
      "34 iaextracted/books-08cc1cadac9047f797ad38080ec4240d-000034-lines.tar\n",
      "# gsutil cp iaextracted/books-08cc1cadac9047f797ad38080ec4240d-000034-lines.tar gs://ocro-iaa-sample/lines/lines-000034.tar\n"
     ]
    },
    {
     "name": "stderr",
     "output_type": "stream",
     "text": [
      "Copying file://iaextracted/books-08cc1cadac9047f797ad38080ec4240d-000034-lines.tar [Content-Type=application/x-tar]...\n",
      "==> NOTE: You are uploading one or more large file(s), which would run          \n",
      "significantly faster if you enable parallel composite uploads. This\n",
      "feature can be enabled by editing the\n",
      "\"parallel_composite_upload_threshold\" value in your .boto\n",
      "configuration file. However, note that if you do this large files will\n",
      "be uploaded as `composite objects\n",
      "<https://cloud.google.com/storage/docs/composite-objects>`_,which\n",
      "means that any user who downloads such objects will need to have a\n",
      "compiled crcmod installed (see \"gsutil help crcmod\"). This is because\n",
      "without a compiled crcmod, computing checksums on composite objects is\n",
      "so slow that gsutil disables downloads of composite objects.\n",
      "\n",
      "- [1 files][250.4 MiB/250.4 MiB]                                                \n",
      "Operation completed over 1 objects/250.4 MiB.                                    \n"
     ]
    },
    {
     "name": "stdout",
     "output_type": "stream",
     "text": [
      "35 iaextracted/books-08cc1cadac9047f797ad38080ec4240d-000035-lines.tar\n",
      "# gsutil cp iaextracted/books-08cc1cadac9047f797ad38080ec4240d-000035-lines.tar gs://ocro-iaa-sample/lines/lines-000035.tar\n"
     ]
    },
    {
     "name": "stderr",
     "output_type": "stream",
     "text": [
      "Copying file://iaextracted/books-08cc1cadac9047f797ad38080ec4240d-000035-lines.tar [Content-Type=application/x-tar]...\n",
      "==> NOTE: You are uploading one or more large file(s), which would run          \n",
      "significantly faster if you enable parallel composite uploads. This\n",
      "feature can be enabled by editing the\n",
      "\"parallel_composite_upload_threshold\" value in your .boto\n",
      "configuration file. However, note that if you do this large files will\n",
      "be uploaded as `composite objects\n",
      "<https://cloud.google.com/storage/docs/composite-objects>`_,which\n",
      "means that any user who downloads such objects will need to have a\n",
      "compiled crcmod installed (see \"gsutil help crcmod\"). This is because\n",
      "without a compiled crcmod, computing checksums on composite objects is\n",
      "so slow that gsutil disables downloads of composite objects.\n",
      "\n",
      "- [1 files][286.6 MiB/286.6 MiB]                                                \n",
      "Operation completed over 1 objects/286.6 MiB.                                    \n"
     ]
    },
    {
     "name": "stdout",
     "output_type": "stream",
     "text": [
      "36 iaextracted/books-08cc1cadac9047f797ad38080ec4240d-000036-lines.tar\n",
      "# gsutil cp iaextracted/books-08cc1cadac9047f797ad38080ec4240d-000036-lines.tar gs://ocro-iaa-sample/lines/lines-000036.tar\n"
     ]
    },
    {
     "name": "stderr",
     "output_type": "stream",
     "text": [
      "Copying file://iaextracted/books-08cc1cadac9047f797ad38080ec4240d-000036-lines.tar [Content-Type=application/x-tar]...\n",
      "==> NOTE: You are uploading one or more large file(s), which would run          \n",
      "significantly faster if you enable parallel composite uploads. This\n",
      "feature can be enabled by editing the\n",
      "\"parallel_composite_upload_threshold\" value in your .boto\n",
      "configuration file. However, note that if you do this large files will\n",
      "be uploaded as `composite objects\n",
      "<https://cloud.google.com/storage/docs/composite-objects>`_,which\n",
      "means that any user who downloads such objects will need to have a\n",
      "compiled crcmod installed (see \"gsutil help crcmod\"). This is because\n",
      "without a compiled crcmod, computing checksums on composite objects is\n",
      "so slow that gsutil disables downloads of composite objects.\n",
      "\n",
      "- [1 files][318.6 MiB/318.6 MiB]                                                \n",
      "Operation completed over 1 objects/318.6 MiB.                                    \n"
     ]
    },
    {
     "name": "stdout",
     "output_type": "stream",
     "text": [
      "37 iaextracted/books-08cc1cadac9047f797ad38080ec4240d-000037-lines.tar\n",
      "# gsutil cp iaextracted/books-08cc1cadac9047f797ad38080ec4240d-000037-lines.tar gs://ocro-iaa-sample/lines/lines-000037.tar\n"
     ]
    },
    {
     "name": "stderr",
     "output_type": "stream",
     "text": [
      "Copying file://iaextracted/books-08cc1cadac9047f797ad38080ec4240d-000037-lines.tar [Content-Type=application/x-tar]...\n",
      "==> NOTE: You are uploading one or more large file(s), which would run          \n",
      "significantly faster if you enable parallel composite uploads. This\n",
      "feature can be enabled by editing the\n",
      "\"parallel_composite_upload_threshold\" value in your .boto\n",
      "configuration file. However, note that if you do this large files will\n",
      "be uploaded as `composite objects\n",
      "<https://cloud.google.com/storage/docs/composite-objects>`_,which\n",
      "means that any user who downloads such objects will need to have a\n",
      "compiled crcmod installed (see \"gsutil help crcmod\"). This is because\n",
      "without a compiled crcmod, computing checksums on composite objects is\n",
      "so slow that gsutil disables downloads of composite objects.\n",
      "\n",
      "/ [1 files][243.0 MiB/243.0 MiB]                                                \n",
      "Operation completed over 1 objects/243.0 MiB.                                    \n"
     ]
    },
    {
     "name": "stdout",
     "output_type": "stream",
     "text": [
      "38 iaextracted/books-08cc1cadac9047f797ad38080ec4240d-000038-lines.tar\n",
      "# gsutil cp iaextracted/books-08cc1cadac9047f797ad38080ec4240d-000038-lines.tar gs://ocro-iaa-sample/lines/lines-000038.tar\n"
     ]
    },
    {
     "name": "stderr",
     "output_type": "stream",
     "text": [
      "Copying file://iaextracted/books-08cc1cadac9047f797ad38080ec4240d-000038-lines.tar [Content-Type=application/x-tar]...\n",
      "==> NOTE: You are uploading one or more large file(s), which would run          \n",
      "significantly faster if you enable parallel composite uploads. This\n",
      "feature can be enabled by editing the\n",
      "\"parallel_composite_upload_threshold\" value in your .boto\n",
      "configuration file. However, note that if you do this large files will\n",
      "be uploaded as `composite objects\n",
      "<https://cloud.google.com/storage/docs/composite-objects>`_,which\n",
      "means that any user who downloads such objects will need to have a\n",
      "compiled crcmod installed (see \"gsutil help crcmod\"). This is because\n",
      "without a compiled crcmod, computing checksums on composite objects is\n",
      "so slow that gsutil disables downloads of composite objects.\n",
      "\n",
      "/ [1 files][307.1 MiB/307.1 MiB]                                                \n",
      "Operation completed over 1 objects/307.1 MiB.                                    \n"
     ]
    },
    {
     "name": "stdout",
     "output_type": "stream",
     "text": [
      "39 iaextracted/books-08cc1cadac9047f797ad38080ec4240d-000039-lines.tar\n",
      "# gsutil cp iaextracted/books-08cc1cadac9047f797ad38080ec4240d-000039-lines.tar gs://ocro-iaa-sample/lines/lines-000039.tar\n"
     ]
    },
    {
     "name": "stderr",
     "output_type": "stream",
     "text": [
      "Copying file://iaextracted/books-08cc1cadac9047f797ad38080ec4240d-000039-lines.tar [Content-Type=application/x-tar]...\n",
      "==> NOTE: You are uploading one or more large file(s), which would run          \n",
      "significantly faster if you enable parallel composite uploads. This\n",
      "feature can be enabled by editing the\n",
      "\"parallel_composite_upload_threshold\" value in your .boto\n",
      "configuration file. However, note that if you do this large files will\n",
      "be uploaded as `composite objects\n",
      "<https://cloud.google.com/storage/docs/composite-objects>`_,which\n",
      "means that any user who downloads such objects will need to have a\n",
      "compiled crcmod installed (see \"gsutil help crcmod\"). This is because\n",
      "without a compiled crcmod, computing checksums on composite objects is\n",
      "so slow that gsutil disables downloads of composite objects.\n",
      "\n",
      "\\ [1 files][331.4 MiB/331.4 MiB]                                                \n",
      "Operation completed over 1 objects/331.4 MiB.                                    \n"
     ]
    },
    {
     "name": "stdout",
     "output_type": "stream",
     "text": [
      "40 iaextracted/books-08cc1cadac9047f797ad38080ec4240d-000040-lines.tar\n",
      "# gsutil cp iaextracted/books-08cc1cadac9047f797ad38080ec4240d-000040-lines.tar gs://ocro-iaa-sample/lines/lines-000040.tar\n"
     ]
    },
    {
     "name": "stderr",
     "output_type": "stream",
     "text": [
      "Copying file://iaextracted/books-08cc1cadac9047f797ad38080ec4240d-000040-lines.tar [Content-Type=application/x-tar]...\n",
      "\\ [1 files][146.2 MiB/146.2 MiB]                                                \n",
      "Operation completed over 1 objects/146.2 MiB.                                    \n"
     ]
    },
    {
     "name": "stdout",
     "output_type": "stream",
     "text": [
      "41 iaextracted/books-08cc1cadac9047f797ad38080ec4240d-000041-lines.tar\n",
      "# gsutil cp iaextracted/books-08cc1cadac9047f797ad38080ec4240d-000041-lines.tar gs://ocro-iaa-sample/lines/lines-000041.tar\n"
     ]
    },
    {
     "name": "stderr",
     "output_type": "stream",
     "text": [
      "Copying file://iaextracted/books-08cc1cadac9047f797ad38080ec4240d-000041-lines.tar [Content-Type=application/x-tar]...\n",
      "==> NOTE: You are uploading one or more large file(s), which would run          \n",
      "significantly faster if you enable parallel composite uploads. This\n",
      "feature can be enabled by editing the\n",
      "\"parallel_composite_upload_threshold\" value in your .boto\n",
      "configuration file. However, note that if you do this large files will\n",
      "be uploaded as `composite objects\n",
      "<https://cloud.google.com/storage/docs/composite-objects>`_,which\n",
      "means that any user who downloads such objects will need to have a\n",
      "compiled crcmod installed (see \"gsutil help crcmod\"). This is because\n",
      "without a compiled crcmod, computing checksums on composite objects is\n",
      "so slow that gsutil disables downloads of composite objects.\n",
      "\n",
      "/ [1 files][280.0 MiB/280.0 MiB]                                                \n",
      "Operation completed over 1 objects/280.0 MiB.                                    \n"
     ]
    },
    {
     "name": "stdout",
     "output_type": "stream",
     "text": [
      "42 iaextracted/books-08cc1cadac9047f797ad38080ec4240d-000042-lines.tar\n",
      "# gsutil cp iaextracted/books-08cc1cadac9047f797ad38080ec4240d-000042-lines.tar gs://ocro-iaa-sample/lines/lines-000042.tar\n"
     ]
    },
    {
     "name": "stderr",
     "output_type": "stream",
     "text": [
      "Copying file://iaextracted/books-08cc1cadac9047f797ad38080ec4240d-000042-lines.tar [Content-Type=application/x-tar]...\n",
      "==> NOTE: You are uploading one or more large file(s), which would run          \n",
      "significantly faster if you enable parallel composite uploads. This\n",
      "feature can be enabled by editing the\n",
      "\"parallel_composite_upload_threshold\" value in your .boto\n",
      "configuration file. However, note that if you do this large files will\n",
      "be uploaded as `composite objects\n",
      "<https://cloud.google.com/storage/docs/composite-objects>`_,which\n",
      "means that any user who downloads such objects will need to have a\n",
      "compiled crcmod installed (see \"gsutil help crcmod\"). This is because\n",
      "without a compiled crcmod, computing checksums on composite objects is\n",
      "so slow that gsutil disables downloads of composite objects.\n",
      "\n",
      "| [1 files][214.3 MiB/214.3 MiB]                                                \n",
      "Operation completed over 1 objects/214.3 MiB.                                    \n"
     ]
    },
    {
     "name": "stdout",
     "output_type": "stream",
     "text": [
      "43 iaextracted/books-08cc1cadac9047f797ad38080ec4240d-000043-lines.tar\n",
      "# gsutil cp iaextracted/books-08cc1cadac9047f797ad38080ec4240d-000043-lines.tar gs://ocro-iaa-sample/lines/lines-000043.tar\n"
     ]
    },
    {
     "name": "stderr",
     "output_type": "stream",
     "text": [
      "Copying file://iaextracted/books-08cc1cadac9047f797ad38080ec4240d-000043-lines.tar [Content-Type=application/x-tar]...\n",
      "\\ [1 files][117.2 MiB/117.2 MiB]                                                \n",
      "Operation completed over 1 objects/117.2 MiB.                                    \n"
     ]
    },
    {
     "name": "stdout",
     "output_type": "stream",
     "text": [
      "44 iaextracted/books-08cc1cadac9047f797ad38080ec4240d-000044-lines.tar\n",
      "# gsutil cp iaextracted/books-08cc1cadac9047f797ad38080ec4240d-000044-lines.tar gs://ocro-iaa-sample/lines/lines-000044.tar\n"
     ]
    },
    {
     "name": "stderr",
     "output_type": "stream",
     "text": [
      "Copying file://iaextracted/books-08cc1cadac9047f797ad38080ec4240d-000044-lines.tar [Content-Type=application/x-tar]...\n",
      "==> NOTE: You are uploading one or more large file(s), which would run          \n",
      "significantly faster if you enable parallel composite uploads. This\n",
      "feature can be enabled by editing the\n",
      "\"parallel_composite_upload_threshold\" value in your .boto\n",
      "configuration file. However, note that if you do this large files will\n",
      "be uploaded as `composite objects\n",
      "<https://cloud.google.com/storage/docs/composite-objects>`_,which\n",
      "means that any user who downloads such objects will need to have a\n",
      "compiled crcmod installed (see \"gsutil help crcmod\"). This is because\n",
      "without a compiled crcmod, computing checksums on composite objects is\n",
      "so slow that gsutil disables downloads of composite objects.\n",
      "\n",
      "- [1 files][323.3 MiB/323.3 MiB]                                                \n",
      "Operation completed over 1 objects/323.3 MiB.                                    \n"
     ]
    },
    {
     "name": "stdout",
     "output_type": "stream",
     "text": [
      "45 iaextracted/books-08cc1cadac9047f797ad38080ec4240d-000045-lines.tar\n",
      "# gsutil cp iaextracted/books-08cc1cadac9047f797ad38080ec4240d-000045-lines.tar gs://ocro-iaa-sample/lines/lines-000045.tar\n"
     ]
    },
    {
     "name": "stderr",
     "output_type": "stream",
     "text": [
      "Copying file://iaextracted/books-08cc1cadac9047f797ad38080ec4240d-000045-lines.tar [Content-Type=application/x-tar]...\n",
      "==> NOTE: You are uploading one or more large file(s), which would run          \n",
      "significantly faster if you enable parallel composite uploads. This\n",
      "feature can be enabled by editing the\n",
      "\"parallel_composite_upload_threshold\" value in your .boto\n",
      "configuration file. However, note that if you do this large files will\n",
      "be uploaded as `composite objects\n",
      "<https://cloud.google.com/storage/docs/composite-objects>`_,which\n",
      "means that any user who downloads such objects will need to have a\n",
      "compiled crcmod installed (see \"gsutil help crcmod\"). This is because\n",
      "without a compiled crcmod, computing checksums on composite objects is\n",
      "so slow that gsutil disables downloads of composite objects.\n",
      "\n",
      "/ [1 files][238.0 MiB/238.0 MiB]                                                \n",
      "Operation completed over 1 objects/238.0 MiB.                                    \n"
     ]
    },
    {
     "name": "stdout",
     "output_type": "stream",
     "text": [
      "46 iaextracted/books-08cc1cadac9047f797ad38080ec4240d-000046-lines.tar\n",
      "# gsutil cp iaextracted/books-08cc1cadac9047f797ad38080ec4240d-000046-lines.tar gs://ocro-iaa-sample/lines/lines-000046.tar\n"
     ]
    },
    {
     "name": "stderr",
     "output_type": "stream",
     "text": [
      "Copying file://iaextracted/books-08cc1cadac9047f797ad38080ec4240d-000046-lines.tar [Content-Type=application/x-tar]...\n",
      "==> NOTE: You are uploading one or more large file(s), which would run          \n",
      "significantly faster if you enable parallel composite uploads. This\n",
      "feature can be enabled by editing the\n",
      "\"parallel_composite_upload_threshold\" value in your .boto\n",
      "configuration file. However, note that if you do this large files will\n",
      "be uploaded as `composite objects\n",
      "<https://cloud.google.com/storage/docs/composite-objects>`_,which\n",
      "means that any user who downloads such objects will need to have a\n",
      "compiled crcmod installed (see \"gsutil help crcmod\"). This is because\n",
      "without a compiled crcmod, computing checksums on composite objects is\n",
      "so slow that gsutil disables downloads of composite objects.\n",
      "\n",
      "| [1 files][191.2 MiB/191.2 MiB]                                                \n",
      "Operation completed over 1 objects/191.2 MiB.                                    \n"
     ]
    },
    {
     "name": "stdout",
     "output_type": "stream",
     "text": [
      "47 iaextracted/books-08cc1cadac9047f797ad38080ec4240d-000047-lines.tar\n",
      "# gsutil cp iaextracted/books-08cc1cadac9047f797ad38080ec4240d-000047-lines.tar gs://ocro-iaa-sample/lines/lines-000047.tar\n"
     ]
    },
    {
     "name": "stderr",
     "output_type": "stream",
     "text": [
      "Copying file://iaextracted/books-08cc1cadac9047f797ad38080ec4240d-000047-lines.tar [Content-Type=application/x-tar]...\n",
      "==> NOTE: You are uploading one or more large file(s), which would run          \n",
      "significantly faster if you enable parallel composite uploads. This\n",
      "feature can be enabled by editing the\n",
      "\"parallel_composite_upload_threshold\" value in your .boto\n",
      "configuration file. However, note that if you do this large files will\n",
      "be uploaded as `composite objects\n",
      "<https://cloud.google.com/storage/docs/composite-objects>`_,which\n",
      "means that any user who downloads such objects will need to have a\n",
      "compiled crcmod installed (see \"gsutil help crcmod\"). This is because\n",
      "without a compiled crcmod, computing checksums on composite objects is\n",
      "so slow that gsutil disables downloads of composite objects.\n",
      "\n",
      "\\ [1 files][384.0 MiB/384.0 MiB]                                                \n",
      "Operation completed over 1 objects/384.0 MiB.                                    \n"
     ]
    },
    {
     "name": "stdout",
     "output_type": "stream",
     "text": [
      "48 iaextracted/books-08cc1cadac9047f797ad38080ec4240d-000048-lines.tar\n",
      "# gsutil cp iaextracted/books-08cc1cadac9047f797ad38080ec4240d-000048-lines.tar gs://ocro-iaa-sample/lines/lines-000048.tar\n"
     ]
    },
    {
     "name": "stderr",
     "output_type": "stream",
     "text": [
      "Copying file://iaextracted/books-08cc1cadac9047f797ad38080ec4240d-000048-lines.tar [Content-Type=application/x-tar]...\n",
      "\\ [1 files][122.2 MiB/122.2 MiB]                                                \n",
      "Operation completed over 1 objects/122.2 MiB.                                    \n"
     ]
    },
    {
     "name": "stdout",
     "output_type": "stream",
     "text": [
      "49 iaextracted/books-08cc1cadac9047f797ad38080ec4240d-000049-lines.tar\n",
      "# gsutil cp iaextracted/books-08cc1cadac9047f797ad38080ec4240d-000049-lines.tar gs://ocro-iaa-sample/lines/lines-000049.tar\n"
     ]
    },
    {
     "name": "stderr",
     "output_type": "stream",
     "text": [
      "Copying file://iaextracted/books-08cc1cadac9047f797ad38080ec4240d-000049-lines.tar [Content-Type=application/x-tar]...\n",
      "==> NOTE: You are uploading one or more large file(s), which would run          \n",
      "significantly faster if you enable parallel composite uploads. This\n",
      "feature can be enabled by editing the\n",
      "\"parallel_composite_upload_threshold\" value in your .boto\n",
      "configuration file. However, note that if you do this large files will\n",
      "be uploaded as `composite objects\n",
      "<https://cloud.google.com/storage/docs/composite-objects>`_,which\n",
      "means that any user who downloads such objects will need to have a\n",
      "compiled crcmod installed (see \"gsutil help crcmod\"). This is because\n",
      "without a compiled crcmod, computing checksums on composite objects is\n",
      "so slow that gsutil disables downloads of composite objects.\n",
      "\n",
      "| [1 files][185.2 MiB/185.2 MiB]                                                \n",
      "Operation completed over 1 objects/185.2 MiB.                                    \n"
     ]
    },
    {
     "name": "stdout",
     "output_type": "stream",
     "text": [
      "50 iaextracted/books-08cc1cadac9047f797ad38080ec4240d-000050-lines.tar\n",
      "# gsutil cp iaextracted/books-08cc1cadac9047f797ad38080ec4240d-000050-lines.tar gs://ocro-iaa-sample/lines/lines-000050.tar\n"
     ]
    },
    {
     "name": "stderr",
     "output_type": "stream",
     "text": [
      "Copying file://iaextracted/books-08cc1cadac9047f797ad38080ec4240d-000050-lines.tar [Content-Type=application/x-tar]...\n",
      "==> NOTE: You are uploading one or more large file(s), which would run          \n",
      "significantly faster if you enable parallel composite uploads. This\n",
      "feature can be enabled by editing the\n",
      "\"parallel_composite_upload_threshold\" value in your .boto\n",
      "configuration file. However, note that if you do this large files will\n",
      "be uploaded as `composite objects\n",
      "<https://cloud.google.com/storage/docs/composite-objects>`_,which\n",
      "means that any user who downloads such objects will need to have a\n",
      "compiled crcmod installed (see \"gsutil help crcmod\"). This is because\n",
      "without a compiled crcmod, computing checksums on composite objects is\n",
      "so slow that gsutil disables downloads of composite objects.\n",
      "\n",
      "\\ [1 files][159.0 MiB/159.0 MiB]                                                \n",
      "Operation completed over 1 objects/159.0 MiB.                                    \n"
     ]
    },
    {
     "name": "stdout",
     "output_type": "stream",
     "text": [
      "51 iaextracted/books-08cc1cadac9047f797ad38080ec4240d-000051-lines.tar\n",
      "# gsutil cp iaextracted/books-08cc1cadac9047f797ad38080ec4240d-000051-lines.tar gs://ocro-iaa-sample/lines/lines-000051.tar\n"
     ]
    },
    {
     "name": "stderr",
     "output_type": "stream",
     "text": [
      "Copying file://iaextracted/books-08cc1cadac9047f797ad38080ec4240d-000051-lines.tar [Content-Type=application/x-tar]...\n",
      "/ [1 files][ 38.5 MiB/ 38.5 MiB]                                                \n",
      "Operation completed over 1 objects/38.5 MiB.                                     \n"
     ]
    },
    {
     "name": "stdout",
     "output_type": "stream",
     "text": [
      "52 iaextracted/books-08cc1cadac9047f797ad38080ec4240d-000052-lines.tar\n",
      "# gsutil cp iaextracted/books-08cc1cadac9047f797ad38080ec4240d-000052-lines.tar gs://ocro-iaa-sample/lines/lines-000052.tar\n"
     ]
    },
    {
     "name": "stderr",
     "output_type": "stream",
     "text": [
      "Copying file://iaextracted/books-08cc1cadac9047f797ad38080ec4240d-000052-lines.tar [Content-Type=application/x-tar]...\n",
      "==> NOTE: You are uploading one or more large file(s), which would run          \n",
      "significantly faster if you enable parallel composite uploads. This\n",
      "feature can be enabled by editing the\n",
      "\"parallel_composite_upload_threshold\" value in your .boto\n",
      "configuration file. However, note that if you do this large files will\n",
      "be uploaded as `composite objects\n",
      "<https://cloud.google.com/storage/docs/composite-objects>`_,which\n",
      "means that any user who downloads such objects will need to have a\n",
      "compiled crcmod installed (see \"gsutil help crcmod\"). This is because\n",
      "without a compiled crcmod, computing checksums on composite objects is\n",
      "so slow that gsutil disables downloads of composite objects.\n",
      "\n",
      "/ [1 files][275.4 MiB/275.4 MiB]                                                \n",
      "Operation completed over 1 objects/275.4 MiB.                                    \n"
     ]
    },
    {
     "name": "stdout",
     "output_type": "stream",
     "text": [
      "53 iaextracted/books-08cc1cadac9047f797ad38080ec4240d-000053-lines.tar\n",
      "# gsutil cp iaextracted/books-08cc1cadac9047f797ad38080ec4240d-000053-lines.tar gs://ocro-iaa-sample/lines/lines-000053.tar\n"
     ]
    },
    {
     "name": "stderr",
     "output_type": "stream",
     "text": [
      "Copying file://iaextracted/books-08cc1cadac9047f797ad38080ec4240d-000053-lines.tar [Content-Type=application/x-tar]...\n",
      "==> NOTE: You are uploading one or more large file(s), which would run          \n",
      "significantly faster if you enable parallel composite uploads. This\n",
      "feature can be enabled by editing the\n",
      "\"parallel_composite_upload_threshold\" value in your .boto\n",
      "configuration file. However, note that if you do this large files will\n",
      "be uploaded as `composite objects\n",
      "<https://cloud.google.com/storage/docs/composite-objects>`_,which\n",
      "means that any user who downloads such objects will need to have a\n",
      "compiled crcmod installed (see \"gsutil help crcmod\"). This is because\n",
      "without a compiled crcmod, computing checksums on composite objects is\n",
      "so slow that gsutil disables downloads of composite objects.\n",
      "\n",
      "\\ [1 files][152.6 MiB/152.6 MiB]                                                \n",
      "Operation completed over 1 objects/152.6 MiB.                                    \n"
     ]
    },
    {
     "name": "stdout",
     "output_type": "stream",
     "text": [
      "54 iaextracted/books-08cc1cadac9047f797ad38080ec4240d-000054-lines.tar\n",
      "# gsutil cp iaextracted/books-08cc1cadac9047f797ad38080ec4240d-000054-lines.tar gs://ocro-iaa-sample/lines/lines-000054.tar\n"
     ]
    },
    {
     "name": "stderr",
     "output_type": "stream",
     "text": [
      "Copying file://iaextracted/books-08cc1cadac9047f797ad38080ec4240d-000054-lines.tar [Content-Type=application/x-tar]...\n",
      "\\ [1 files][122.7 MiB/122.7 MiB]                                                \n",
      "Operation completed over 1 objects/122.7 MiB.                                    \n"
     ]
    },
    {
     "name": "stdout",
     "output_type": "stream",
     "text": [
      "55 iaextracted/books-08cc1cadac9047f797ad38080ec4240d-000055-lines.tar\n",
      "# gsutil cp iaextracted/books-08cc1cadac9047f797ad38080ec4240d-000055-lines.tar gs://ocro-iaa-sample/lines/lines-000055.tar\n"
     ]
    },
    {
     "name": "stderr",
     "output_type": "stream",
     "text": [
      "Copying file://iaextracted/books-08cc1cadac9047f797ad38080ec4240d-000055-lines.tar [Content-Type=application/x-tar]...\n",
      "==> NOTE: You are uploading one or more large file(s), which would run          \n",
      "significantly faster if you enable parallel composite uploads. This\n",
      "feature can be enabled by editing the\n",
      "\"parallel_composite_upload_threshold\" value in your .boto\n",
      "configuration file. However, note that if you do this large files will\n",
      "be uploaded as `composite objects\n",
      "<https://cloud.google.com/storage/docs/composite-objects>`_,which\n",
      "means that any user who downloads such objects will need to have a\n",
      "compiled crcmod installed (see \"gsutil help crcmod\"). This is because\n",
      "without a compiled crcmod, computing checksums on composite objects is\n",
      "so slow that gsutil disables downloads of composite objects.\n",
      "\n",
      "/ [1 files][281.3 MiB/281.3 MiB]                                                \n",
      "Operation completed over 1 objects/281.3 MiB.                                    \n"
     ]
    },
    {
     "name": "stdout",
     "output_type": "stream",
     "text": [
      "56 iaextracted/books-08cc1cadac9047f797ad38080ec4240d-000056-lines.tar\n",
      "# gsutil cp iaextracted/books-08cc1cadac9047f797ad38080ec4240d-000056-lines.tar gs://ocro-iaa-sample/lines/lines-000056.tar\n"
     ]
    },
    {
     "name": "stderr",
     "output_type": "stream",
     "text": [
      "Copying file://iaextracted/books-08cc1cadac9047f797ad38080ec4240d-000056-lines.tar [Content-Type=application/x-tar]...\n",
      "==> NOTE: You are uploading one or more large file(s), which would run          \n",
      "significantly faster if you enable parallel composite uploads. This\n",
      "feature can be enabled by editing the\n",
      "\"parallel_composite_upload_threshold\" value in your .boto\n",
      "configuration file. However, note that if you do this large files will\n",
      "be uploaded as `composite objects\n",
      "<https://cloud.google.com/storage/docs/composite-objects>`_,which\n",
      "means that any user who downloads such objects will need to have a\n",
      "compiled crcmod installed (see \"gsutil help crcmod\"). This is because\n",
      "without a compiled crcmod, computing checksums on composite objects is\n",
      "so slow that gsutil disables downloads of composite objects.\n",
      "\n",
      "| [1 files][196.6 MiB/196.6 MiB]                                                \n",
      "Operation completed over 1 objects/196.6 MiB.                                    \n"
     ]
    },
    {
     "name": "stdout",
     "output_type": "stream",
     "text": [
      "57 iaextracted/books-08cc1cadac9047f797ad38080ec4240d-000057-lines.tar\n",
      "# gsutil cp iaextracted/books-08cc1cadac9047f797ad38080ec4240d-000057-lines.tar gs://ocro-iaa-sample/lines/lines-000057.tar\n"
     ]
    },
    {
     "name": "stderr",
     "output_type": "stream",
     "text": [
      "Copying file://iaextracted/books-08cc1cadac9047f797ad38080ec4240d-000057-lines.tar [Content-Type=application/x-tar]...\n",
      "==> NOTE: You are uploading one or more large file(s), which would run          \n",
      "significantly faster if you enable parallel composite uploads. This\n",
      "feature can be enabled by editing the\n",
      "\"parallel_composite_upload_threshold\" value in your .boto\n",
      "configuration file. However, note that if you do this large files will\n",
      "be uploaded as `composite objects\n",
      "<https://cloud.google.com/storage/docs/composite-objects>`_,which\n",
      "means that any user who downloads such objects will need to have a\n",
      "compiled crcmod installed (see \"gsutil help crcmod\"). This is because\n",
      "without a compiled crcmod, computing checksums on composite objects is\n",
      "so slow that gsutil disables downloads of composite objects.\n",
      "\n",
      "/ [1 files][295.9 MiB/295.9 MiB]                                                \n",
      "Operation completed over 1 objects/295.9 MiB.                                    \n"
     ]
    },
    {
     "name": "stdout",
     "output_type": "stream",
     "text": [
      "58 iaextracted/books-08cc1cadac9047f797ad38080ec4240d-000058-lines.tar\n",
      "# gsutil cp iaextracted/books-08cc1cadac9047f797ad38080ec4240d-000058-lines.tar gs://ocro-iaa-sample/lines/lines-000058.tar\n"
     ]
    },
    {
     "name": "stderr",
     "output_type": "stream",
     "text": [
      "Copying file://iaextracted/books-08cc1cadac9047f797ad38080ec4240d-000058-lines.tar [Content-Type=application/x-tar]...\n",
      "==> NOTE: You are uploading one or more large file(s), which would run          \n",
      "significantly faster if you enable parallel composite uploads. This\n",
      "feature can be enabled by editing the\n",
      "\"parallel_composite_upload_threshold\" value in your .boto\n",
      "configuration file. However, note that if you do this large files will\n",
      "be uploaded as `composite objects\n",
      "<https://cloud.google.com/storage/docs/composite-objects>`_,which\n",
      "means that any user who downloads such objects will need to have a\n",
      "compiled crcmod installed (see \"gsutil help crcmod\"). This is because\n",
      "without a compiled crcmod, computing checksums on composite objects is\n",
      "so slow that gsutil disables downloads of composite objects.\n",
      "\n",
      "| [1 files][207.3 MiB/207.3 MiB]                                                \n",
      "Operation completed over 1 objects/207.3 MiB.                                    \n"
     ]
    },
    {
     "name": "stdout",
     "output_type": "stream",
     "text": [
      "59 iaextracted/books-08cc1cadac9047f797ad38080ec4240d-000059-lines.tar\n",
      "# gsutil cp iaextracted/books-08cc1cadac9047f797ad38080ec4240d-000059-lines.tar gs://ocro-iaa-sample/lines/lines-000059.tar\n"
     ]
    },
    {
     "name": "stderr",
     "output_type": "stream",
     "text": [
      "Copying file://iaextracted/books-08cc1cadac9047f797ad38080ec4240d-000059-lines.tar [Content-Type=application/x-tar]...\n",
      "==> NOTE: You are uploading one or more large file(s), which would run          \n",
      "significantly faster if you enable parallel composite uploads. This\n",
      "feature can be enabled by editing the\n",
      "\"parallel_composite_upload_threshold\" value in your .boto\n",
      "configuration file. However, note that if you do this large files will\n",
      "be uploaded as `composite objects\n",
      "<https://cloud.google.com/storage/docs/composite-objects>`_,which\n",
      "means that any user who downloads such objects will need to have a\n",
      "compiled crcmod installed (see \"gsutil help crcmod\"). This is because\n",
      "without a compiled crcmod, computing checksums on composite objects is\n",
      "so slow that gsutil disables downloads of composite objects.\n",
      "\n",
      "/ [1 files][386.4 MiB/386.4 MiB]                                                \n",
      "Operation completed over 1 objects/386.4 MiB.                                    \n"
     ]
    },
    {
     "name": "stdout",
     "output_type": "stream",
     "text": [
      "60 iaextracted/books-08cc1cadac9047f797ad38080ec4240d-000060-lines.tar\n",
      "# gsutil cp iaextracted/books-08cc1cadac9047f797ad38080ec4240d-000060-lines.tar gs://ocro-iaa-sample/lines/lines-000060.tar\n"
     ]
    },
    {
     "name": "stderr",
     "output_type": "stream",
     "text": [
      "Copying file://iaextracted/books-08cc1cadac9047f797ad38080ec4240d-000060-lines.tar [Content-Type=application/x-tar]...\n",
      "==> NOTE: You are uploading one or more large file(s), which would run          \n",
      "significantly faster if you enable parallel composite uploads. This\n",
      "feature can be enabled by editing the\n",
      "\"parallel_composite_upload_threshold\" value in your .boto\n",
      "configuration file. However, note that if you do this large files will\n",
      "be uploaded as `composite objects\n",
      "<https://cloud.google.com/storage/docs/composite-objects>`_,which\n",
      "means that any user who downloads such objects will need to have a\n",
      "compiled crcmod installed (see \"gsutil help crcmod\"). This is because\n",
      "without a compiled crcmod, computing checksums on composite objects is\n",
      "so slow that gsutil disables downloads of composite objects.\n",
      "\n",
      "\\ [1 files][156.6 MiB/156.6 MiB]                                                \n",
      "Operation completed over 1 objects/156.6 MiB.                                    \n"
     ]
    },
    {
     "name": "stdout",
     "output_type": "stream",
     "text": [
      "0 iaextracted/books-08cc1cadac9047f797ad38080ec4240d-000000-words.tar\n",
      "# gsutil cp iaextracted/books-08cc1cadac9047f797ad38080ec4240d-000000-words.tar gs://ocro-iaa-sample/words/words-000000.tar\n"
     ]
    },
    {
     "name": "stderr",
     "output_type": "stream",
     "text": [
      "Copying file://iaextracted/books-08cc1cadac9047f797ad38080ec4240d-000000-words.tar [Content-Type=application/x-tar]...\n",
      "==> NOTE: You are uploading one or more large file(s), which would run          \n",
      "significantly faster if you enable parallel composite uploads. This\n",
      "feature can be enabled by editing the\n",
      "\"parallel_composite_upload_threshold\" value in your .boto\n",
      "configuration file. However, note that if you do this large files will\n",
      "be uploaded as `composite objects\n",
      "<https://cloud.google.com/storage/docs/composite-objects>`_,which\n",
      "means that any user who downloads such objects will need to have a\n",
      "compiled crcmod installed (see \"gsutil help crcmod\"). This is because\n",
      "without a compiled crcmod, computing checksums on composite objects is\n",
      "so slow that gsutil disables downloads of composite objects.\n",
      "\n",
      "\\ [1 files][396.0 MiB/396.0 MiB]                                                \n",
      "Operation completed over 1 objects/396.0 MiB.                                    \n"
     ]
    },
    {
     "name": "stdout",
     "output_type": "stream",
     "text": [
      "1 iaextracted/books-08cc1cadac9047f797ad38080ec4240d-000001-words.tar\n",
      "# gsutil cp iaextracted/books-08cc1cadac9047f797ad38080ec4240d-000001-words.tar gs://ocro-iaa-sample/words/words-000001.tar\n"
     ]
    },
    {
     "name": "stderr",
     "output_type": "stream",
     "text": [
      "Copying file://iaextracted/books-08cc1cadac9047f797ad38080ec4240d-000001-words.tar [Content-Type=application/x-tar]...\n",
      "==> NOTE: You are uploading one or more large file(s), which would run          \n",
      "significantly faster if you enable parallel composite uploads. This\n",
      "feature can be enabled by editing the\n",
      "\"parallel_composite_upload_threshold\" value in your .boto\n",
      "configuration file. However, note that if you do this large files will\n",
      "be uploaded as `composite objects\n",
      "<https://cloud.google.com/storage/docs/composite-objects>`_,which\n",
      "means that any user who downloads such objects will need to have a\n",
      "compiled crcmod installed (see \"gsutil help crcmod\"). This is because\n",
      "without a compiled crcmod, computing checksums on composite objects is\n",
      "so slow that gsutil disables downloads of composite objects.\n",
      "\n",
      "/ [1 files][243.9 MiB/243.9 MiB]                                                \n",
      "Operation completed over 1 objects/243.9 MiB.                                    \n"
     ]
    },
    {
     "name": "stdout",
     "output_type": "stream",
     "text": [
      "2 iaextracted/books-08cc1cadac9047f797ad38080ec4240d-000002-words.tar\n",
      "# gsutil cp iaextracted/books-08cc1cadac9047f797ad38080ec4240d-000002-words.tar gs://ocro-iaa-sample/words/words-000002.tar\n"
     ]
    },
    {
     "name": "stderr",
     "output_type": "stream",
     "text": [
      "Copying file://iaextracted/books-08cc1cadac9047f797ad38080ec4240d-000002-words.tar [Content-Type=application/x-tar]...\n",
      "\\ [1 files][135.5 MiB/135.5 MiB]                                                \n",
      "Operation completed over 1 objects/135.5 MiB.                                    \n"
     ]
    },
    {
     "name": "stdout",
     "output_type": "stream",
     "text": [
      "3 iaextracted/books-08cc1cadac9047f797ad38080ec4240d-000003-words.tar\n",
      "# gsutil cp iaextracted/books-08cc1cadac9047f797ad38080ec4240d-000003-words.tar gs://ocro-iaa-sample/words/words-000003.tar\n"
     ]
    },
    {
     "name": "stderr",
     "output_type": "stream",
     "text": [
      "Copying file://iaextracted/books-08cc1cadac9047f797ad38080ec4240d-000003-words.tar [Content-Type=application/x-tar]...\n",
      "- [1 files][ 95.2 MiB/ 95.2 MiB]                                                \n",
      "Operation completed over 1 objects/95.2 MiB.                                     \n"
     ]
    },
    {
     "name": "stdout",
     "output_type": "stream",
     "text": [
      "4 iaextracted/books-08cc1cadac9047f797ad38080ec4240d-000004-words.tar\n",
      "# gsutil cp iaextracted/books-08cc1cadac9047f797ad38080ec4240d-000004-words.tar gs://ocro-iaa-sample/words/words-000004.tar\n"
     ]
    },
    {
     "name": "stderr",
     "output_type": "stream",
     "text": [
      "Copying file://iaextracted/books-08cc1cadac9047f797ad38080ec4240d-000004-words.tar [Content-Type=application/x-tar]...\n",
      "==> NOTE: You are uploading one or more large file(s), which would run          \n",
      "significantly faster if you enable parallel composite uploads. This\n",
      "feature can be enabled by editing the\n",
      "\"parallel_composite_upload_threshold\" value in your .boto\n",
      "configuration file. However, note that if you do this large files will\n",
      "be uploaded as `composite objects\n",
      "<https://cloud.google.com/storage/docs/composite-objects>`_,which\n",
      "means that any user who downloads such objects will need to have a\n",
      "compiled crcmod installed (see \"gsutil help crcmod\"). This is because\n",
      "without a compiled crcmod, computing checksums on composite objects is\n",
      "so slow that gsutil disables downloads of composite objects.\n",
      "\n",
      "| [1 files][166.1 MiB/166.1 MiB]                                                \n",
      "Operation completed over 1 objects/166.1 MiB.                                    \n"
     ]
    },
    {
     "name": "stdout",
     "output_type": "stream",
     "text": [
      "5 iaextracted/books-08cc1cadac9047f797ad38080ec4240d-000005-words.tar\n",
      "# gsutil cp iaextracted/books-08cc1cadac9047f797ad38080ec4240d-000005-words.tar gs://ocro-iaa-sample/words/words-000005.tar\n"
     ]
    },
    {
     "name": "stderr",
     "output_type": "stream",
     "text": [
      "Copying file://iaextracted/books-08cc1cadac9047f797ad38080ec4240d-000005-words.tar [Content-Type=application/x-tar]...\n",
      "\\ [1 files][125.3 MiB/125.3 MiB]                                                \n",
      "Operation completed over 1 objects/125.3 MiB.                                    \n"
     ]
    },
    {
     "name": "stdout",
     "output_type": "stream",
     "text": [
      "6 iaextracted/books-08cc1cadac9047f797ad38080ec4240d-000006-words.tar\n",
      "# gsutil cp iaextracted/books-08cc1cadac9047f797ad38080ec4240d-000006-words.tar gs://ocro-iaa-sample/words/words-000006.tar\n"
     ]
    },
    {
     "name": "stderr",
     "output_type": "stream",
     "text": [
      "Copying file://iaextracted/books-08cc1cadac9047f797ad38080ec4240d-000006-words.tar [Content-Type=application/x-tar]...\n",
      "\\ [1 files][ 97.8 MiB/ 97.8 MiB]                                                \n",
      "Operation completed over 1 objects/97.8 MiB.                                     \n"
     ]
    },
    {
     "name": "stdout",
     "output_type": "stream",
     "text": [
      "7 iaextracted/books-08cc1cadac9047f797ad38080ec4240d-000007-words.tar\n",
      "# gsutil cp iaextracted/books-08cc1cadac9047f797ad38080ec4240d-000007-words.tar gs://ocro-iaa-sample/words/words-000007.tar\n"
     ]
    },
    {
     "name": "stderr",
     "output_type": "stream",
     "text": [
      "Copying file://iaextracted/books-08cc1cadac9047f797ad38080ec4240d-000007-words.tar [Content-Type=application/x-tar]...\n",
      "==> NOTE: You are uploading one or more large file(s), which would run          \n",
      "significantly faster if you enable parallel composite uploads. This\n",
      "feature can be enabled by editing the\n",
      "\"parallel_composite_upload_threshold\" value in your .boto\n",
      "configuration file. However, note that if you do this large files will\n",
      "be uploaded as `composite objects\n",
      "<https://cloud.google.com/storage/docs/composite-objects>`_,which\n",
      "means that any user who downloads such objects will need to have a\n",
      "compiled crcmod installed (see \"gsutil help crcmod\"). This is because\n",
      "without a compiled crcmod, computing checksums on composite objects is\n",
      "so slow that gsutil disables downloads of composite objects.\n",
      "\n",
      "\\ [1 files][164.6 MiB/164.6 MiB]                                                \n",
      "Operation completed over 1 objects/164.6 MiB.                                    \n"
     ]
    },
    {
     "name": "stdout",
     "output_type": "stream",
     "text": [
      "8 iaextracted/books-08cc1cadac9047f797ad38080ec4240d-000008-words.tar\n",
      "# gsutil cp iaextracted/books-08cc1cadac9047f797ad38080ec4240d-000008-words.tar gs://ocro-iaa-sample/words/words-000008.tar\n"
     ]
    },
    {
     "name": "stderr",
     "output_type": "stream",
     "text": [
      "Copying file://iaextracted/books-08cc1cadac9047f797ad38080ec4240d-000008-words.tar [Content-Type=application/x-tar]...\n",
      "/ [1 files][ 16.2 MiB/ 16.2 MiB]                                                \n",
      "Operation completed over 1 objects/16.2 MiB.                                     \n"
     ]
    },
    {
     "name": "stdout",
     "output_type": "stream",
     "text": [
      "9 iaextracted/books-08cc1cadac9047f797ad38080ec4240d-000009-words.tar\n",
      "# gsutil cp iaextracted/books-08cc1cadac9047f797ad38080ec4240d-000009-words.tar gs://ocro-iaa-sample/words/words-000009.tar\n"
     ]
    },
    {
     "name": "stderr",
     "output_type": "stream",
     "text": [
      "Copying file://iaextracted/books-08cc1cadac9047f797ad38080ec4240d-000009-words.tar [Content-Type=application/x-tar]...\n",
      "\\ [1 files][118.0 MiB/118.0 MiB]                                                \n",
      "Operation completed over 1 objects/118.0 MiB.                                    \n"
     ]
    },
    {
     "name": "stdout",
     "output_type": "stream",
     "text": [
      "10 iaextracted/books-08cc1cadac9047f797ad38080ec4240d-000010-words.tar\n",
      "# gsutil cp iaextracted/books-08cc1cadac9047f797ad38080ec4240d-000010-words.tar gs://ocro-iaa-sample/words/words-000010.tar\n"
     ]
    },
    {
     "name": "stderr",
     "output_type": "stream",
     "text": [
      "Copying file://iaextracted/books-08cc1cadac9047f797ad38080ec4240d-000010-words.tar [Content-Type=application/x-tar]...\n",
      "==> NOTE: You are uploading one or more large file(s), which would run          \n",
      "significantly faster if you enable parallel composite uploads. This\n",
      "feature can be enabled by editing the\n",
      "\"parallel_composite_upload_threshold\" value in your .boto\n",
      "configuration file. However, note that if you do this large files will\n",
      "be uploaded as `composite objects\n",
      "<https://cloud.google.com/storage/docs/composite-objects>`_,which\n",
      "means that any user who downloads such objects will need to have a\n",
      "compiled crcmod installed (see \"gsutil help crcmod\"). This is because\n",
      "without a compiled crcmod, computing checksums on composite objects is\n",
      "so slow that gsutil disables downloads of composite objects.\n",
      "\n",
      "| [1 files][180.0 MiB/180.0 MiB]                                                \n",
      "Operation completed over 1 objects/180.0 MiB.                                    \n"
     ]
    },
    {
     "name": "stdout",
     "output_type": "stream",
     "text": [
      "11 iaextracted/books-08cc1cadac9047f797ad38080ec4240d-000011-words.tar\n",
      "# gsutil cp iaextracted/books-08cc1cadac9047f797ad38080ec4240d-000011-words.tar gs://ocro-iaa-sample/words/words-000011.tar\n"
     ]
    },
    {
     "name": "stderr",
     "output_type": "stream",
     "text": [
      "Copying file://iaextracted/books-08cc1cadac9047f797ad38080ec4240d-000011-words.tar [Content-Type=application/x-tar]...\n",
      "==> NOTE: You are uploading one or more large file(s), which would run          \n",
      "significantly faster if you enable parallel composite uploads. This\n",
      "feature can be enabled by editing the\n",
      "\"parallel_composite_upload_threshold\" value in your .boto\n",
      "configuration file. However, note that if you do this large files will\n",
      "be uploaded as `composite objects\n",
      "<https://cloud.google.com/storage/docs/composite-objects>`_,which\n",
      "means that any user who downloads such objects will need to have a\n",
      "compiled crcmod installed (see \"gsutil help crcmod\"). This is because\n",
      "without a compiled crcmod, computing checksums on composite objects is\n",
      "so slow that gsutil disables downloads of composite objects.\n",
      "\n",
      "\\ [1 files][154.9 MiB/154.9 MiB]                                                \n",
      "Operation completed over 1 objects/154.9 MiB.                                    \n"
     ]
    },
    {
     "name": "stdout",
     "output_type": "stream",
     "text": [
      "12 iaextracted/books-08cc1cadac9047f797ad38080ec4240d-000012-words.tar\n",
      "# gsutil cp iaextracted/books-08cc1cadac9047f797ad38080ec4240d-000012-words.tar gs://ocro-iaa-sample/words/words-000012.tar\n"
     ]
    },
    {
     "name": "stderr",
     "output_type": "stream",
     "text": [
      "Copying file://iaextracted/books-08cc1cadac9047f797ad38080ec4240d-000012-words.tar [Content-Type=application/x-tar]...\n",
      "==> NOTE: You are uploading one or more large file(s), which would run          \n",
      "significantly faster if you enable parallel composite uploads. This\n",
      "feature can be enabled by editing the\n",
      "\"parallel_composite_upload_threshold\" value in your .boto\n",
      "configuration file. However, note that if you do this large files will\n",
      "be uploaded as `composite objects\n",
      "<https://cloud.google.com/storage/docs/composite-objects>`_,which\n",
      "means that any user who downloads such objects will need to have a\n",
      "compiled crcmod installed (see \"gsutil help crcmod\"). This is because\n",
      "without a compiled crcmod, computing checksums on composite objects is\n",
      "so slow that gsutil disables downloads of composite objects.\n",
      "\n",
      "| [1 files][174.9 MiB/174.9 MiB]                                                \n",
      "Operation completed over 1 objects/174.9 MiB.                                    \n"
     ]
    },
    {
     "name": "stdout",
     "output_type": "stream",
     "text": [
      "13 iaextracted/books-08cc1cadac9047f797ad38080ec4240d-000013-words.tar\n",
      "# gsutil cp iaextracted/books-08cc1cadac9047f797ad38080ec4240d-000013-words.tar gs://ocro-iaa-sample/words/words-000013.tar\n"
     ]
    },
    {
     "name": "stderr",
     "output_type": "stream",
     "text": [
      "Copying file://iaextracted/books-08cc1cadac9047f797ad38080ec4240d-000013-words.tar [Content-Type=application/x-tar]...\n",
      "==> NOTE: You are uploading one or more large file(s), which would run          \n",
      "significantly faster if you enable parallel composite uploads. This\n",
      "feature can be enabled by editing the\n",
      "\"parallel_composite_upload_threshold\" value in your .boto\n",
      "configuration file. However, note that if you do this large files will\n",
      "be uploaded as `composite objects\n",
      "<https://cloud.google.com/storage/docs/composite-objects>`_,which\n",
      "means that any user who downloads such objects will need to have a\n",
      "compiled crcmod installed (see \"gsutil help crcmod\"). This is because\n",
      "without a compiled crcmod, computing checksums on composite objects is\n",
      "so slow that gsutil disables downloads of composite objects.\n",
      "\n",
      "| [1 files][162.4 MiB/162.4 MiB]                                                \n",
      "Operation completed over 1 objects/162.4 MiB.                                    \n"
     ]
    },
    {
     "name": "stdout",
     "output_type": "stream",
     "text": [
      "14 iaextracted/books-08cc1cadac9047f797ad38080ec4240d-000014-words.tar\n",
      "# gsutil cp iaextracted/books-08cc1cadac9047f797ad38080ec4240d-000014-words.tar gs://ocro-iaa-sample/words/words-000014.tar\n"
     ]
    },
    {
     "name": "stderr",
     "output_type": "stream",
     "text": [
      "Copying file://iaextracted/books-08cc1cadac9047f797ad38080ec4240d-000014-words.tar [Content-Type=application/x-tar]...\n",
      "\\ [1 files][118.2 MiB/118.2 MiB]                                                \n",
      "Operation completed over 1 objects/118.2 MiB.                                    \n"
     ]
    },
    {
     "name": "stdout",
     "output_type": "stream",
     "text": [
      "15 iaextracted/books-08cc1cadac9047f797ad38080ec4240d-000015-words.tar\n",
      "# gsutil cp iaextracted/books-08cc1cadac9047f797ad38080ec4240d-000015-words.tar gs://ocro-iaa-sample/words/words-000015.tar\n"
     ]
    },
    {
     "name": "stderr",
     "output_type": "stream",
     "text": [
      "Copying file://iaextracted/books-08cc1cadac9047f797ad38080ec4240d-000015-words.tar [Content-Type=application/x-tar]...\n",
      "- [1 files][ 93.9 MiB/ 93.9 MiB]                                                \n",
      "Operation completed over 1 objects/93.9 MiB.                                     \n"
     ]
    },
    {
     "name": "stdout",
     "output_type": "stream",
     "text": [
      "16 iaextracted/books-08cc1cadac9047f797ad38080ec4240d-000016-words.tar\n",
      "# gsutil cp iaextracted/books-08cc1cadac9047f797ad38080ec4240d-000016-words.tar gs://ocro-iaa-sample/words/words-000016.tar\n"
     ]
    },
    {
     "name": "stderr",
     "output_type": "stream",
     "text": [
      "Copying file://iaextracted/books-08cc1cadac9047f797ad38080ec4240d-000016-words.tar [Content-Type=application/x-tar]...\n",
      "\\ [1 files][127.5 MiB/127.5 MiB]                                                \n",
      "Operation completed over 1 objects/127.5 MiB.                                    \n"
     ]
    },
    {
     "name": "stdout",
     "output_type": "stream",
     "text": [
      "17 iaextracted/books-08cc1cadac9047f797ad38080ec4240d-000017-words.tar\n",
      "# gsutil cp iaextracted/books-08cc1cadac9047f797ad38080ec4240d-000017-words.tar gs://ocro-iaa-sample/words/words-000017.tar\n"
     ]
    },
    {
     "name": "stderr",
     "output_type": "stream",
     "text": [
      "Copying file://iaextracted/books-08cc1cadac9047f797ad38080ec4240d-000017-words.tar [Content-Type=application/x-tar]...\n",
      "==> NOTE: You are uploading one or more large file(s), which would run          \n",
      "significantly faster if you enable parallel composite uploads. This\n",
      "feature can be enabled by editing the\n",
      "\"parallel_composite_upload_threshold\" value in your .boto\n",
      "configuration file. However, note that if you do this large files will\n",
      "be uploaded as `composite objects\n",
      "<https://cloud.google.com/storage/docs/composite-objects>`_,which\n",
      "means that any user who downloads such objects will need to have a\n",
      "compiled crcmod installed (see \"gsutil help crcmod\"). This is because\n",
      "without a compiled crcmod, computing checksums on composite objects is\n",
      "so slow that gsutil disables downloads of composite objects.\n",
      "\n",
      "| [1 files][189.1 MiB/189.1 MiB]                                                \n",
      "Operation completed over 1 objects/189.1 MiB.                                    \n"
     ]
    },
    {
     "name": "stdout",
     "output_type": "stream",
     "text": [
      "18 iaextracted/books-08cc1cadac9047f797ad38080ec4240d-000018-words.tar\n",
      "# gsutil cp iaextracted/books-08cc1cadac9047f797ad38080ec4240d-000018-words.tar gs://ocro-iaa-sample/words/words-000018.tar\n"
     ]
    },
    {
     "name": "stderr",
     "output_type": "stream",
     "text": [
      "Copying file://iaextracted/books-08cc1cadac9047f797ad38080ec4240d-000018-words.tar [Content-Type=application/x-tar]...\n",
      "==> NOTE: You are uploading one or more large file(s), which would run          \n",
      "significantly faster if you enable parallel composite uploads. This\n",
      "feature can be enabled by editing the\n",
      "\"parallel_composite_upload_threshold\" value in your .boto\n",
      "configuration file. However, note that if you do this large files will\n",
      "be uploaded as `composite objects\n",
      "<https://cloud.google.com/storage/docs/composite-objects>`_,which\n",
      "means that any user who downloads such objects will need to have a\n",
      "compiled crcmod installed (see \"gsutil help crcmod\"). This is because\n",
      "without a compiled crcmod, computing checksums on composite objects is\n",
      "so slow that gsutil disables downloads of composite objects.\n",
      "\n",
      "\\ [1 files][170.0 MiB/170.0 MiB]                                                \n",
      "Operation completed over 1 objects/170.0 MiB.                                    \n"
     ]
    },
    {
     "name": "stdout",
     "output_type": "stream",
     "text": [
      "19 iaextracted/books-08cc1cadac9047f797ad38080ec4240d-000019-words.tar\n",
      "# gsutil cp iaextracted/books-08cc1cadac9047f797ad38080ec4240d-000019-words.tar gs://ocro-iaa-sample/words/words-000019.tar\n"
     ]
    },
    {
     "name": "stderr",
     "output_type": "stream",
     "text": [
      "Copying file://iaextracted/books-08cc1cadac9047f797ad38080ec4240d-000019-words.tar [Content-Type=application/x-tar]...\n",
      "- [1 files][ 69.6 MiB/ 69.6 MiB]                                                \n",
      "Operation completed over 1 objects/69.6 MiB.                                     \n"
     ]
    },
    {
     "name": "stdout",
     "output_type": "stream",
     "text": [
      "20 iaextracted/books-08cc1cadac9047f797ad38080ec4240d-000020-words.tar\n",
      "# gsutil cp iaextracted/books-08cc1cadac9047f797ad38080ec4240d-000020-words.tar gs://ocro-iaa-sample/words/words-000020.tar\n"
     ]
    },
    {
     "name": "stderr",
     "output_type": "stream",
     "text": [
      "Copying file://iaextracted/books-08cc1cadac9047f797ad38080ec4240d-000020-words.tar [Content-Type=application/x-tar]...\n",
      "==> NOTE: You are uploading one or more large file(s), which would run          \n",
      "significantly faster if you enable parallel composite uploads. This\n",
      "feature can be enabled by editing the\n",
      "\"parallel_composite_upload_threshold\" value in your .boto\n",
      "configuration file. However, note that if you do this large files will\n",
      "be uploaded as `composite objects\n",
      "<https://cloud.google.com/storage/docs/composite-objects>`_,which\n",
      "means that any user who downloads such objects will need to have a\n",
      "compiled crcmod installed (see \"gsutil help crcmod\"). This is because\n",
      "without a compiled crcmod, computing checksums on composite objects is\n",
      "so slow that gsutil disables downloads of composite objects.\n",
      "\n",
      "| [1 files][170.9 MiB/170.9 MiB]                                                \n",
      "Operation completed over 1 objects/170.9 MiB.                                    \n"
     ]
    },
    {
     "name": "stdout",
     "output_type": "stream",
     "text": [
      "21 iaextracted/books-08cc1cadac9047f797ad38080ec4240d-000021-words.tar\n",
      "# gsutil cp iaextracted/books-08cc1cadac9047f797ad38080ec4240d-000021-words.tar gs://ocro-iaa-sample/words/words-000021.tar\n"
     ]
    },
    {
     "name": "stderr",
     "output_type": "stream",
     "text": [
      "Copying file://iaextracted/books-08cc1cadac9047f797ad38080ec4240d-000021-words.tar [Content-Type=application/x-tar]...\n",
      "==> NOTE: You are uploading one or more large file(s), which would run          \n",
      "significantly faster if you enable parallel composite uploads. This\n",
      "feature can be enabled by editing the\n",
      "\"parallel_composite_upload_threshold\" value in your .boto\n",
      "configuration file. However, note that if you do this large files will\n",
      "be uploaded as `composite objects\n",
      "<https://cloud.google.com/storage/docs/composite-objects>`_,which\n",
      "means that any user who downloads such objects will need to have a\n",
      "compiled crcmod installed (see \"gsutil help crcmod\"). This is because\n",
      "without a compiled crcmod, computing checksums on composite objects is\n",
      "so slow that gsutil disables downloads of composite objects.\n",
      "\n",
      "- [1 files][238.2 MiB/238.2 MiB]                                                \n",
      "Operation completed over 1 objects/238.2 MiB.                                    \n"
     ]
    },
    {
     "name": "stdout",
     "output_type": "stream",
     "text": [
      "22 iaextracted/books-08cc1cadac9047f797ad38080ec4240d-000022-words.tar\n",
      "# gsutil cp iaextracted/books-08cc1cadac9047f797ad38080ec4240d-000022-words.tar gs://ocro-iaa-sample/words/words-000022.tar\n"
     ]
    },
    {
     "name": "stderr",
     "output_type": "stream",
     "text": [
      "Copying file://iaextracted/books-08cc1cadac9047f797ad38080ec4240d-000022-words.tar [Content-Type=application/x-tar]...\n",
      "\\ [1 files][122.9 MiB/122.9 MiB]                                                \n",
      "Operation completed over 1 objects/122.9 MiB.                                    \n"
     ]
    },
    {
     "name": "stdout",
     "output_type": "stream",
     "text": [
      "23 iaextracted/books-08cc1cadac9047f797ad38080ec4240d-000023-words.tar\n",
      "# gsutil cp iaextracted/books-08cc1cadac9047f797ad38080ec4240d-000023-words.tar gs://ocro-iaa-sample/words/words-000023.tar\n"
     ]
    },
    {
     "name": "stderr",
     "output_type": "stream",
     "text": [
      "Copying file://iaextracted/books-08cc1cadac9047f797ad38080ec4240d-000023-words.tar [Content-Type=application/x-tar]...\n",
      "==> NOTE: You are uploading one or more large file(s), which would run          \n",
      "significantly faster if you enable parallel composite uploads. This\n",
      "feature can be enabled by editing the\n",
      "\"parallel_composite_upload_threshold\" value in your .boto\n",
      "configuration file. However, note that if you do this large files will\n",
      "be uploaded as `composite objects\n",
      "<https://cloud.google.com/storage/docs/composite-objects>`_,which\n",
      "means that any user who downloads such objects will need to have a\n",
      "compiled crcmod installed (see \"gsutil help crcmod\"). This is because\n",
      "without a compiled crcmod, computing checksums on composite objects is\n",
      "so slow that gsutil disables downloads of composite objects.\n",
      "\n",
      "| [1 files][212.9 MiB/212.9 MiB]                                                \n",
      "Operation completed over 1 objects/212.9 MiB.                                    \n"
     ]
    },
    {
     "name": "stdout",
     "output_type": "stream",
     "text": [
      "24 iaextracted/books-08cc1cadac9047f797ad38080ec4240d-000024-words.tar\n",
      "# gsutil cp iaextracted/books-08cc1cadac9047f797ad38080ec4240d-000024-words.tar gs://ocro-iaa-sample/words/words-000024.tar\n"
     ]
    },
    {
     "name": "stderr",
     "output_type": "stream",
     "text": [
      "Copying file://iaextracted/books-08cc1cadac9047f797ad38080ec4240d-000024-words.tar [Content-Type=application/x-tar]...\n",
      "\\ [1 files][130.2 MiB/130.2 MiB]                                                \n",
      "Operation completed over 1 objects/130.2 MiB.                                    \n"
     ]
    },
    {
     "name": "stdout",
     "output_type": "stream",
     "text": [
      "25 iaextracted/books-08cc1cadac9047f797ad38080ec4240d-000025-words.tar\n",
      "# gsutil cp iaextracted/books-08cc1cadac9047f797ad38080ec4240d-000025-words.tar gs://ocro-iaa-sample/words/words-000025.tar\n"
     ]
    },
    {
     "name": "stderr",
     "output_type": "stream",
     "text": [
      "Copying file://iaextracted/books-08cc1cadac9047f797ad38080ec4240d-000025-words.tar [Content-Type=application/x-tar]...\n",
      "==> NOTE: You are uploading one or more large file(s), which would run          \n",
      "significantly faster if you enable parallel composite uploads. This\n",
      "feature can be enabled by editing the\n",
      "\"parallel_composite_upload_threshold\" value in your .boto\n",
      "configuration file. However, note that if you do this large files will\n",
      "be uploaded as `composite objects\n",
      "<https://cloud.google.com/storage/docs/composite-objects>`_,which\n",
      "means that any user who downloads such objects will need to have a\n",
      "compiled crcmod installed (see \"gsutil help crcmod\"). This is because\n",
      "without a compiled crcmod, computing checksums on composite objects is\n",
      "so slow that gsutil disables downloads of composite objects.\n",
      "\n",
      "| [1 files][199.9 MiB/199.9 MiB]                                                \n",
      "Operation completed over 1 objects/199.9 MiB.                                    \n"
     ]
    },
    {
     "name": "stdout",
     "output_type": "stream",
     "text": [
      "26 iaextracted/books-08cc1cadac9047f797ad38080ec4240d-000026-words.tar\n",
      "# gsutil cp iaextracted/books-08cc1cadac9047f797ad38080ec4240d-000026-words.tar gs://ocro-iaa-sample/words/words-000026.tar\n"
     ]
    },
    {
     "name": "stderr",
     "output_type": "stream",
     "text": [
      "Copying file://iaextracted/books-08cc1cadac9047f797ad38080ec4240d-000026-words.tar [Content-Type=application/x-tar]...\n",
      "==> NOTE: You are uploading one or more large file(s), which would run          \n",
      "significantly faster if you enable parallel composite uploads. This\n",
      "feature can be enabled by editing the\n",
      "\"parallel_composite_upload_threshold\" value in your .boto\n",
      "configuration file. However, note that if you do this large files will\n",
      "be uploaded as `composite objects\n",
      "<https://cloud.google.com/storage/docs/composite-objects>`_,which\n",
      "means that any user who downloads such objects will need to have a\n",
      "compiled crcmod installed (see \"gsutil help crcmod\"). This is because\n",
      "without a compiled crcmod, computing checksums on composite objects is\n",
      "so slow that gsutil disables downloads of composite objects.\n",
      "\n",
      "| [1 files][202.8 MiB/202.8 MiB]                                                \n",
      "Operation completed over 1 objects/202.8 MiB.                                    \n"
     ]
    },
    {
     "name": "stdout",
     "output_type": "stream",
     "text": [
      "27 iaextracted/books-08cc1cadac9047f797ad38080ec4240d-000027-words.tar\n",
      "# gsutil cp iaextracted/books-08cc1cadac9047f797ad38080ec4240d-000027-words.tar gs://ocro-iaa-sample/words/words-000027.tar\n"
     ]
    },
    {
     "name": "stderr",
     "output_type": "stream",
     "text": [
      "Copying file://iaextracted/books-08cc1cadac9047f797ad38080ec4240d-000027-words.tar [Content-Type=application/x-tar]...\n",
      "==> NOTE: You are uploading one or more large file(s), which would run          \n",
      "significantly faster if you enable parallel composite uploads. This\n",
      "feature can be enabled by editing the\n",
      "\"parallel_composite_upload_threshold\" value in your .boto\n",
      "configuration file. However, note that if you do this large files will\n",
      "be uploaded as `composite objects\n",
      "<https://cloud.google.com/storage/docs/composite-objects>`_,which\n",
      "means that any user who downloads such objects will need to have a\n",
      "compiled crcmod installed (see \"gsutil help crcmod\"). This is because\n",
      "without a compiled crcmod, computing checksums on composite objects is\n",
      "so slow that gsutil disables downloads of composite objects.\n",
      "\n",
      "/ [1 files][227.1 MiB/227.1 MiB]                                                \n",
      "Operation completed over 1 objects/227.1 MiB.                                    \n"
     ]
    },
    {
     "name": "stdout",
     "output_type": "stream",
     "text": [
      "28 iaextracted/books-08cc1cadac9047f797ad38080ec4240d-000028-words.tar\n",
      "# gsutil cp iaextracted/books-08cc1cadac9047f797ad38080ec4240d-000028-words.tar gs://ocro-iaa-sample/words/words-000028.tar\n"
     ]
    },
    {
     "name": "stderr",
     "output_type": "stream",
     "text": [
      "Copying file://iaextracted/books-08cc1cadac9047f797ad38080ec4240d-000028-words.tar [Content-Type=application/x-tar]...\n",
      "==> NOTE: You are uploading one or more large file(s), which would run          \n",
      "significantly faster if you enable parallel composite uploads. This\n",
      "feature can be enabled by editing the\n",
      "\"parallel_composite_upload_threshold\" value in your .boto\n",
      "configuration file. However, note that if you do this large files will\n",
      "be uploaded as `composite objects\n",
      "<https://cloud.google.com/storage/docs/composite-objects>`_,which\n",
      "means that any user who downloads such objects will need to have a\n",
      "compiled crcmod installed (see \"gsutil help crcmod\"). This is because\n",
      "without a compiled crcmod, computing checksums on composite objects is\n",
      "so slow that gsutil disables downloads of composite objects.\n",
      "\n",
      "\\ [1 files][160.1 MiB/160.1 MiB]                                                \n",
      "Operation completed over 1 objects/160.1 MiB.                                    \n"
     ]
    },
    {
     "name": "stdout",
     "output_type": "stream",
     "text": [
      "29 iaextracted/books-08cc1cadac9047f797ad38080ec4240d-000029-words.tar\n",
      "# gsutil cp iaextracted/books-08cc1cadac9047f797ad38080ec4240d-000029-words.tar gs://ocro-iaa-sample/words/words-000029.tar\n"
     ]
    },
    {
     "name": "stderr",
     "output_type": "stream",
     "text": [
      "Copying file://iaextracted/books-08cc1cadac9047f797ad38080ec4240d-000029-words.tar [Content-Type=application/x-tar]...\n",
      "==> NOTE: You are uploading one or more large file(s), which would run          \n",
      "significantly faster if you enable parallel composite uploads. This\n",
      "feature can be enabled by editing the\n",
      "\"parallel_composite_upload_threshold\" value in your .boto\n",
      "configuration file. However, note that if you do this large files will\n",
      "be uploaded as `composite objects\n",
      "<https://cloud.google.com/storage/docs/composite-objects>`_,which\n",
      "means that any user who downloads such objects will need to have a\n",
      "compiled crcmod installed (see \"gsutil help crcmod\"). This is because\n",
      "without a compiled crcmod, computing checksums on composite objects is\n",
      "so slow that gsutil disables downloads of composite objects.\n",
      "\n",
      "/ [1 files][154.0 MiB/154.0 MiB]                                                \n",
      "Operation completed over 1 objects/154.0 MiB.                                    \n"
     ]
    },
    {
     "name": "stdout",
     "output_type": "stream",
     "text": [
      "30 iaextracted/books-08cc1cadac9047f797ad38080ec4240d-000030-words.tar\n",
      "# gsutil cp iaextracted/books-08cc1cadac9047f797ad38080ec4240d-000030-words.tar gs://ocro-iaa-sample/words/words-000030.tar\n"
     ]
    },
    {
     "name": "stderr",
     "output_type": "stream",
     "text": [
      "Copying file://iaextracted/books-08cc1cadac9047f797ad38080ec4240d-000030-words.tar [Content-Type=application/x-tar]...\n",
      "==> NOTE: You are uploading one or more large file(s), which would run          \n",
      "significantly faster if you enable parallel composite uploads. This\n",
      "feature can be enabled by editing the\n",
      "\"parallel_composite_upload_threshold\" value in your .boto\n",
      "configuration file. However, note that if you do this large files will\n",
      "be uploaded as `composite objects\n",
      "<https://cloud.google.com/storage/docs/composite-objects>`_,which\n",
      "means that any user who downloads such objects will need to have a\n",
      "compiled crcmod installed (see \"gsutil help crcmod\"). This is because\n",
      "without a compiled crcmod, computing checksums on composite objects is\n",
      "so slow that gsutil disables downloads of composite objects.\n",
      "\n",
      "/ [1 files][272.2 MiB/272.2 MiB]                                                \n",
      "Operation completed over 1 objects/272.2 MiB.                                    \n"
     ]
    },
    {
     "name": "stdout",
     "output_type": "stream",
     "text": [
      "31 iaextracted/books-08cc1cadac9047f797ad38080ec4240d-000031-words.tar\n",
      "# gsutil cp iaextracted/books-08cc1cadac9047f797ad38080ec4240d-000031-words.tar gs://ocro-iaa-sample/words/words-000031.tar\n"
     ]
    },
    {
     "name": "stderr",
     "output_type": "stream",
     "text": [
      "Copying file://iaextracted/books-08cc1cadac9047f797ad38080ec4240d-000031-words.tar [Content-Type=application/x-tar]...\n",
      "==> NOTE: You are uploading one or more large file(s), which would run          \n",
      "significantly faster if you enable parallel composite uploads. This\n",
      "feature can be enabled by editing the\n",
      "\"parallel_composite_upload_threshold\" value in your .boto\n",
      "configuration file. However, note that if you do this large files will\n",
      "be uploaded as `composite objects\n",
      "<https://cloud.google.com/storage/docs/composite-objects>`_,which\n",
      "means that any user who downloads such objects will need to have a\n",
      "compiled crcmod installed (see \"gsutil help crcmod\"). This is because\n",
      "without a compiled crcmod, computing checksums on composite objects is\n",
      "so slow that gsutil disables downloads of composite objects.\n",
      "\n",
      "| [1 files][189.1 MiB/189.1 MiB]                                                \n",
      "Operation completed over 1 objects/189.1 MiB.                                    \n"
     ]
    },
    {
     "name": "stdout",
     "output_type": "stream",
     "text": [
      "32 iaextracted/books-08cc1cadac9047f797ad38080ec4240d-000032-words.tar\n",
      "# gsutil cp iaextracted/books-08cc1cadac9047f797ad38080ec4240d-000032-words.tar gs://ocro-iaa-sample/words/words-000032.tar\n"
     ]
    },
    {
     "name": "stderr",
     "output_type": "stream",
     "text": [
      "Copying file://iaextracted/books-08cc1cadac9047f797ad38080ec4240d-000032-words.tar [Content-Type=application/x-tar]...\n",
      "==> NOTE: You are uploading one or more large file(s), which would run          \n",
      "significantly faster if you enable parallel composite uploads. This\n",
      "feature can be enabled by editing the\n",
      "\"parallel_composite_upload_threshold\" value in your .boto\n",
      "configuration file. However, note that if you do this large files will\n",
      "be uploaded as `composite objects\n",
      "<https://cloud.google.com/storage/docs/composite-objects>`_,which\n",
      "means that any user who downloads such objects will need to have a\n",
      "compiled crcmod installed (see \"gsutil help crcmod\"). This is because\n",
      "without a compiled crcmod, computing checksums on composite objects is\n",
      "so slow that gsutil disables downloads of composite objects.\n",
      "\n",
      "/ [1 files][228.3 MiB/228.3 MiB]                                                \n",
      "Operation completed over 1 objects/228.3 MiB.                                    \n"
     ]
    },
    {
     "name": "stdout",
     "output_type": "stream",
     "text": [
      "33 iaextracted/books-08cc1cadac9047f797ad38080ec4240d-000033-words.tar\n",
      "# gsutil cp iaextracted/books-08cc1cadac9047f797ad38080ec4240d-000033-words.tar gs://ocro-iaa-sample/words/words-000033.tar\n"
     ]
    },
    {
     "name": "stderr",
     "output_type": "stream",
     "text": [
      "Copying file://iaextracted/books-08cc1cadac9047f797ad38080ec4240d-000033-words.tar [Content-Type=application/x-tar]...\n",
      "\\ [1 files][115.3 MiB/115.3 MiB]                                                \n",
      "Operation completed over 1 objects/115.3 MiB.                                    \n"
     ]
    },
    {
     "name": "stdout",
     "output_type": "stream",
     "text": [
      "34 iaextracted/books-08cc1cadac9047f797ad38080ec4240d-000034-words.tar\n",
      "# gsutil cp iaextracted/books-08cc1cadac9047f797ad38080ec4240d-000034-words.tar gs://ocro-iaa-sample/words/words-000034.tar\n"
     ]
    },
    {
     "name": "stderr",
     "output_type": "stream",
     "text": [
      "Copying file://iaextracted/books-08cc1cadac9047f797ad38080ec4240d-000034-words.tar [Content-Type=application/x-tar]...\n",
      "==> NOTE: You are uploading one or more large file(s), which would run          \n",
      "significantly faster if you enable parallel composite uploads. This\n",
      "feature can be enabled by editing the\n",
      "\"parallel_composite_upload_threshold\" value in your .boto\n",
      "configuration file. However, note that if you do this large files will\n",
      "be uploaded as `composite objects\n",
      "<https://cloud.google.com/storage/docs/composite-objects>`_,which\n",
      "means that any user who downloads such objects will need to have a\n",
      "compiled crcmod installed (see \"gsutil help crcmod\"). This is because\n",
      "without a compiled crcmod, computing checksums on composite objects is\n",
      "so slow that gsutil disables downloads of composite objects.\n",
      "\n",
      "| [1 files][193.0 MiB/193.0 MiB]                                                \n",
      "Operation completed over 1 objects/193.0 MiB.                                    \n"
     ]
    },
    {
     "name": "stdout",
     "output_type": "stream",
     "text": [
      "35 iaextracted/books-08cc1cadac9047f797ad38080ec4240d-000035-words.tar\n",
      "# gsutil cp iaextracted/books-08cc1cadac9047f797ad38080ec4240d-000035-words.tar gs://ocro-iaa-sample/words/words-000035.tar\n"
     ]
    },
    {
     "name": "stderr",
     "output_type": "stream",
     "text": [
      "Copying file://iaextracted/books-08cc1cadac9047f797ad38080ec4240d-000035-words.tar [Content-Type=application/x-tar]...\n",
      "==> NOTE: You are uploading one or more large file(s), which would run          \n",
      "significantly faster if you enable parallel composite uploads. This\n",
      "feature can be enabled by editing the\n",
      "\"parallel_composite_upload_threshold\" value in your .boto\n",
      "configuration file. However, note that if you do this large files will\n",
      "be uploaded as `composite objects\n",
      "<https://cloud.google.com/storage/docs/composite-objects>`_,which\n",
      "means that any user who downloads such objects will need to have a\n",
      "compiled crcmod installed (see \"gsutil help crcmod\"). This is because\n",
      "without a compiled crcmod, computing checksums on composite objects is\n",
      "so slow that gsutil disables downloads of composite objects.\n",
      "\n",
      "| [1 files][227.2 MiB/227.2 MiB]                                                \n",
      "Operation completed over 1 objects/227.2 MiB.                                    \n"
     ]
    },
    {
     "name": "stdout",
     "output_type": "stream",
     "text": [
      "36 iaextracted/books-08cc1cadac9047f797ad38080ec4240d-000036-words.tar\n",
      "# gsutil cp iaextracted/books-08cc1cadac9047f797ad38080ec4240d-000036-words.tar gs://ocro-iaa-sample/words/words-000036.tar\n"
     ]
    },
    {
     "name": "stderr",
     "output_type": "stream",
     "text": [
      "Copying file://iaextracted/books-08cc1cadac9047f797ad38080ec4240d-000036-words.tar [Content-Type=application/x-tar]...\n",
      "==> NOTE: You are uploading one or more large file(s), which would run          \n",
      "significantly faster if you enable parallel composite uploads. This\n",
      "feature can be enabled by editing the\n",
      "\"parallel_composite_upload_threshold\" value in your .boto\n",
      "configuration file. However, note that if you do this large files will\n",
      "be uploaded as `composite objects\n",
      "<https://cloud.google.com/storage/docs/composite-objects>`_,which\n",
      "means that any user who downloads such objects will need to have a\n",
      "compiled crcmod installed (see \"gsutil help crcmod\"). This is because\n",
      "without a compiled crcmod, computing checksums on composite objects is\n",
      "so slow that gsutil disables downloads of composite objects.\n",
      "\n",
      "/ [1 files][251.2 MiB/251.2 MiB]                                                \n",
      "Operation completed over 1 objects/251.2 MiB.                                    \n"
     ]
    },
    {
     "name": "stdout",
     "output_type": "stream",
     "text": [
      "37 iaextracted/books-08cc1cadac9047f797ad38080ec4240d-000037-words.tar\n",
      "# gsutil cp iaextracted/books-08cc1cadac9047f797ad38080ec4240d-000037-words.tar gs://ocro-iaa-sample/words/words-000037.tar\n"
     ]
    },
    {
     "name": "stderr",
     "output_type": "stream",
     "text": [
      "Copying file://iaextracted/books-08cc1cadac9047f797ad38080ec4240d-000037-words.tar [Content-Type=application/x-tar]...\n",
      "==> NOTE: You are uploading one or more large file(s), which would run          \n",
      "significantly faster if you enable parallel composite uploads. This\n",
      "feature can be enabled by editing the\n",
      "\"parallel_composite_upload_threshold\" value in your .boto\n",
      "configuration file. However, note that if you do this large files will\n",
      "be uploaded as `composite objects\n",
      "<https://cloud.google.com/storage/docs/composite-objects>`_,which\n",
      "means that any user who downloads such objects will need to have a\n",
      "compiled crcmod installed (see \"gsutil help crcmod\"). This is because\n",
      "without a compiled crcmod, computing checksums on composite objects is\n",
      "so slow that gsutil disables downloads of composite objects.\n",
      "\n",
      "| [1 files][197.2 MiB/197.2 MiB]                                                \n",
      "Operation completed over 1 objects/197.2 MiB.                                    \n"
     ]
    },
    {
     "name": "stdout",
     "output_type": "stream",
     "text": [
      "38 iaextracted/books-08cc1cadac9047f797ad38080ec4240d-000038-words.tar\n",
      "# gsutil cp iaextracted/books-08cc1cadac9047f797ad38080ec4240d-000038-words.tar gs://ocro-iaa-sample/words/words-000038.tar\n"
     ]
    },
    {
     "name": "stderr",
     "output_type": "stream",
     "text": [
      "Copying file://iaextracted/books-08cc1cadac9047f797ad38080ec4240d-000038-words.tar [Content-Type=application/x-tar]...\n",
      "==> NOTE: You are uploading one or more large file(s), which would run          \n",
      "significantly faster if you enable parallel composite uploads. This\n",
      "feature can be enabled by editing the\n",
      "\"parallel_composite_upload_threshold\" value in your .boto\n",
      "configuration file. However, note that if you do this large files will\n",
      "be uploaded as `composite objects\n",
      "<https://cloud.google.com/storage/docs/composite-objects>`_,which\n",
      "means that any user who downloads such objects will need to have a\n",
      "compiled crcmod installed (see \"gsutil help crcmod\"). This is because\n",
      "without a compiled crcmod, computing checksums on composite objects is\n",
      "so slow that gsutil disables downloads of composite objects.\n",
      "\n",
      "| [1 files][215.0 MiB/215.0 MiB]                                                \n",
      "Operation completed over 1 objects/215.0 MiB.                                    \n"
     ]
    },
    {
     "name": "stdout",
     "output_type": "stream",
     "text": [
      "39 iaextracted/books-08cc1cadac9047f797ad38080ec4240d-000039-words.tar\n",
      "# gsutil cp iaextracted/books-08cc1cadac9047f797ad38080ec4240d-000039-words.tar gs://ocro-iaa-sample/words/words-000039.tar\n"
     ]
    },
    {
     "name": "stderr",
     "output_type": "stream",
     "text": [
      "Copying file://iaextracted/books-08cc1cadac9047f797ad38080ec4240d-000039-words.tar [Content-Type=application/x-tar]...\n",
      "==> NOTE: You are uploading one or more large file(s), which would run          \n",
      "significantly faster if you enable parallel composite uploads. This\n",
      "feature can be enabled by editing the\n",
      "\"parallel_composite_upload_threshold\" value in your .boto\n",
      "configuration file. However, note that if you do this large files will\n",
      "be uploaded as `composite objects\n",
      "<https://cloud.google.com/storage/docs/composite-objects>`_,which\n",
      "means that any user who downloads such objects will need to have a\n",
      "compiled crcmod installed (see \"gsutil help crcmod\"). This is because\n",
      "without a compiled crcmod, computing checksums on composite objects is\n",
      "so slow that gsutil disables downloads of composite objects.\n",
      "\n",
      "/ [1 files][254.5 MiB/254.5 MiB]                                                \n",
      "Operation completed over 1 objects/254.5 MiB.                                    \n"
     ]
    },
    {
     "name": "stdout",
     "output_type": "stream",
     "text": [
      "40 iaextracted/books-08cc1cadac9047f797ad38080ec4240d-000040-words.tar\n",
      "# gsutil cp iaextracted/books-08cc1cadac9047f797ad38080ec4240d-000040-words.tar gs://ocro-iaa-sample/words/words-000040.tar\n"
     ]
    },
    {
     "name": "stderr",
     "output_type": "stream",
     "text": [
      "Copying file://iaextracted/books-08cc1cadac9047f797ad38080ec4240d-000040-words.tar [Content-Type=application/x-tar]...\n",
      "\\ [1 files][134.3 MiB/134.3 MiB]                                                \n",
      "Operation completed over 1 objects/134.3 MiB.                                    \n"
     ]
    },
    {
     "name": "stdout",
     "output_type": "stream",
     "text": [
      "41 iaextracted/books-08cc1cadac9047f797ad38080ec4240d-000041-words.tar\n",
      "# gsutil cp iaextracted/books-08cc1cadac9047f797ad38080ec4240d-000041-words.tar gs://ocro-iaa-sample/words/words-000041.tar\n"
     ]
    },
    {
     "name": "stderr",
     "output_type": "stream",
     "text": [
      "Copying file://iaextracted/books-08cc1cadac9047f797ad38080ec4240d-000041-words.tar [Content-Type=application/x-tar]...\n",
      "==> NOTE: You are uploading one or more large file(s), which would run          \n",
      "significantly faster if you enable parallel composite uploads. This\n",
      "feature can be enabled by editing the\n",
      "\"parallel_composite_upload_threshold\" value in your .boto\n",
      "configuration file. However, note that if you do this large files will\n",
      "be uploaded as `composite objects\n",
      "<https://cloud.google.com/storage/docs/composite-objects>`_,which\n",
      "means that any user who downloads such objects will need to have a\n",
      "compiled crcmod installed (see \"gsutil help crcmod\"). This is because\n",
      "without a compiled crcmod, computing checksums on composite objects is\n",
      "so slow that gsutil disables downloads of composite objects.\n",
      "\n",
      "| [1 files][210.1 MiB/210.1 MiB]                                                \n",
      "Operation completed over 1 objects/210.1 MiB.                                    \n"
     ]
    },
    {
     "name": "stdout",
     "output_type": "stream",
     "text": [
      "42 iaextracted/books-08cc1cadac9047f797ad38080ec4240d-000042-words.tar\n",
      "# gsutil cp iaextracted/books-08cc1cadac9047f797ad38080ec4240d-000042-words.tar gs://ocro-iaa-sample/words/words-000042.tar\n"
     ]
    },
    {
     "name": "stderr",
     "output_type": "stream",
     "text": [
      "Copying file://iaextracted/books-08cc1cadac9047f797ad38080ec4240d-000042-words.tar [Content-Type=application/x-tar]...\n",
      "- [1 files][109.5 MiB/109.5 MiB]                                                \n",
      "Operation completed over 1 objects/109.5 MiB.                                    \n"
     ]
    },
    {
     "name": "stdout",
     "output_type": "stream",
     "text": [
      "43 iaextracted/books-08cc1cadac9047f797ad38080ec4240d-000043-words.tar\n",
      "# gsutil cp iaextracted/books-08cc1cadac9047f797ad38080ec4240d-000043-words.tar gs://ocro-iaa-sample/words/words-000043.tar\n"
     ]
    },
    {
     "name": "stderr",
     "output_type": "stream",
     "text": [
      "Copying file://iaextracted/books-08cc1cadac9047f797ad38080ec4240d-000043-words.tar [Content-Type=application/x-tar]...\n",
      "\\ [1 files][ 77.9 MiB/ 77.9 MiB]                                                \n",
      "Operation completed over 1 objects/77.9 MiB.                                     \n"
     ]
    },
    {
     "name": "stdout",
     "output_type": "stream",
     "text": [
      "44 iaextracted/books-08cc1cadac9047f797ad38080ec4240d-000044-words.tar\n",
      "# gsutil cp iaextracted/books-08cc1cadac9047f797ad38080ec4240d-000044-words.tar gs://ocro-iaa-sample/words/words-000044.tar\n"
     ]
    },
    {
     "name": "stderr",
     "output_type": "stream",
     "text": [
      "Copying file://iaextracted/books-08cc1cadac9047f797ad38080ec4240d-000044-words.tar [Content-Type=application/x-tar]...\n",
      "==> NOTE: You are uploading one or more large file(s), which would run          \n",
      "significantly faster if you enable parallel composite uploads. This\n",
      "feature can be enabled by editing the\n",
      "\"parallel_composite_upload_threshold\" value in your .boto\n",
      "configuration file. However, note that if you do this large files will\n",
      "be uploaded as `composite objects\n",
      "<https://cloud.google.com/storage/docs/composite-objects>`_,which\n",
      "means that any user who downloads such objects will need to have a\n",
      "compiled crcmod installed (see \"gsutil help crcmod\"). This is because\n",
      "without a compiled crcmod, computing checksums on composite objects is\n",
      "so slow that gsutil disables downloads of composite objects.\n",
      "\n",
      "/ [1 files][258.6 MiB/258.6 MiB]                                                \n",
      "Operation completed over 1 objects/258.6 MiB.                                    \n"
     ]
    },
    {
     "name": "stdout",
     "output_type": "stream",
     "text": [
      "45 iaextracted/books-08cc1cadac9047f797ad38080ec4240d-000045-words.tar\n",
      "# gsutil cp iaextracted/books-08cc1cadac9047f797ad38080ec4240d-000045-words.tar gs://ocro-iaa-sample/words/words-000045.tar\n"
     ]
    },
    {
     "name": "stderr",
     "output_type": "stream",
     "text": [
      "Copying file://iaextracted/books-08cc1cadac9047f797ad38080ec4240d-000045-words.tar [Content-Type=application/x-tar]...\n",
      "==> NOTE: You are uploading one or more large file(s), which would run          \n",
      "significantly faster if you enable parallel composite uploads. This\n",
      "feature can be enabled by editing the\n",
      "\"parallel_composite_upload_threshold\" value in your .boto\n",
      "configuration file. However, note that if you do this large files will\n",
      "be uploaded as `composite objects\n",
      "<https://cloud.google.com/storage/docs/composite-objects>`_,which\n",
      "means that any user who downloads such objects will need to have a\n",
      "compiled crcmod installed (see \"gsutil help crcmod\"). This is because\n",
      "without a compiled crcmod, computing checksums on composite objects is\n",
      "so slow that gsutil disables downloads of composite objects.\n",
      "\n",
      "| [1 files][179.5 MiB/179.5 MiB]                                                \n",
      "Operation completed over 1 objects/179.5 MiB.                                    \n"
     ]
    },
    {
     "name": "stdout",
     "output_type": "stream",
     "text": [
      "46 iaextracted/books-08cc1cadac9047f797ad38080ec4240d-000046-words.tar\n",
      "# gsutil cp iaextracted/books-08cc1cadac9047f797ad38080ec4240d-000046-words.tar gs://ocro-iaa-sample/words/words-000046.tar\n"
     ]
    },
    {
     "name": "stderr",
     "output_type": "stream",
     "text": [
      "Copying file://iaextracted/books-08cc1cadac9047f797ad38080ec4240d-000046-words.tar [Content-Type=application/x-tar]...\n",
      "==> NOTE: You are uploading one or more large file(s), which would run          \n",
      "significantly faster if you enable parallel composite uploads. This\n",
      "feature can be enabled by editing the\n",
      "\"parallel_composite_upload_threshold\" value in your .boto\n",
      "configuration file. However, note that if you do this large files will\n",
      "be uploaded as `composite objects\n",
      "<https://cloud.google.com/storage/docs/composite-objects>`_,which\n",
      "means that any user who downloads such objects will need to have a\n",
      "compiled crcmod installed (see \"gsutil help crcmod\"). This is because\n",
      "without a compiled crcmod, computing checksums on composite objects is\n",
      "so slow that gsutil disables downloads of composite objects.\n",
      "\n",
      "\\ [1 files][152.1 MiB/152.1 MiB]                                                \n",
      "Operation completed over 1 objects/152.1 MiB.                                    \n"
     ]
    },
    {
     "name": "stdout",
     "output_type": "stream",
     "text": [
      "47 iaextracted/books-08cc1cadac9047f797ad38080ec4240d-000047-words.tar\n",
      "# gsutil cp iaextracted/books-08cc1cadac9047f797ad38080ec4240d-000047-words.tar gs://ocro-iaa-sample/words/words-000047.tar\n"
     ]
    },
    {
     "name": "stderr",
     "output_type": "stream",
     "text": [
      "Copying file://iaextracted/books-08cc1cadac9047f797ad38080ec4240d-000047-words.tar [Content-Type=application/x-tar]...\n",
      "==> NOTE: You are uploading one or more large file(s), which would run          \n",
      "significantly faster if you enable parallel composite uploads. This\n",
      "feature can be enabled by editing the\n",
      "\"parallel_composite_upload_threshold\" value in your .boto\n",
      "configuration file. However, note that if you do this large files will\n",
      "be uploaded as `composite objects\n",
      "<https://cloud.google.com/storage/docs/composite-objects>`_,which\n",
      "means that any user who downloads such objects will need to have a\n",
      "compiled crcmod installed (see \"gsutil help crcmod\"). This is because\n",
      "without a compiled crcmod, computing checksums on composite objects is\n",
      "so slow that gsutil disables downloads of composite objects.\n",
      "\n",
      "- [1 files][319.8 MiB/319.8 MiB]                                                \n",
      "Operation completed over 1 objects/319.8 MiB.                                    \n"
     ]
    },
    {
     "name": "stdout",
     "output_type": "stream",
     "text": [
      "48 iaextracted/books-08cc1cadac9047f797ad38080ec4240d-000048-words.tar\n",
      "# gsutil cp iaextracted/books-08cc1cadac9047f797ad38080ec4240d-000048-words.tar gs://ocro-iaa-sample/words/words-000048.tar\n"
     ]
    },
    {
     "name": "stderr",
     "output_type": "stream",
     "text": [
      "Copying file://iaextracted/books-08cc1cadac9047f797ad38080ec4240d-000048-words.tar [Content-Type=application/x-tar]...\n",
      "- [1 files][ 84.9 MiB/ 84.9 MiB]                                                \n",
      "Operation completed over 1 objects/84.9 MiB.                                     \n"
     ]
    },
    {
     "name": "stdout",
     "output_type": "stream",
     "text": [
      "49 iaextracted/books-08cc1cadac9047f797ad38080ec4240d-000049-words.tar\n",
      "# gsutil cp iaextracted/books-08cc1cadac9047f797ad38080ec4240d-000049-words.tar gs://ocro-iaa-sample/words/words-000049.tar\n"
     ]
    },
    {
     "name": "stderr",
     "output_type": "stream",
     "text": [
      "Copying file://iaextracted/books-08cc1cadac9047f797ad38080ec4240d-000049-words.tar [Content-Type=application/x-tar]...\n",
      "==> NOTE: You are uploading one or more large file(s), which would run          \n",
      "significantly faster if you enable parallel composite uploads. This\n",
      "feature can be enabled by editing the\n",
      "\"parallel_composite_upload_threshold\" value in your .boto\n",
      "configuration file. However, note that if you do this large files will\n",
      "be uploaded as `composite objects\n",
      "<https://cloud.google.com/storage/docs/composite-objects>`_,which\n",
      "means that any user who downloads such objects will need to have a\n",
      "compiled crcmod installed (see \"gsutil help crcmod\"). This is because\n",
      "without a compiled crcmod, computing checksums on composite objects is\n",
      "so slow that gsutil disables downloads of composite objects.\n",
      "\n",
      "| [1 files][204.6 MiB/204.6 MiB]                                                \n",
      "Operation completed over 1 objects/204.6 MiB.                                    \n"
     ]
    },
    {
     "name": "stdout",
     "output_type": "stream",
     "text": [
      "50 iaextracted/books-08cc1cadac9047f797ad38080ec4240d-000050-words.tar\n",
      "# gsutil cp iaextracted/books-08cc1cadac9047f797ad38080ec4240d-000050-words.tar gs://ocro-iaa-sample/words/words-000050.tar\n"
     ]
    },
    {
     "name": "stderr",
     "output_type": "stream",
     "text": [
      "Copying file://iaextracted/books-08cc1cadac9047f797ad38080ec4240d-000050-words.tar [Content-Type=application/x-tar]...\n",
      "\\ [1 files][138.3 MiB/138.3 MiB]                                                \n",
      "Operation completed over 1 objects/138.3 MiB.                                    \n"
     ]
    },
    {
     "name": "stdout",
     "output_type": "stream",
     "text": [
      "51 iaextracted/books-08cc1cadac9047f797ad38080ec4240d-000051-words.tar\n",
      "# gsutil cp iaextracted/books-08cc1cadac9047f797ad38080ec4240d-000051-words.tar gs://ocro-iaa-sample/words/words-000051.tar\n"
     ]
    },
    {
     "name": "stderr",
     "output_type": "stream",
     "text": [
      "Copying file://iaextracted/books-08cc1cadac9047f797ad38080ec4240d-000051-words.tar [Content-Type=application/x-tar]...\n",
      "/ [1 files][ 40.2 MiB/ 40.2 MiB]                                                \n",
      "Operation completed over 1 objects/40.2 MiB.                                     \n"
     ]
    },
    {
     "name": "stdout",
     "output_type": "stream",
     "text": [
      "52 iaextracted/books-08cc1cadac9047f797ad38080ec4240d-000052-words.tar\n",
      "# gsutil cp iaextracted/books-08cc1cadac9047f797ad38080ec4240d-000052-words.tar gs://ocro-iaa-sample/words/words-000052.tar\n"
     ]
    },
    {
     "name": "stderr",
     "output_type": "stream",
     "text": [
      "Copying file://iaextracted/books-08cc1cadac9047f797ad38080ec4240d-000052-words.tar [Content-Type=application/x-tar]...\n",
      "==> NOTE: You are uploading one or more large file(s), which would run          \n",
      "significantly faster if you enable parallel composite uploads. This\n",
      "feature can be enabled by editing the\n",
      "\"parallel_composite_upload_threshold\" value in your .boto\n",
      "configuration file. However, note that if you do this large files will\n",
      "be uploaded as `composite objects\n",
      "<https://cloud.google.com/storage/docs/composite-objects>`_,which\n",
      "means that any user who downloads such objects will need to have a\n",
      "compiled crcmod installed (see \"gsutil help crcmod\"). This is because\n",
      "without a compiled crcmod, computing checksums on composite objects is\n",
      "so slow that gsutil disables downloads of composite objects.\n",
      "\n",
      "| [1 files][199.7 MiB/199.7 MiB]                                                \n",
      "Operation completed over 1 objects/199.7 MiB.                                    \n"
     ]
    },
    {
     "name": "stdout",
     "output_type": "stream",
     "text": [
      "53 iaextracted/books-08cc1cadac9047f797ad38080ec4240d-000053-words.tar\n",
      "# gsutil cp iaextracted/books-08cc1cadac9047f797ad38080ec4240d-000053-words.tar gs://ocro-iaa-sample/words/words-000053.tar\n"
     ]
    },
    {
     "name": "stderr",
     "output_type": "stream",
     "text": [
      "Copying file://iaextracted/books-08cc1cadac9047f797ad38080ec4240d-000053-words.tar [Content-Type=application/x-tar]...\n",
      "\\ [1 files][118.3 MiB/118.3 MiB]                                                \n",
      "Operation completed over 1 objects/118.3 MiB.                                    \n"
     ]
    },
    {
     "name": "stdout",
     "output_type": "stream",
     "text": [
      "54 iaextracted/books-08cc1cadac9047f797ad38080ec4240d-000054-words.tar\n",
      "# gsutil cp iaextracted/books-08cc1cadac9047f797ad38080ec4240d-000054-words.tar gs://ocro-iaa-sample/words/words-000054.tar\n"
     ]
    },
    {
     "name": "stderr",
     "output_type": "stream",
     "text": [
      "Copying file://iaextracted/books-08cc1cadac9047f797ad38080ec4240d-000054-words.tar [Content-Type=application/x-tar]...\n",
      "- [1 files][ 97.3 MiB/ 97.3 MiB]                                                \n",
      "Operation completed over 1 objects/97.3 MiB.                                     \n"
     ]
    },
    {
     "name": "stdout",
     "output_type": "stream",
     "text": [
      "55 iaextracted/books-08cc1cadac9047f797ad38080ec4240d-000055-words.tar\n",
      "# gsutil cp iaextracted/books-08cc1cadac9047f797ad38080ec4240d-000055-words.tar gs://ocro-iaa-sample/words/words-000055.tar\n"
     ]
    },
    {
     "name": "stderr",
     "output_type": "stream",
     "text": [
      "Copying file://iaextracted/books-08cc1cadac9047f797ad38080ec4240d-000055-words.tar [Content-Type=application/x-tar]...\n",
      "==> NOTE: You are uploading one or more large file(s), which would run          \n",
      "significantly faster if you enable parallel composite uploads. This\n",
      "feature can be enabled by editing the\n",
      "\"parallel_composite_upload_threshold\" value in your .boto\n",
      "configuration file. However, note that if you do this large files will\n",
      "be uploaded as `composite objects\n",
      "<https://cloud.google.com/storage/docs/composite-objects>`_,which\n",
      "means that any user who downloads such objects will need to have a\n",
      "compiled crcmod installed (see \"gsutil help crcmod\"). This is because\n",
      "without a compiled crcmod, computing checksums on composite objects is\n",
      "so slow that gsutil disables downloads of composite objects.\n",
      "\n",
      "| [1 files][218.5 MiB/218.5 MiB]                                                \n",
      "Operation completed over 1 objects/218.5 MiB.                                    \n"
     ]
    },
    {
     "name": "stdout",
     "output_type": "stream",
     "text": [
      "56 iaextracted/books-08cc1cadac9047f797ad38080ec4240d-000056-words.tar\n",
      "# gsutil cp iaextracted/books-08cc1cadac9047f797ad38080ec4240d-000056-words.tar gs://ocro-iaa-sample/words/words-000056.tar\n"
     ]
    },
    {
     "name": "stderr",
     "output_type": "stream",
     "text": [
      "Copying file://iaextracted/books-08cc1cadac9047f797ad38080ec4240d-000056-words.tar [Content-Type=application/x-tar]...\n",
      "\\ [1 files][144.7 MiB/144.7 MiB]                                                \n",
      "Operation completed over 1 objects/144.7 MiB.                                    \n"
     ]
    },
    {
     "name": "stdout",
     "output_type": "stream",
     "text": [
      "57 iaextracted/books-08cc1cadac9047f797ad38080ec4240d-000057-words.tar\n",
      "# gsutil cp iaextracted/books-08cc1cadac9047f797ad38080ec4240d-000057-words.tar gs://ocro-iaa-sample/words/words-000057.tar\n"
     ]
    },
    {
     "name": "stderr",
     "output_type": "stream",
     "text": [
      "Copying file://iaextracted/books-08cc1cadac9047f797ad38080ec4240d-000057-words.tar [Content-Type=application/x-tar]...\n",
      "==> NOTE: You are uploading one or more large file(s), which would run          \n",
      "significantly faster if you enable parallel composite uploads. This\n",
      "feature can be enabled by editing the\n",
      "\"parallel_composite_upload_threshold\" value in your .boto\n",
      "configuration file. However, note that if you do this large files will\n",
      "be uploaded as `composite objects\n",
      "<https://cloud.google.com/storage/docs/composite-objects>`_,which\n",
      "means that any user who downloads such objects will need to have a\n",
      "compiled crcmod installed (see \"gsutil help crcmod\"). This is because\n",
      "without a compiled crcmod, computing checksums on composite objects is\n",
      "so slow that gsutil disables downloads of composite objects.\n",
      "\n",
      "| [1 files][211.0 MiB/211.0 MiB]                                                \n",
      "Operation completed over 1 objects/211.0 MiB.                                    \n"
     ]
    },
    {
     "name": "stdout",
     "output_type": "stream",
     "text": [
      "58 iaextracted/books-08cc1cadac9047f797ad38080ec4240d-000058-words.tar\n",
      "# gsutil cp iaextracted/books-08cc1cadac9047f797ad38080ec4240d-000058-words.tar gs://ocro-iaa-sample/words/words-000058.tar\n"
     ]
    },
    {
     "name": "stderr",
     "output_type": "stream",
     "text": [
      "Copying file://iaextracted/books-08cc1cadac9047f797ad38080ec4240d-000058-words.tar [Content-Type=application/x-tar]...\n",
      "==> NOTE: You are uploading one or more large file(s), which would run          \n",
      "significantly faster if you enable parallel composite uploads. This\n",
      "feature can be enabled by editing the\n",
      "\"parallel_composite_upload_threshold\" value in your .boto\n",
      "configuration file. However, note that if you do this large files will\n",
      "be uploaded as `composite objects\n",
      "<https://cloud.google.com/storage/docs/composite-objects>`_,which\n",
      "means that any user who downloads such objects will need to have a\n",
      "compiled crcmod installed (see \"gsutil help crcmod\"). This is because\n",
      "without a compiled crcmod, computing checksums on composite objects is\n",
      "so slow that gsutil disables downloads of composite objects.\n",
      "\n",
      "| [1 files][162.2 MiB/162.2 MiB]                                                \n",
      "Operation completed over 1 objects/162.2 MiB.                                    \n"
     ]
    },
    {
     "name": "stdout",
     "output_type": "stream",
     "text": [
      "59 iaextracted/books-08cc1cadac9047f797ad38080ec4240d-000059-words.tar\n",
      "# gsutil cp iaextracted/books-08cc1cadac9047f797ad38080ec4240d-000059-words.tar gs://ocro-iaa-sample/words/words-000059.tar\n"
     ]
    },
    {
     "name": "stderr",
     "output_type": "stream",
     "text": [
      "Copying file://iaextracted/books-08cc1cadac9047f797ad38080ec4240d-000059-words.tar [Content-Type=application/x-tar]...\n",
      "==> NOTE: You are uploading one or more large file(s), which would run          \n",
      "significantly faster if you enable parallel composite uploads. This\n",
      "feature can be enabled by editing the\n",
      "\"parallel_composite_upload_threshold\" value in your .boto\n",
      "configuration file. However, note that if you do this large files will\n",
      "be uploaded as `composite objects\n",
      "<https://cloud.google.com/storage/docs/composite-objects>`_,which\n",
      "means that any user who downloads such objects will need to have a\n",
      "compiled crcmod installed (see \"gsutil help crcmod\"). This is because\n",
      "without a compiled crcmod, computing checksums on composite objects is\n",
      "so slow that gsutil disables downloads of composite objects.\n",
      "\n",
      "| [1 files][237.2 MiB/237.2 MiB]                                                \n",
      "Operation completed over 1 objects/237.2 MiB.                                    \n"
     ]
    },
    {
     "name": "stdout",
     "output_type": "stream",
     "text": [
      "60 iaextracted/books-08cc1cadac9047f797ad38080ec4240d-000060-words.tar\n",
      "# gsutil cp iaextracted/books-08cc1cadac9047f797ad38080ec4240d-000060-words.tar gs://ocro-iaa-sample/words/words-000060.tar\n"
     ]
    },
    {
     "name": "stderr",
     "output_type": "stream",
     "text": [
      "Copying file://iaextracted/books-08cc1cadac9047f797ad38080ec4240d-000060-words.tar [Content-Type=application/x-tar]...\n",
      "\\ [1 files][110.7 MiB/110.7 MiB]                                                \n",
      "Operation completed over 1 objects/110.7 MiB.                                    \n"
     ]
    },
    {
     "name": "stdout",
     "output_type": "stream",
     "text": [
      "61 iaextracted/books-08cc1cadac9047f797ad38080ec4240d-000061-words.tar\n",
      "# gsutil cp iaextracted/books-08cc1cadac9047f797ad38080ec4240d-000061-words.tar gs://ocro-iaa-sample/words/words-000061.tar\n"
     ]
    },
    {
     "name": "stderr",
     "output_type": "stream",
     "text": [
      "Copying file://iaextracted/books-08cc1cadac9047f797ad38080ec4240d-000061-words.tar [Content-Type=application/x-tar]...\n",
      "==> NOTE: You are uploading one or more large file(s), which would run          \n",
      "significantly faster if you enable parallel composite uploads. This\n",
      "feature can be enabled by editing the\n",
      "\"parallel_composite_upload_threshold\" value in your .boto\n",
      "configuration file. However, note that if you do this large files will\n",
      "be uploaded as `composite objects\n",
      "<https://cloud.google.com/storage/docs/composite-objects>`_,which\n",
      "means that any user who downloads such objects will need to have a\n",
      "compiled crcmod installed (see \"gsutil help crcmod\"). This is because\n",
      "without a compiled crcmod, computing checksums on composite objects is\n",
      "so slow that gsutil disables downloads of composite objects.\n",
      "\n",
      "| [1 files][203.9 MiB/203.9 MiB]                                                \n",
      "Operation completed over 1 objects/203.9 MiB.                                    \n"
     ]
    }
   ],
   "source": [
    "for i, fname in enumerate(sorted(glob.glob(\"iaextracted/books-*-segs.tar\"))):\n",
    "    print(i, fname)\n",
    "    run(f\"gsutil cp {fname} gs://{bucket}/segs/segs-{i:06d}.tar\")\n",
    "for i, fname in enumerate(sorted(glob.glob(\"iaextracted/books-*-lines.tar\"))):\n",
    "    print(i, fname)\n",
    "    run(f\"gsutil cp {fname} gs://{bucket}/lines/lines-{i:06d}.tar\")\n",
    "for i, fname in enumerate(sorted(glob.glob(\"iaextracted/books-*-words.tar\"))):\n",
    "    print(i, fname)\n",
    "    run(f\"gsutil cp {fname} gs://{bucket}/words/words-{i:06d}.tar\")"
   ]
  },
  {
   "cell_type": "code",
   "execution_count": null,
   "metadata": {},
   "outputs": [],
   "source": []
  }
 ],
 "metadata": {
  "kernelspec": {
   "display_name": "venv",
   "language": "python",
   "name": "python3"
  },
  "language_info": {
   "codemirror_mode": {
    "name": "ipython",
    "version": 3
   },
   "file_extension": ".py",
   "mimetype": "text/x-python",
   "name": "python",
   "nbconvert_exporter": "python",
   "pygments_lexer": "ipython3",
   "version": "3.10.6"
  },
  "orig_nbformat": 4
 },
 "nbformat": 4,
 "nbformat_minor": 2
}
