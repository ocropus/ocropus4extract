{
 "cells": [
  {
   "cell_type": "code",
   "execution_count": 1,
   "metadata": {},
   "outputs": [
    {
     "name": "stdout",
     "output_type": "stream",
     "text": [
      "%pylab is deprecated, use %matplotlib inline and import the required libraries.\n",
      "Populating the interactive namespace from numpy and matplotlib\n"
     ]
    }
   ],
   "source": [
    "%pylab inline"
   ]
  },
  {
   "cell_type": "code",
   "execution_count": 13,
   "metadata": {},
   "outputs": [],
   "source": [
    "import PIL # must do this before importing lxml because of bug in Pillow/lxml (gzip conflict)\n",
    "import numpy as np\n",
    "import tempfile\n",
    "from itertools import islice\n",
    "import xml.etree.ElementTree as ET\n",
    "from lxml import etree\n",
    "import io\n",
    "import matplotlib.pyplot as plt\n",
    "from matplotlib.patches import Rectangle\n",
    "import imageio.v2 as imageio\n",
    "import subprocess\n",
    "import os\n",
    "import webdataset as wds\n",
    "import glob\n",
    "import textcheck\n",
    "import scipy.ndimage as ndi\n",
    "\n",
    "import numpy as np\n",
    "import matplotlib.pyplot as plt\n",
    "from ipywidgets import interact, interact_manual\n",
    "import ipywidgets as widgets\n",
    "\n",
    "from xml.etree.ElementTree import Element, SubElement, tostring, parse\n",
    "from xml.dom import minidom\n"
   ]
  },
  {
   "cell_type": "code",
   "execution_count": 14,
   "metadata": {},
   "outputs": [
    {
     "data": {
      "text/plain": [
       "<module 'iautils' from '/home/tmb/ocropus4extract/iautils.py'>"
      ]
     },
     "execution_count": 14,
     "metadata": {},
     "output_type": "execute_result"
    }
   ],
   "source": [
    "from importlib import reload\n",
    "import iautils\n",
    "reload(iautils)"
   ]
  },
  {
   "cell_type": "code",
   "execution_count": 4,
   "metadata": {},
   "outputs": [
    {
     "name": "stdout",
     "output_type": "stream",
     "text": [
      "gs://ocro-iaa/books/books-{000000..000703}.tar\n"
     ]
    }
   ],
   "source": [
    "!gsutil ls gs://ocro-iaa/books | shardsum"
   ]
  },
  {
   "cell_type": "code",
   "execution_count": 5,
   "metadata": {},
   "outputs": [
    {
     "name": "stdout",
     "output_type": "stream",
     "text": [
      "dict_keys(['__key__', '__url__', 'abbyy.gz', 'json', 'zip'])\n"
     ]
    }
   ],
   "source": [
    "ds = wds.WebDataset(\"gs://ocro-iaa/books/books-000000.tar\").decode()\n",
    "sample = next(iter(ds))\n",
    "print(sample.keys())"
   ]
  },
  {
   "cell_type": "code",
   "execution_count": 131,
   "metadata": {},
   "outputs": [
    {
     "name": "stdout",
     "output_type": "stream",
     "text": [
      "b'<?xml version=\"1.0\" encoding=\"UTF-8\"?>\\n<document version=\"1.0\" producer=\"LuraDocument XML Exporter for ABBYY FineReader\" pagesCount=\"298\"           \\n xmlns=\"http://www.abbyy.com/FineReader_xml/FineReader6-schema-v1.xml\" xmlns:xsi=\"http://www.w3.org/2001/XMLSchema-instance\" xsi:schemaLocation=\"http://www.abbyy.com/FineReader_xml/FineReader6-schema-v1.xml http://www.abbyy.com/FineReader_xml/FineReader6-schema-v1.xml\">\\n<page width=\"1000\" height=\"1500\" resolution=\"500\" originalCoords=\"true\">\\n</page>'\n",
      "b'/page>\\n<page width=\"1000\" height=\"1500\" resolution=\"500\" originalCoords=\"true\">\\n</page>\\n</document>\\n'\n"
     ]
    }
   ],
   "source": [
    "abbyy = sample[\"abbyy.gz\"]\n",
    "print(abbyy[:500])\n",
    "print(abbyy[-100:])"
   ]
  },
  {
   "cell_type": "code",
   "execution_count": 132,
   "metadata": {},
   "outputs": [],
   "source": [
    "def parse_abbby_xml(xml_string):\n",
    "    \"\"\"\n",
    "    Parses an ABBYY XML string into an element tree.\n",
    "\n",
    "    Args:\n",
    "        xml_string (str): The ABBYY XML string to parse.\n",
    "\n",
    "    Returns:\n",
    "        ElementTree.Element: The root element of the parsed XML element tree.\n",
    "    \"\"\"\n",
    "    return ET.fromstring(xml_string)"
   ]
  },
  {
   "cell_type": "code",
   "execution_count": 133,
   "metadata": {},
   "outputs": [],
   "source": [
    "def strip_namespace(xml_element):\n",
    "    \"\"\"\n",
    "    Creates a new XML element tree with the namespace stripped from the given XML element tree.\n",
    "\n",
    "    Args:\n",
    "        xml_element (ElementTree.Element): The root element of the XML element tree.\n",
    "\n",
    "    Returns:\n",
    "        ElementTree.Element: The new XML element tree with the namespace stripped.\n",
    "    \"\"\"\n",
    "    # Create a new element with the tag name without the namespace prefix.\n",
    "    new_element = Element(xml_element.tag.split('}')[-1], xml_element.attrib)\n",
    "    if xml_element.text:\n",
    "        new_element.text = xml_element.text\n",
    "\n",
    "    # Recurse over the child elements.\n",
    "    for child in xml_element:\n",
    "        new_child = strip_namespace(child)\n",
    "        new_element.append(new_child)\n",
    "\n",
    "    return new_element\n",
    "\n"
   ]
  },
  {
   "cell_type": "code",
   "execution_count": 134,
   "metadata": {},
   "outputs": [],
   "source": [
    "xml = parse_abbby_xml(abbyy)\n",
    "xml = strip_namespace(xml)"
   ]
  },
  {
   "cell_type": "code",
   "execution_count": 135,
   "metadata": {},
   "outputs": [],
   "source": [
    "def copy_document_tree(tree, remove_element=None, remaining=0):\n",
    "    \"\"\"\n",
    "    Recursively create a copy of an XML document tree, optionally removing elements of a specific tag name\n",
    "    when a remaining count is reached.\n",
    "\n",
    "    Args:\n",
    "        tree (xml.etree.ElementTree.Element): The XML tree to copy.\n",
    "        remove_element (str): The tag name of elements to remove.\n",
    "        remaining (int): The remaining count for the element to remove.\n",
    "\n",
    "    Returns:\n",
    "        xml.etree.ElementTree.Element: A copy of the input XML tree.\n",
    "    \"\"\"\n",
    "    # Create a new element with the same tag name and attributes.\n",
    "    new_element = ET.Element(tree.tag, tree.attrib)\n",
    "    # Recursively copy over all sub-elements, conditionally removing elements when remaining is zero.\n",
    "    for child in tree:\n",
    "        if remaining > 0 or child.tag != remove_element:\n",
    "            new_child, remaining = copy_document_tree(child, remove_element, remaining)\n",
    "            new_element.append(new_child)\n",
    "    # Copy over any text content.\n",
    "    new_element.text = tree.text\n",
    "    new_element.tail = tree.tail\n",
    "    return new_element, (remaining - 1 if tree.tag == remove_element else remaining)\n",
    "\n",
    "\n",
    "xml, _ = copy_document_tree(xml, \"page\", 10)"
   ]
  },
  {
   "cell_type": "code",
   "execution_count": 136,
   "metadata": {},
   "outputs": [],
   "source": [
    "from xml.dom import minidom\n",
    "\n",
    "def element_to_string(xml_element):\n",
    "    \"\"\"\n",
    "    Converts an XML element to a pretty-printed, indented XML string.\n",
    "\n",
    "    Args:\n",
    "        xml_element (ElementTree.Element): The root element of the XML element tree.\n",
    "\n",
    "    Returns:\n",
    "        str: The pretty-printed, indented XML string.\n",
    "    \"\"\"\n",
    "    # Convert the element tree to a string and parse it with minidom\n",
    "    xml_string = ET.tostring(xml_element, encoding='UTF-8')\n",
    "    parsed_xml = minidom.parseString(xml_string)\n",
    "\n",
    "    # Pretty-print the parsed XML string\n",
    "    pretty_xml_string = parsed_xml.toprettyxml(indent='    ', encoding='UTF-8')\n",
    "\n",
    "    # Decode the pretty-printed XML string and return it\n",
    "    return pretty_xml_string.decode('UTF-8')"
   ]
  },
  {
   "cell_type": "code",
   "execution_count": 137,
   "metadata": {},
   "outputs": [
    {
     "name": "stdout",
     "output_type": "stream",
     "text": [
      "<?xml version=\"1.0\" encoding=\"UTF-8\"?>\n",
      "<document xmlns:xsi=\"http://www.w3.org/2001/XMLSchema-instance\" version=\"1.0\" producer=\"LuraDocument XML Exporter for ABBYY FineReader\" pagesCount=\"298\" xsi:schemaLocation=\"http://www.abbyy.com/FineReader_xml/FineReader6-schema-v1.xml http://www.abbyy.com/FineReader_xml/FineReader6-schema-v1.xml\">\n",
      "    \n",
      "\n",
      "    <page width=\"1000\" height=\"1500\" resolution=\"500\" originalCoords=\"true\">\n",
      "</page>\n",
      "    <page width=\"2854\" height=\"4155\" resolution=\"500\" originalCoords=\"true\">\n",
      "        \n",
      "\n",
      "        <block blockType=\"Picture\" l=\"0\" t=\"0\" r=\"2854\" b=\"4154\">\n",
      "            \n",
      "\n",
      "            <region>\n",
      "                <rect l=\"0\" t=\"0\" r=\"2854\" b=\"4154\"/>\n",
      "            </region>\n",
      "        </block>\n",
      "    </page>\n",
      "    <page width=\"2854\" height=\"4155\" resolution=\"500\" originalCoords=\"true\">\n",
      "        \n",
      "\n",
      "        <block blockType=\"Text\" l=\"900\" t=\"16\" r=\"1856\" b=\"300\">\n",
      "            \n",
      "\n",
      "            <region>\n",
      "                <rect l=\"900\" t=\"16\" r=\"1856\" b=\"300\"/>\n",
      "            </region>\n",
      "            <text>\n",
      "                \n",
      "\n",
      "                <par>\n",
      "                    \n",
      "\n",
      "                    <line baseline=\"123\" l=\"914\" t=\"30\" r=\"1842\" b=\"142\">\n",
      "                        <formatting lang=\"EnglishUnitedStates\" ff=\"Arial\" fs=\"11.\" bold=\"true\" spacing=\"-6\">\n",
      "                            <charParams l=\"914\" t=\"30\" r=\"962\" b=\"88\" wordStart=\"true\" wordFromDictionary=\"true\" wordNormal=\"true\" wordNumeric=\"false\" wordIdentifier=\"false\" charConfidence=\"30\" serifProbability=\"6\" wordPenalty=\"9\" meanStrokeWidth=\"78\">H</charParams>\n",
      "                            <charParams l=\"966\" t=\"36\" r=\"1014\" b=\"90\" wordStart=\"false\" wordFromDictionary=\"true\" wordNormal=\"true\" wordNumeric=\"false\" wordIdentifier=\"false\" charConfidence=\"16\" serifProbability=\"0\" wordPenalty=\"9\" meanStrokeWidth=\"78\">A</charParams>\n",
      "                            <charParams l=\"1022\" t=\"38\" r=\"1066\" b=\"94\" wordStart=\"false\" wordFromDictionary=\"true\" wordNormal=\"true\" wordNumeric=\"false\" wordIdentifier=\"false\" charConfidence=\"49\" serifProbability=\"0\" wordPenalty=\"9\" meanStrokeWidth=\"78\">R</charParams>\n",
      "                            <charParams l=\"1074\" t=\"42\" r=\"1130\" b=\"100\" wordStart=\"false\" wordFromDictionary=\"true\" wordNormal=\"true\" wordNumeric=\"false\" wordIdentifier=\"false\" charConfidence=\"32\" serifProbability=\"255\" wordPenalty=\"9\" meanStrokeWidth=\"78\">O</charParams>\n",
      "                            <charParams l=\"1136\" t=\"46\" r=\"1172\" b=\"102\" wordStart=\"false\" wordFromDictionary=\"true\" wordNormal=\"true\" wordNumeric=\"false\" wordIdentifier=\"false\" charConfidence=\"6\" serifProbability=\"0\" wordPenalty=\"9\" meanStrokeWidth=\"78\">L</charParams>\n",
      "                            <charParams l=\"1182\" t=\"48\" r=\"1232\" b=\"106\" wordStart=\"false\" wordFromDictionary=\"true\" wordNormal=\"true\" wordNumeric=\"false\" wordIdentifier=\"false\" charConfidence=\"84\" serifProbability=\"17\" wordPenalty=\"9\" meanStrokeWidth=\"78\">D</charParams>\n",
      "                            <charParams l=\"1232\" t=\"48\" r=\"1260\" b=\"123\" wordStart=\"false\" wordFromDictionary=\"false\" wordNormal\n"
     ]
    }
   ],
   "source": [
    "print(element_to_string(xml)[:3000])"
   ]
  },
  {
   "cell_type": "code",
   "execution_count": 138,
   "metadata": {},
   "outputs": [],
   "source": [
    "def filter_elements(tree, allowable_tags):\n",
    "    \"\"\"\n",
    "    Recursively filter an XML document tree to only include elements whose tags are in a list of allowable tags.\n",
    "    Any non-allowable child elements are moved up to their parent.\n",
    "\n",
    "    Args:\n",
    "        tree (xml.etree.ElementTree.Element): The XML tree to filter.\n",
    "        allowable_tags (list of str): The list of allowable tags.\n",
    "\n",
    "    Returns:\n",
    "        xml.etree.ElementTree.Element: The filtered XML tree.\n",
    "    \"\"\"\n",
    "    # Check whether the current element is in the list of allowable tags.\n",
    "    if tree.tag not in allowable_tags:\n",
    "        result = []\n",
    "        for child in tree:\n",
    "            child = filter_elements(child, allowable_tags)\n",
    "            if isinstance(child, list):\n",
    "                result.extend(child)\n",
    "            else:\n",
    "                result.append(child)\n",
    "        return result\n",
    "    \n",
    "    # Create a new element with the same tag name and attributes.\n",
    "    new_element = ET.Element(tree.tag, tree.attrib)\n",
    "    if tree.text:\n",
    "        new_element.text = tree.text\n",
    "\n",
    "    # Recursively filter over all sub-elements.\n",
    "    for child in tree:\n",
    "        new_child = filter_elements(child, allowable_tags)\n",
    "        if isinstance(new_child, list):\n",
    "            # If the child element is not in the list of allowable tags, move its children to the parent element.\n",
    "            for grandchild in new_child:\n",
    "                new_element.append(grandchild)\n",
    "        else:\n",
    "            new_element.append(new_child)\n",
    "\n",
    "    # Copy over any text content.\n",
    "    new_element.text = tree.text\n",
    "    new_element.tail = tree.tail\n",
    "    return new_element\n"
   ]
  },
  {
   "cell_type": "code",
   "execution_count": 139,
   "metadata": {},
   "outputs": [],
   "source": [
    "allowable_tags = \"document page block line charParams\".split()\n",
    "xml2 = filter_elements(xml, allowable_tags)"
   ]
  },
  {
   "cell_type": "code",
   "execution_count": 140,
   "metadata": {},
   "outputs": [
    {
     "name": "stdout",
     "output_type": "stream",
     "text": [
      "<?xml version=\"1.0\" encoding=\"UTF-8\"?>\n",
      "<document xmlns:xsi=\"http://www.w3.org/2001/XMLSchema-instance\" version=\"1.0\" producer=\"LuraDocument XML Exporter for ABBYY FineReader\" pagesCount=\"298\" xsi:schemaLocation=\"http://www.abbyy.com/FineReader_xml/FineReader6-schema-v1.xml http://www.abbyy.com/FineReader_xml/FineReader6-schema-v1.xml\">\n",
      "    \n",
      "\n",
      "    <page width=\"1000\" height=\"1500\" resolution=\"500\" originalCoords=\"true\">\n",
      "</page>\n",
      "    <page width=\"2854\" height=\"4155\" resolution=\"500\" originalCoords=\"true\">\n",
      "        \n",
      "\n",
      "        <block blockType=\"Picture\" l=\"0\" t=\"0\" r=\"2854\" b=\"4154\">\n",
      "</block>\n",
      "    </page>\n",
      "    <page width=\"2854\" height=\"4155\" resolution=\"500\" originalCoords=\"true\">\n",
      "        \n",
      "\n",
      "        <block blockType=\"Text\" l=\"900\" t=\"16\" r=\"1856\" b=\"300\">\n",
      "            \n",
      "\n",
      "            <line baseline=\"123\" l=\"914\" t=\"30\" r=\"1842\" b=\"142\">\n",
      "                <charParams l=\"914\" t=\"30\" r=\"962\" b=\"88\" wordStart=\"true\" wordFromDictionary=\"true\" wordNormal=\"true\" wordNumeric=\"false\" wordIdentifier=\"false\" charConfidence=\"30\" serifProbability=\"6\" wordPenalty=\"9\" meanStrokeWidth=\"78\">H</charParams>\n",
      "                <charParams l=\"966\" t=\"36\" r=\"1014\" b=\"90\" wordStart=\"false\" wordFromDictionary=\"true\" wordNormal=\"true\" wordNumeric=\"false\" wordIdentifier=\"false\" charConfidence=\"16\" serifProbability=\"0\" wordPenalty=\"9\" meanStrokeWidth=\"78\">A</charParams>\n",
      "                <charParams l=\"1022\" t=\"38\" r=\"1066\" b=\"94\" wordStart=\"false\" wordFromDictionary=\"true\" wordNormal=\"true\" wordNumeric=\"false\" wordIdentifier=\"false\" charConfidence=\"49\" serifProbability=\"0\" wordPenalty=\"9\" meanStrokeWidth=\"78\">R</charParams>\n",
      "                <charParams l=\"1074\" t=\"42\" r=\"1130\" b=\"100\" wordStart=\"false\" wordFromDictionary=\"true\" wordNormal=\"true\" wordNumeric=\"false\" wordIdentifier=\"false\" charConfidence=\"32\" serifProbability=\"255\" wordPenalty=\"9\" meanStrokeWidth=\"78\">O</charParams>\n",
      "                <charParams l=\"1136\" t=\"46\" r=\"1172\" b=\"102\" wordStart=\"false\" wordFromDictionary=\"true\" wordNormal=\"true\" wordNumeric=\"false\" wordIdentifier=\"false\" charConfidence=\"6\" serifProbability=\"0\" wordPenalty=\"9\" meanStrokeWidth=\"78\">L</charParams>\n",
      "                <charParams l=\"1182\" t=\"48\" r=\"1232\" b=\"106\" wordStart=\"false\" wordFromDictionary=\"true\" wordNormal=\"true\" wordNumeric=\"false\" wordIdentifier=\"false\" charConfidence=\"84\" serifProbability=\"17\" wordPenalty=\"9\" meanStrokeWidth=\"78\">D</charParams>\n",
      "                <charParams l=\"1232\" t=\"48\" r=\"1260\" b=\"123\" wordStart=\"false\" wordFromDictionary=\"false\" wordNormal=\"false\" wordNumeric=\"false\" wordIdentifier=\"false\" charConfidence=\"255\" serifProbability=\"255\" wordPenalty=\"0\" meanStrokeWidth=\"0\"> </charParams>\n",
      "                <charParams l=\"1260\" t=\"54\" r=\"1306\" b=\"110\" suspicious=\"true\" wordStart=\"true\" wordFromDictionary=\"false\" wordNormal=\"true\" wordNumeric=\"false\" wordIdentifier=\"false\" charConfidence=\"26\" serifProbability=\"43\" wordPenalty=\"0\" meanStrokeWidth=\"92\">B</charParams>\n",
      "                <charParams l=\"1314\" t=\"102\" r=\"1324\" b=\"112\" wordStart=\"fa\n"
     ]
    }
   ],
   "source": [
    "\n",
    "print(element_to_string(xml2)[:3000])"
   ]
  },
  {
   "cell_type": "code",
   "execution_count": 141,
   "metadata": {},
   "outputs": [],
   "source": [
    "def complete_element_tree(xml_element, hierarchy_tags):\n",
    "    \"\"\"\n",
    "    Recursively completes an XML element tree by ensuring that all child elements are contained within a valid hierarchy.\n",
    "\n",
    "    Args:\n",
    "        xml_element (ElementTree.Element): The root element of the XML element tree.\n",
    "        hierarchy_tags (list[str]): A list of tags representing the hierarchy of the XML element tree.\n",
    "\n",
    "    Returns:\n",
    "        ElementTree.Element: The completed XML element tree.\n",
    "    \"\"\"\n",
    "    # Recursively process all child elements\n",
    "    completed_element = ET.Element(xml_element.tag)\n",
    "    for child_element in xml_element:\n",
    "        if child_element.tag == hierarchy_tags[0]:\n",
    "            # Process child elements of allowable hierarchy recursively\n",
    "            completed_sub_element = complete_element_tree(child_element, hierarchy_tags[1:])\n",
    "            completed_element.append(completed_sub_element)\n",
    "        else:\n",
    "            # Create a new element of the allowable hierarchy level and add child elements to it\n",
    "            current_hierarchy_tag_index = hierarchy_tags.index(child_element.tag)\n",
    "            new_element_tag = hierarchy_tags[current_hierarchy_tag_index - 1]\n",
    "            new_element = ET.Element(new_element_tag)\n",
    "            for sub_element in complete_element_tree(child_element, hierarchy_tags[current_hierarchy_tag_index:]):\n",
    "                new_element.append(sub_element)\n",
    "            completed_element.append(new_element)\n",
    "\n",
    "    return completed_element\n"
   ]
  },
  {
   "cell_type": "code",
   "execution_count": 142,
   "metadata": {},
   "outputs": [],
   "source": [
    "def complete_element_tree(xml_element, hierarchy_tags):\n",
    "    \"\"\"\n",
    "    Recursively completes the given XML element tree by ensuring that each element has only the tags\n",
    "    specified in the given hierarchy.\n",
    "\n",
    "    Args:\n",
    "        xml_element (ElementTree.Element): The root element of the XML element tree.\n",
    "        hierarchy_tags (list[str]): A list of tags specifying the hierarchy of allowable tags.\n",
    "\n",
    "    Returns:\n",
    "        ElementTree.Element: The completed XML element tree.\n",
    "    \"\"\"\n",
    "    new_element = Element(xml_element.tag, xml_element.attrib)\n",
    "\n",
    "    # Iterate over child elements.\n",
    "    current_child_index = 0\n",
    "    while current_child_index < len(xml_element):\n",
    "        current_child = xml_element[current_child_index]\n",
    "\n",
    "        if current_child.tag == hierarchy_tags[0]:\n",
    "            # The child element has the correct tag.\n",
    "            new_child = complete_element_tree(current_child, hierarchy_tags[1:])\n",
    "            new_element.append(new_child)\n",
    "            current_child_index += 1\n",
    "        else:\n",
    "            # The child elements need to be grouped under a new element.\n",
    "            new_child = Element(hierarchy_tags[0])\n",
    "            while current_child_index < len(xml_element) and xml_element[current_child_index].tag != hierarchy_tags[0]:\n",
    "                current_grandchild = xml_element[current_child_index]\n",
    "                new_grandchild = complete_element_tree(current_grandchild, hierarchy_tags[1:])\n",
    "                new_child.append(new_grandchild)\n",
    "                current_child_index += 1\n",
    "            new_element.append(new_child)\n",
    "\n",
    "    return new_element\n",
    "\n"
   ]
  },
  {
   "cell_type": "code",
   "execution_count": 162,
   "metadata": {},
   "outputs": [],
   "source": [
    "from copy import deepcopy\n",
    "\n",
    "def group_chars_into_words(chars):\n",
    "    words = []\n",
    "    current_word = []\n",
    "    for char in chars:\n",
    "        if char.attrib.get('wordStart', '') == 'true' or char.text == ' ':\n",
    "            if current_word:\n",
    "                words.append(current_word)\n",
    "            if char.text == ' ':\n",
    "                current_word = []\n",
    "                words.append(deepcopy(char))\n",
    "            else:\n",
    "                current_word = [char]\n",
    "        else:\n",
    "            current_word.append(char)\n",
    "    if current_word:\n",
    "        words.append(current_word)\n",
    "    return words\n",
    "\n",
    "def compute_bounding_box(chars):\n",
    "    left = min(int(c.attrib.get('l', 0)) for c in chars)\n",
    "    top = min(int(c.attrib.get('t', 0)) for c in chars)\n",
    "    right = max(int(c.attrib.get('r', 0)) for c in chars)\n",
    "    bottom = max(int(c.attrib.get('b', 0)) for c in chars)\n",
    "    return left, top, right, bottom\n",
    "\n",
    "def abbby_line_to_word_boxes(line):\n",
    "    words = []\n",
    "    for word_chars in group_chars_into_words(line.findall(\".//charParams\")):\n",
    "        if not isinstance(word_chars, list):\n",
    "            words.append(word_chars)\n",
    "            continue\n",
    "        bbox = compute_bounding_box(word_chars)\n",
    "        word = Element('word')\n",
    "        word.set('l', str(bbox[0]))\n",
    "        word.set('t', str(bbox[1]))\n",
    "        word.set('r', str(bbox[2]))\n",
    "        word.set('b', str(bbox[3]))\n",
    "        for char in word_chars:\n",
    "            word.append(char)\n",
    "        words.append(word)\n",
    "    new_line = Element('line', line.attrib)\n",
    "    for word in words:\n",
    "        new_line.append(word)\n",
    "    return new_line\n"
   ]
  },
  {
   "cell_type": "code",
   "execution_count": 164,
   "metadata": {},
   "outputs": [
    {
     "name": "stdout",
     "output_type": "stream",
     "text": [
      "<?xml version=\"1.0\" encoding=\"UTF-8\"?>\n",
      "<line baseline=\"296\" l=\"972\" t=\"164\" r=\"1816\" b=\"296\">\n",
      "    <word l=\"972\" t=\"164\" r=\"1816\" b=\"296\">\n",
      "        <charParams l=\"972\" t=\"168\" r=\"1100\" b=\"296\" wordStart=\"true\" wordFromDictionary=\"true\" wordNormal=\"true\" wordNumeric=\"false\" wordIdentifier=\"false\" charConfidence=\"57\" serifProbability=\"94\" wordPenalty=\"0\" meanStrokeWidth=\"224\">H</charParams>\n",
      "        <charParams l=\"1152\" t=\"164\" r=\"1268\" b=\"296\" wordStart=\"false\" wordFromDictionary=\"true\" wordNormal=\"true\" wordNumeric=\"false\" wordIdentifier=\"false\" charConfidence=\"54\" serifProbability=\"100\" wordPenalty=\"0\" meanStrokeWidth=\"224\">U</charParams>\n",
      "        <charParams l=\"1328\" t=\"172\" r=\"1448\" b=\"296\" wordStart=\"false\" wordFromDictionary=\"true\" wordNormal=\"true\" wordNumeric=\"false\" wordIdentifier=\"false\" charConfidence=\"27\" serifProbability=\"40\" wordPenalty=\"0\" meanStrokeWidth=\"224\">G</charParams>\n",
      "        <charParams l=\"1488\" t=\"172\" r=\"1596\" b=\"296\" wordStart=\"false\" wordFromDictionary=\"true\" wordNormal=\"true\" wordNumeric=\"false\" wordIdentifier=\"false\" charConfidence=\"40\" serifProbability=\"255\" wordPenalty=\"0\" meanStrokeWidth=\"224\">O</charParams>\n",
      "        <charParams l=\"1652\" t=\"168\" r=\"1676\" b=\"208\" wordStart=\"false\" wordFromDictionary=\"true\" wordNormal=\"true\" wordNumeric=\"false\" wordIdentifier=\"false\" charConfidence=\"63\" serifProbability=\"255\" wordPenalty=\"0\" meanStrokeWidth=\"224\">'</charParams>\n",
      "        <charParams l=\"1732\" t=\"164\" r=\"1816\" b=\"296\" wordStart=\"false\" wordFromDictionary=\"true\" wordNormal=\"true\" wordNumeric=\"false\" wordIdentifier=\"false\" charConfidence=\"100\" serifProbability=\"73\" wordPenalty=\"0\" meanStrokeWidth=\"224\">S</charParams>\n",
      "    </word>\n",
      "</line>\n",
      "\n"
     ]
    }
   ],
   "source": [
    "import random\n",
    "\n",
    "def pick_random(tree, tag):\n",
    "    elements = tree.findall('.//' + tag)\n",
    "    return random.choice(elements)\n",
    "\n",
    "line = pick_random(xml2, \"line\")\n",
    "line2 = abbby_line_to_word_boxes(line)\n",
    "print(element_to_string(line2))"
   ]
  },
  {
   "cell_type": "code",
   "execution_count": 165,
   "metadata": {},
   "outputs": [],
   "source": [
    "def map_tags(tree, tag_name, transform_func):\n",
    "    \"\"\"\n",
    "    Applies a transform function to each element in the tree with the given tag name and replaces it with the returned\n",
    "    tree.\n",
    "\n",
    "    Args:\n",
    "        tree (ElementTree): An XML element tree.\n",
    "        tag_name (str): The name of the tag to search for.\n",
    "        transform_func (callable): A function that takes an element as input and returns a transformed element tree.\n",
    "\n",
    "    Returns:\n",
    "        The modified element tree.\n",
    "    \"\"\"\n",
    "    def transform_element(elem):\n",
    "        if elem.tag == tag_name:\n",
    "            return transform_func(elem)\n",
    "        else:\n",
    "            return copy_element(elem)\n",
    "\n",
    "    def copy_element(elem):\n",
    "        new_elem = Element(elem.tag, elem.attrib)\n",
    "        if elem.text:\n",
    "            new_elem.text = elem.text\n",
    "        for child in elem:\n",
    "            new_child = transform_element(child)\n",
    "            new_elem.append(new_child)\n",
    "        return new_elem\n",
    "\n",
    "    return copy_element(tree)\n"
   ]
  },
  {
   "cell_type": "code",
   "execution_count": 166,
   "metadata": {},
   "outputs": [],
   "source": [
    "xml3 = map_tags(xml2, 'line', abbby_line_to_word_boxes)"
   ]
  },
  {
   "cell_type": "code",
   "execution_count": 167,
   "metadata": {},
   "outputs": [
    {
     "name": "stdout",
     "output_type": "stream",
     "text": [
      "<?xml version=\"1.0\" encoding=\"UTF-8\"?>\n",
      "<document xmlns:xsi=\"http://www.w3.org/2001/XMLSchema-instance\" version=\"1.0\" producer=\"LuraDocument XML Exporter for ABBYY FineReader\" pagesCount=\"298\" xsi:schemaLocation=\"http://www.abbyy.com/FineReader_xml/FineReader6-schema-v1.xml http://www.abbyy.com/FineReader_xml/FineReader6-schema-v1.xml\">\n",
      "    \n",
      "\n",
      "    <page width=\"1000\" height=\"1500\" resolution=\"500\" originalCoords=\"true\">\n",
      "</page>\n",
      "    <page width=\"2854\" height=\"4155\" resolution=\"500\" originalCoords=\"true\">\n",
      "        \n",
      "\n",
      "        <block blockType=\"Picture\" l=\"0\" t=\"0\" r=\"2854\" b=\"4154\">\n",
      "</block>\n",
      "    </page>\n",
      "    <page width=\"2854\" height=\"4155\" resolution=\"500\" originalCoords=\"true\">\n",
      "        \n",
      "\n",
      "        <block blockType=\"Text\" l=\"900\" t=\"16\" r=\"1856\" b=\"300\">\n",
      "            \n",
      "\n",
      "            <line baseline=\"123\" l=\"914\" t=\"30\" r=\"1842\" b=\"142\">\n",
      "                <word l=\"914\" t=\"30\" r=\"1232\" b=\"106\">\n",
      "                    <charParams l=\"914\" t=\"30\" r=\"962\" b=\"88\" wordStart=\"true\" wordFromDictionary=\"true\" wordNormal=\"true\" wordNumeric=\"false\" wordIdentifier=\"false\" charConfidence=\"30\" serifProbability=\"6\" wordPenalty=\"9\" meanStrokeWidth=\"78\">H</charParams>\n",
      "                    <charParams l=\"966\" t=\"36\" r=\"1014\" b=\"90\" wordStart=\"false\" wordFromDictionary=\"true\" wordNormal=\"true\" wordNumeric=\"false\" wordIdentifier=\"false\" charConfidence=\"16\" serifProbability=\"0\" wordPenalty=\"9\" meanStrokeWidth=\"78\">A</charParams>\n",
      "                    <charParams l=\"1022\" t=\"38\" r=\"1066\" b=\"94\" wordStart=\"false\" wordFromDictionary=\"true\" wordNormal=\"true\" wordNumeric=\"false\" wordIdentifier=\"false\" charConfidence=\"49\" serifProbability=\"0\" wordPenalty=\"9\" meanStrokeWidth=\"78\">R</charParams>\n",
      "                    <charParams l=\"1074\" t=\"42\" r=\"1130\" b=\"100\" wordStart=\"false\" wordFromDictionary=\"true\" wordNormal=\"true\" wordNumeric=\"false\" wordIdentifier=\"false\" charConfidence=\"32\" serifProbability=\"255\" wordPenalty=\"9\" meanStrokeWidth=\"78\">O</charParams>\n",
      "                    <charParams l=\"1136\" t=\"46\" r=\"1172\" b=\"102\" wordStart=\"false\" wordFromDictionary=\"true\" wordNormal=\"true\" wordNumeric=\"false\" wordIdentifier=\"false\" charConfidence=\"6\" serifProbability=\"0\" wordPenalty=\"9\" meanStrokeWidth=\"78\">L</charParams>\n",
      "                    <charParams l=\"1182\" t=\"48\" r=\"1232\" b=\"106\" wordStart=\"false\" wordFromDictionary=\"true\" wordNormal=\"true\" wordNumeric=\"false\" wordIdentifier=\"false\" charConfidence=\"84\" serifProbability=\"17\" wordPenalty=\"9\" meanStrokeWidth=\"78\">D</charParams>\n",
      "                </word>\n",
      "                <charParams l=\"1232\" t=\"48\" r=\"1260\" b=\"123\" wordStart=\"false\" wordFromDictionary=\"false\" wordNormal=\"false\" wordNumeric=\"false\" wordIdentifier=\"false\" charConfidence=\"255\" serifProbability=\"255\" wordPenalty=\"0\" meanStrokeWidth=\"0\"> </charParams>\n",
      "                <word l=\"1260\" t=\"54\" r=\"1324\" b=\"112\">\n",
      "                    <charParams l=\"1260\" t=\"54\" r=\"1306\" b=\"110\" suspicious=\"true\" wordStart=\"true\" wordFromDictionary=\"false\" wordNormal=\"true\" wordNumeric=\"false\" wordIdentifier=\"false\" charCo\n"
     ]
    }
   ],
   "source": [
    "print(element_to_string(xml3)[:3000])"
   ]
  },
  {
   "cell_type": "code",
   "execution_count": 168,
   "metadata": {},
   "outputs": [
    {
     "name": "stdout",
     "output_type": "stream",
     "text": [
      "<?xml version=\"1.0\" encoding=\"UTF-8\"?>\n",
      "<document xmlns:xsi=\"http://www.w3.org/2001/XMLSchema-instance\" version=\"1.0\" producer=\"LuraDocument XML Exporter for ABBYY FineReader\" pagesCount=\"298\" xsi:schemaLocation=\"http://www.abbyy.com/FineReader_xml/FineReader6-schema-v1.xml http://www.abbyy.com/FineReader_xml/FineReader6-schema-v1.xml\">\n",
      "    \n",
      "\n",
      "    <page width=\"1000\" height=\"1500\" resolution=\"500\" originalCoords=\"true\">\n",
      "</page>\n",
      "    <page width=\"2854\" height=\"4155\" resolution=\"500\" originalCoords=\"true\">\n",
      "        \n",
      "\n",
      "        <block blockType=\"Picture\" l=\"0\" t=\"0\" r=\"2854\" b=\"4154\">\n",
      "</block>\n",
      "    </page>\n",
      "    <page width=\"2854\" height=\"4155\" resolution=\"500\" originalCoords=\"true\">\n",
      "        \n",
      "\n",
      "        <block blockType=\"Text\" l=\"900\" t=\"16\" r=\"1856\" b=\"300\">\n",
      "            \n",
      "\n",
      "            <line baseline=\"123\" l=\"914\" t=\"30\" r=\"1842\" b=\"142\">\n",
      "                <word l=\"914\" t=\"30\" r=\"1232\" b=\"106\">\n",
      "                    <charParams l=\"914\" t=\"30\" r=\"962\" b=\"88\" wordStart=\"true\" wordFromDictionary=\"true\" wordNormal=\"true\" wordNumeric=\"false\" wordIdentifier=\"false\" charConfidence=\"30\" serifProbability=\"6\" wordPenalty=\"9\" meanStrokeWidth=\"78\">H</charParams>\n",
      "                    <charParams l=\"966\" t=\"36\" r=\"1014\" b=\"90\" wordStart=\"false\" wordFromDictionary=\"true\" wordNormal=\"true\" wordNumeric=\"false\" wordIdentifier=\"false\" charConfidence=\"16\" serifProbability=\"0\" wordPenalty=\"9\" meanStrokeWidth=\"78\">A</charParams>\n",
      "                    <charParams l=\"1022\" t=\"38\" r=\"1066\" b=\"94\" wordStart=\"false\" wordFromDictionary=\"true\" wordNormal=\"true\" wordNumeric=\"false\" wordIdentifier=\"false\" charConfidence=\"49\" serifProbability=\"0\" wordPenalty=\"9\" meanStrokeWidth=\"78\">R</charParams>\n",
      "                    <charParams l=\"1074\" t=\"42\" r=\"1130\" b=\"100\" wordStart=\"false\" wordFromDictionary=\"true\" wordNormal=\"true\" wordNumeric=\"false\" wordIdentifier=\"false\" charConfidence=\"32\" serifProbability=\"255\" wordPenalty=\"9\" meanStrokeWidth=\"78\">O</charParams>\n",
      "                    <charParams l=\"1136\" t=\"46\" r=\"1172\" b=\"102\" wordStart=\"false\" wordFromDictionary=\"true\" wordNormal=\"true\" wordNumeric=\"false\" wordIdentifier=\"false\" charConfidence=\"6\" serifProbability=\"0\" wordPenalty=\"9\" meanStrokeWidth=\"78\">L</charParams>\n",
      "                    <charParams l=\"1182\" t=\"48\" r=\"1232\" b=\"106\" wordStart=\"false\" wordFromDictionary=\"true\" wordNormal=\"true\" wordNumeric=\"false\" wordIdentifier=\"false\" charConfidence=\"84\" serifProbability=\"17\" wordPenalty=\"9\" meanStrokeWidth=\"78\">D</charParams>\n",
      "                </word>\n",
      "                <charParams l=\"1232\" t=\"48\" r=\"1260\" b=\"123\" wordStart=\"false\" wordFromDictionary=\"false\" wordNormal=\"false\" wordNumeric=\"false\" wordIdentifier=\"false\" charConfidence=\"255\" serifProbability=\"255\" wordPenalty=\"0\" meanStrokeWidth=\"0\"> </charParams>\n",
      "                <word l=\"1260\" t=\"54\" r=\"1324\" b=\"112\">\n",
      "                    <charParams l=\"1260\" t=\"54\" r=\"1306\" b=\"110\" suspicious=\"true\" wordStart=\"true\" wordFromDictionary=\"false\" wordNormal=\"true\" wordNumeric=\"false\" wordIdentifier=\"false\" charCo\n"
     ]
    }
   ],
   "source": [
    "\n",
    "xml4 = filter_elements(xml3, \"document page block line word charParams\".split())\n",
    "print(element_to_string(xml4)[:3000])"
   ]
  },
  {
   "cell_type": "code",
   "execution_count": 169,
   "metadata": {},
   "outputs": [],
   "source": [
    "def complete_element_tree(tree, hierarchy, depth=0):\n",
    "    if not hierarchy:\n",
    "        # If the hierarchy is empty, return a copy of the entire tree\n",
    "        return deepcopy(tree)\n",
    "    \n",
    "    assert tree.tag == hierarchy[0], \"Expected tag '{}' but found '{}'\".format(hierarchy[0], tree.tag)\n",
    "    print(\"  \" * depth + \"Completing tag '{}' {}\".format(tree.tag, hierarchy[:2]))\n",
    "    children = []\n",
    "    orphan = None\n",
    "    for child in tree:\n",
    "        if child.tag != hierarchy[1]:\n",
    "            if orphan is None:\n",
    "                print(\"  \" * depth + \"Creating orphan element with tag '{}'\".format(hierarchy[1]))\n",
    "                orphan = Element(hierarchy[1])\n",
    "            orphan.append(child)\n",
    "            continue\n",
    "        if orphan is not None:\n",
    "            children.append(orphan)\n",
    "            orphan = None\n",
    "        children.append(child)\n",
    "    if orphan is not None:\n",
    "        children.append(orphan)\n",
    "    children = [complete_element_tree(child, hierarchy[1:], depth=depth+1) for child in children]\n",
    "    new_element = Element(tree.tag, attrib=tree.attrib)\n",
    "    if tree.text:\n",
    "        new_element.text = tree.text\n",
    "    new_element.extend(children)\n",
    "    return new_element"
   ]
  },
  {
   "cell_type": "code",
   "execution_count": 174,
   "metadata": {},
   "outputs": [
    {
     "name": "stdout",
     "output_type": "stream",
     "text": [
      "Completing tag 'document' ['document', 'page']\n",
      "  Completing tag 'page' ['page', 'block']\n",
      "  Completing tag 'page' ['page', 'block']\n",
      "    Completing tag 'block' ['block', 'line']\n",
      "  Completing tag 'page' ['page', 'block']\n",
      "    Completing tag 'block' ['block', 'line']\n",
      "      Completing tag 'line' ['line']\n"
     ]
    },
    {
     "ename": "IndexError",
     "evalue": "list index out of range",
     "output_type": "error",
     "traceback": [
      "\u001b[0;31m---------------------------------------------------------------------------\u001b[0m",
      "\u001b[0;31mIndexError\u001b[0m                                Traceback (most recent call last)",
      "Cell \u001b[0;32mIn[174], line 1\u001b[0m\n\u001b[0;32m----> 1\u001b[0m xml5 \u001b[39m=\u001b[39m complete_element_tree(xml4, \u001b[39m\"\u001b[39;49m\u001b[39mdocument page block line\u001b[39;49m\u001b[39m\"\u001b[39;49m\u001b[39m.\u001b[39;49msplit())\n",
      "Cell \u001b[0;32mIn[169], line 23\u001b[0m, in \u001b[0;36mcomplete_element_tree\u001b[0;34m(tree, hierarchy, depth)\u001b[0m\n\u001b[1;32m     21\u001b[0m \u001b[39mif\u001b[39;00m orphan \u001b[39mis\u001b[39;00m \u001b[39mnot\u001b[39;00m \u001b[39mNone\u001b[39;00m:\n\u001b[1;32m     22\u001b[0m     children\u001b[39m.\u001b[39mappend(orphan)\n\u001b[0;32m---> 23\u001b[0m children \u001b[39m=\u001b[39m [complete_element_tree(child, hierarchy[\u001b[39m1\u001b[39m:], depth\u001b[39m=\u001b[39mdepth\u001b[39m+\u001b[39m\u001b[39m1\u001b[39m) \u001b[39mfor\u001b[39;00m child \u001b[39min\u001b[39;00m children]\n\u001b[1;32m     24\u001b[0m new_element \u001b[39m=\u001b[39m Element(tree\u001b[39m.\u001b[39mtag, attrib\u001b[39m=\u001b[39mtree\u001b[39m.\u001b[39mattrib)\n\u001b[1;32m     25\u001b[0m \u001b[39mif\u001b[39;00m tree\u001b[39m.\u001b[39mtext:\n",
      "Cell \u001b[0;32mIn[169], line 23\u001b[0m, in \u001b[0;36m<listcomp>\u001b[0;34m(.0)\u001b[0m\n\u001b[1;32m     21\u001b[0m \u001b[39mif\u001b[39;00m orphan \u001b[39mis\u001b[39;00m \u001b[39mnot\u001b[39;00m \u001b[39mNone\u001b[39;00m:\n\u001b[1;32m     22\u001b[0m     children\u001b[39m.\u001b[39mappend(orphan)\n\u001b[0;32m---> 23\u001b[0m children \u001b[39m=\u001b[39m [complete_element_tree(child, hierarchy[\u001b[39m1\u001b[39;49m:], depth\u001b[39m=\u001b[39;49mdepth\u001b[39m+\u001b[39;49m\u001b[39m1\u001b[39;49m) \u001b[39mfor\u001b[39;00m child \u001b[39min\u001b[39;00m children]\n\u001b[1;32m     24\u001b[0m new_element \u001b[39m=\u001b[39m Element(tree\u001b[39m.\u001b[39mtag, attrib\u001b[39m=\u001b[39mtree\u001b[39m.\u001b[39mattrib)\n\u001b[1;32m     25\u001b[0m \u001b[39mif\u001b[39;00m tree\u001b[39m.\u001b[39mtext:\n",
      "Cell \u001b[0;32mIn[169], line 23\u001b[0m, in \u001b[0;36mcomplete_element_tree\u001b[0;34m(tree, hierarchy, depth)\u001b[0m\n\u001b[1;32m     21\u001b[0m \u001b[39mif\u001b[39;00m orphan \u001b[39mis\u001b[39;00m \u001b[39mnot\u001b[39;00m \u001b[39mNone\u001b[39;00m:\n\u001b[1;32m     22\u001b[0m     children\u001b[39m.\u001b[39mappend(orphan)\n\u001b[0;32m---> 23\u001b[0m children \u001b[39m=\u001b[39m [complete_element_tree(child, hierarchy[\u001b[39m1\u001b[39m:], depth\u001b[39m=\u001b[39mdepth\u001b[39m+\u001b[39m\u001b[39m1\u001b[39m) \u001b[39mfor\u001b[39;00m child \u001b[39min\u001b[39;00m children]\n\u001b[1;32m     24\u001b[0m new_element \u001b[39m=\u001b[39m Element(tree\u001b[39m.\u001b[39mtag, attrib\u001b[39m=\u001b[39mtree\u001b[39m.\u001b[39mattrib)\n\u001b[1;32m     25\u001b[0m \u001b[39mif\u001b[39;00m tree\u001b[39m.\u001b[39mtext:\n",
      "Cell \u001b[0;32mIn[169], line 23\u001b[0m, in \u001b[0;36m<listcomp>\u001b[0;34m(.0)\u001b[0m\n\u001b[1;32m     21\u001b[0m \u001b[39mif\u001b[39;00m orphan \u001b[39mis\u001b[39;00m \u001b[39mnot\u001b[39;00m \u001b[39mNone\u001b[39;00m:\n\u001b[1;32m     22\u001b[0m     children\u001b[39m.\u001b[39mappend(orphan)\n\u001b[0;32m---> 23\u001b[0m children \u001b[39m=\u001b[39m [complete_element_tree(child, hierarchy[\u001b[39m1\u001b[39;49m:], depth\u001b[39m=\u001b[39;49mdepth\u001b[39m+\u001b[39;49m\u001b[39m1\u001b[39;49m) \u001b[39mfor\u001b[39;00m child \u001b[39min\u001b[39;00m children]\n\u001b[1;32m     24\u001b[0m new_element \u001b[39m=\u001b[39m Element(tree\u001b[39m.\u001b[39mtag, attrib\u001b[39m=\u001b[39mtree\u001b[39m.\u001b[39mattrib)\n\u001b[1;32m     25\u001b[0m \u001b[39mif\u001b[39;00m tree\u001b[39m.\u001b[39mtext:\n",
      "Cell \u001b[0;32mIn[169], line 23\u001b[0m, in \u001b[0;36mcomplete_element_tree\u001b[0;34m(tree, hierarchy, depth)\u001b[0m\n\u001b[1;32m     21\u001b[0m \u001b[39mif\u001b[39;00m orphan \u001b[39mis\u001b[39;00m \u001b[39mnot\u001b[39;00m \u001b[39mNone\u001b[39;00m:\n\u001b[1;32m     22\u001b[0m     children\u001b[39m.\u001b[39mappend(orphan)\n\u001b[0;32m---> 23\u001b[0m children \u001b[39m=\u001b[39m [complete_element_tree(child, hierarchy[\u001b[39m1\u001b[39m:], depth\u001b[39m=\u001b[39mdepth\u001b[39m+\u001b[39m\u001b[39m1\u001b[39m) \u001b[39mfor\u001b[39;00m child \u001b[39min\u001b[39;00m children]\n\u001b[1;32m     24\u001b[0m new_element \u001b[39m=\u001b[39m Element(tree\u001b[39m.\u001b[39mtag, attrib\u001b[39m=\u001b[39mtree\u001b[39m.\u001b[39mattrib)\n\u001b[1;32m     25\u001b[0m \u001b[39mif\u001b[39;00m tree\u001b[39m.\u001b[39mtext:\n",
      "Cell \u001b[0;32mIn[169], line 23\u001b[0m, in \u001b[0;36m<listcomp>\u001b[0;34m(.0)\u001b[0m\n\u001b[1;32m     21\u001b[0m \u001b[39mif\u001b[39;00m orphan \u001b[39mis\u001b[39;00m \u001b[39mnot\u001b[39;00m \u001b[39mNone\u001b[39;00m:\n\u001b[1;32m     22\u001b[0m     children\u001b[39m.\u001b[39mappend(orphan)\n\u001b[0;32m---> 23\u001b[0m children \u001b[39m=\u001b[39m [complete_element_tree(child, hierarchy[\u001b[39m1\u001b[39;49m:], depth\u001b[39m=\u001b[39;49mdepth\u001b[39m+\u001b[39;49m\u001b[39m1\u001b[39;49m) \u001b[39mfor\u001b[39;00m child \u001b[39min\u001b[39;00m children]\n\u001b[1;32m     24\u001b[0m new_element \u001b[39m=\u001b[39m Element(tree\u001b[39m.\u001b[39mtag, attrib\u001b[39m=\u001b[39mtree\u001b[39m.\u001b[39mattrib)\n\u001b[1;32m     25\u001b[0m \u001b[39mif\u001b[39;00m tree\u001b[39m.\u001b[39mtext:\n",
      "Cell \u001b[0;32mIn[169], line 11\u001b[0m, in \u001b[0;36mcomplete_element_tree\u001b[0;34m(tree, hierarchy, depth)\u001b[0m\n\u001b[1;32m      9\u001b[0m orphan \u001b[39m=\u001b[39m \u001b[39mNone\u001b[39;00m\n\u001b[1;32m     10\u001b[0m \u001b[39mfor\u001b[39;00m child \u001b[39min\u001b[39;00m tree:\n\u001b[0;32m---> 11\u001b[0m     \u001b[39mif\u001b[39;00m child\u001b[39m.\u001b[39mtag \u001b[39m!=\u001b[39m hierarchy[\u001b[39m1\u001b[39;49m]:\n\u001b[1;32m     12\u001b[0m         \u001b[39mif\u001b[39;00m orphan \u001b[39mis\u001b[39;00m \u001b[39mNone\u001b[39;00m:\n\u001b[1;32m     13\u001b[0m             \u001b[39mprint\u001b[39m(\u001b[39m\"\u001b[39m\u001b[39m  \u001b[39m\u001b[39m\"\u001b[39m \u001b[39m*\u001b[39m depth \u001b[39m+\u001b[39m \u001b[39m\"\u001b[39m\u001b[39mCreating orphan element with tag \u001b[39m\u001b[39m'\u001b[39m\u001b[39m{}\u001b[39;00m\u001b[39m'\u001b[39m\u001b[39m\"\u001b[39m\u001b[39m.\u001b[39mformat(hierarchy[\u001b[39m1\u001b[39m]))\n",
      "\u001b[0;31mIndexError\u001b[0m: list index out of range"
     ]
    }
   ],
   "source": [
    "xml5 = complete_element_tree(xml4, \"document page block line\".split())"
   ]
  },
  {
   "cell_type": "code",
   "execution_count": 175,
   "metadata": {},
   "outputs": [
    {
     "name": "stdout",
     "output_type": "stream",
     "text": [
      "<?xml version=\"1.0\" encoding=\"UTF-8\"?>\n",
      "<document xmlns:xsi=\"http://www.w3.org/2001/XMLSchema-instance\" version=\"1.0\" producer=\"LuraDocument XML Exporter for ABBYY FineReader\" pagesCount=\"298\" xsi:schemaLocation=\"http://www.abbyy.com/FineReader_xml/FineReader6-schema-v1.xml http://www.abbyy.com/FineReader_xml/FineReader6-schema-v1.xml\">\n",
      "    \n",
      "\n",
      "    <page width=\"1000\" height=\"1500\" resolution=\"500\" originalCoords=\"true\">\n",
      "</page>\n",
      "    <page width=\"2854\" height=\"4155\" resolution=\"500\" originalCoords=\"true\">\n",
      "        \n",
      "\n",
      "        <block blockType=\"Picture\" l=\"0\" t=\"0\" r=\"2854\" b=\"4154\">\n",
      "</block>\n",
      "    </page>\n",
      "    <page width=\"2854\" height=\"4155\" resolution=\"500\" originalCoords=\"true\">\n",
      "        \n",
      "\n",
      "        <block blockType=\"Text\" l=\"900\" t=\"16\" r=\"1856\" b=\"300\">\n",
      "            \n",
      "\n",
      "            <line baseline=\"123\" l=\"914\" t=\"30\" r=\"1842\" b=\"142\">\n",
      "                <word l=\"914\" t=\"30\" r=\"1232\" b=\"106\">\n",
      "                    <charParams l=\"914\" t=\"30\" r=\"962\" b=\"88\" wordStart=\"true\" wordFromDictionary=\"true\" wordNormal=\"true\" wordNumeric=\"false\" wordIdentifier=\"false\" charConfidence=\"30\" serifProbability=\"6\" wordPenalty=\"9\" meanStrokeWidth=\"78\">H</charParams>\n",
      "                    <charParams l=\"966\" t=\"36\" r=\"1014\" b=\"90\" wordStart=\"false\" wordFromDictionary=\"true\" wordNormal=\"true\" wordNumeric=\"false\" wordIdentifier=\"false\" charConfidence=\"16\" serifProbability=\"0\" wordPenalty=\"9\" meanStrokeWidth=\"78\">A</charParams>\n",
      "                    <charParams l=\"1022\" t=\"38\" r=\"1066\" b=\"94\" wordStart=\"false\" wordFromDictionary=\"true\" wordNormal=\"true\" wordNumeric=\"false\" wordIdentifier=\"false\" charConfidence=\"49\" serifProbability=\"0\" wordPenalty=\"9\" meanStrokeWidth=\"78\">R</charParams>\n",
      "                    <charParams l=\"1074\" t=\"42\" r=\"1130\" b=\"100\" wordStart=\"false\" wordFromDictionary=\"true\" wordNormal=\"true\" wordNumeric=\"false\" wordIdentifier=\"false\" charConfidence=\"32\" serifProbability=\"255\" wordPenalty=\"9\" meanStrokeWidth=\"78\">O</charParams>\n",
      "                    <charParams l=\"1136\" t=\"46\" r=\"1172\" b=\"102\" wordStart=\"false\" wordFromDictionary=\"true\" wordNormal=\"true\" wordNumeric=\"false\" wordIdentifier=\"false\" charConfidence=\"6\" serifProbability=\"0\" wordPenalty=\"9\" meanStrokeWidth=\"78\">L</charParams>\n",
      "                    <charParams l=\"1182\" t=\"48\" r=\"1232\" b=\"106\" wordStart=\"false\" wordFromDictionary=\"true\" wordNormal=\"true\" wordNumeric=\"false\" wordIdentifier=\"false\" charConfidence=\"84\" serifProbability=\"17\" wordPenalty=\"9\" meanStrokeWidth=\"78\">D</charParams>\n",
      "                </word>\n",
      "                <word>\n",
      "                    <charParams l=\"1232\" t=\"48\" r=\"1260\" b=\"123\" wordStart=\"false\" wordFromDictionary=\"false\" wordNormal=\"false\" wordNumeric=\"false\" wordIdentifier=\"false\" charConfidence=\"255\" serifProbability=\"255\" wordPenalty=\"0\" meanStrokeWidth=\"0\"> </charParams>\n",
      "                </word>\n",
      "                <word l=\"1260\" t=\"54\" r=\"1324\" b=\"112\">\n",
      "                    <charParams l=\"1260\" t=\"54\" r=\"1306\" b=\"110\" suspicious=\"true\" wordStart=\"true\" wordFromDictionary=\"false\" wordNormal=\"true\n"
     ]
    }
   ],
   "source": [
    "\n",
    "print(element_to_string(xml5)[:3000])"
   ]
  },
  {
   "cell_type": "code",
   "execution_count": 176,
   "metadata": {},
   "outputs": [],
   "source": [
    "from xml.etree import ElementTree as ET\n",
    "\n",
    "def abbyy_to_hocr(xml_string):\n",
    "    # Parse the input XML string into an ElementTree object\n",
    "    root = ET.fromstring(xml_string)\n",
    "\n",
    "    # Create a new root element for the hOCR output\n",
    "    hocr_root = ET.Element(\"html\")\n",
    "\n",
    "    # Loop over all page elements in the input XML\n",
    "    for page in root.iter(\"page\"):\n",
    "        # Create a new hOCR page element\n",
    "        hocr_page = ET.SubElement(hocr_root, \"div\")\n",
    "        hocr_page.set(\"class\", \"ocr_page\")\n",
    "        hocr_page.set(\"title\", \"image\")\n",
    "\n",
    "        # Loop over all block elements on this page\n",
    "        for block in page.iter(\"block\"):\n",
    "            # Create a new hOCR area element\n",
    "            hocr_area = ET.SubElement(hocr_page, \"div\")\n",
    "            hocr_area.set(\"class\", \"ocr_carea\")\n",
    "            hocr_area.set(\"title\", \"bbox {} {} {} {}\".format(\n",
    "                block.get(\"l\"), block.get(\"t\"), block.get(\"r\"), block.get(\"b\")\n",
    "            ))\n",
    "\n",
    "            # Loop over all line elements in this block\n",
    "            for line in block.iter(\"line\"):\n",
    "                # Create a new hOCR line element\n",
    "                hocr_line = ET.SubElement(hocr_area, \"span\")\n",
    "                hocr_line.set(\"class\", \"ocr_line\")\n",
    "                hocr_line.set(\"title\", \"bbox {} {} {} {}\".format(\n",
    "                    line.get(\"l\"), line.get(\"t\"), line.get(\"r\"), line.get(\"b\")\n",
    "                ))\n",
    "\n",
    "                # Loop over all word elements in this line\n",
    "                for word in line.iter(\"word\"):\n",
    "                    # Create a new hOCR word element\n",
    "                    hocr_word = ET.SubElement(hocr_line, \"span\")\n",
    "                    hocr_word.set(\"class\", \"ocrx_word\")\n",
    "                    hocr_word.set(\"title\", \"bbox {} {} {} {}\".format(\n",
    "                        word.get(\"l\"), word.get(\"t\"), word.get(\"r\"), word.get(\"b\")\n",
    "                    ))\n",
    "\n",
    "                    # Get the text of all charParams elements in this word and append to hOCR word element\n",
    "                    word_text = \"\"\n",
    "                    for char in word.iter(\"charParams\"):\n",
    "                        if char.text is not None:   \n",
    "                            word_text += char.text\n",
    "                    hocr_word.text = word_text\n",
    "\n",
    "    # Return the hOCR output as an ElementTree object\n",
    "    return ET.ElementTree(hocr_root)\n"
   ]
  },
  {
   "cell_type": "code",
   "execution_count": 178,
   "metadata": {},
   "outputs": [
    {
     "name": "stdout",
     "output_type": "stream",
     "text": [
      "<?xml version=\"1.0\" encoding=\"UTF-8\"?>\n",
      "<html>\n",
      "    <div class=\"ocr_page\" title=\"image\"/>\n",
      "    <div class=\"ocr_page\" title=\"image\">\n",
      "        <div class=\"ocr_carea\" title=\"bbox 0 0 2854 4154\"/>\n",
      "    </div>\n",
      "    <div class=\"ocr_page\" title=\"image\">\n",
      "        <div class=\"ocr_carea\" title=\"bbox 900 16 1856 300\">\n",
      "            <span class=\"ocr_line\" title=\"bbox 914 30 1842 142\">\n",
      "                <span class=\"ocrx_word\" title=\"bbox 914 30 1232 106\">HAROLD</span>\n",
      "                <span class=\"ocrx_word\" title=\"bbox None None None None\"> </span>\n",
      "                <span class=\"ocrx_word\" title=\"bbox 1260 54 1324 112\">B.</span>\n",
      "                <span class=\"ocrx_word\" title=\"bbox None None None None\"> </span>\n",
      "                <span class=\"ocrx_word\" title=\"bbox 1358 62 1492 124\">LEE</span>\n",
      "                <span class=\"ocrx_word\" title=\"bbox None None None None\"> </span>\n",
      "                <span class=\"ocrx_word\" title=\"bbox 1522 74 1842 142\">LIBRARY</span>\n",
      "            </span>\n",
      "            <span class=\"ocr_line\" title=\"bbox 944 88 1802 218\">\n",
      "                <span class=\"ocrx_word\" title=\"bbox 944 116 1210 176\">3RIGHAM</span>\n",
      "                <span class=\"ocrx_word\" title=\"bbox None None None None\"> </span>\n",
      "                <span class=\"ocrx_word\" title=\"bbox 1236 138 1440 192\">roUNG</span>\n",
      "                <span class=\"ocrx_word\" title=\"bbox None None None None\"> </span>\n",
      "                <span class=\"ocrx_word\" title=\"bbox 1464 88 1802 218\">UN.S.Ty</span>\n",
      "            </span>\n",
      "            <span class=\"ocr_line\" title=\"bbox 1108 206 1628 298\">\n",
      "                <span class=\"ocrx_word\" title=\"bbox 1108 206 1390 290\">PROVO.</span>\n",
      "                <span class=\"ocrx_word\" title=\"bbox None None None None\"> </span>\n",
      "                <span class=\"ocrx_word\" title=\"bbox 1422 226 1628 298\">UTAH</span>\n",
      "            </span>\n",
      "        </div>\n",
      "    </div>\n",
      "    <div class=\"ocr_page\" title=\"image\"/>\n",
      "    <div class=\"ocr_page\" title=\"image\"/>\n",
      "    <div class=\"ocr_page\" title=\"image\">\n",
      "        <div class=\"ocr_carea\" title=\"bbox 960 136 1832 300\">\n",
      "            <span class=\"ocr_line\" title=\"bbox 972 164 1816 296\">\n",
      "                <span class=\"ocrx_word\" title=\"bbox 972 164 1816 296\">HUGO'S</span>\n",
      "            </span>\n",
      "        </div>\n",
      "        <div class=\"ocr_carea\" title=\"bbox 476 496 2316 1120\">\n",
      "            <span class=\"ocr_line\" title=\"bbox 496 560 2296 816\">\n",
      "                <span class=\"ocrx_word\" title=\"bbox 496 560 2296 816\">ITALIAN</span>\n",
      "            </span>\n",
      "            <span class=\"ocr_line\" title=\"bbox 488 936 2296 1120\">\n",
      "                <span class=\"ocrx_word\" title=\"bbox 488 936 2296 1120\">SIMPLIFIED</span>\n",
      "            </span>\n",
      "        </div>\n",
      "        <div class=\"ocr_carea\" title=\"bbox 220 1372 2560 3108\">\n",
      "            <span class=\"ocr_line\" title=\"bbox 784 1388 2006 1450\">\n",
      "                <span class=\"ocrx_word\" title=\"bbox 784 1388 1834 1450\">COMPLETE-CONSISTING</span>\n",
      "                <span class=\"ocrx_word\" title=\"bbox None None None None\">  </span>\n",
      "                <span class=\"ocrx_word\" title=\"bbox 1896 1388\n"
     ]
    }
   ],
   "source": [
    "hocr = abbyy_to_hocr(element_to_string(xml5))\n",
    "print(element_to_string(hocr.getroot())[:3000])"
   ]
  },
  {
   "cell_type": "code",
   "execution_count": null,
   "metadata": {},
   "outputs": [],
   "source": []
  }
 ],
 "metadata": {
  "kernelspec": {
   "display_name": "venv",
   "language": "python",
   "name": "python3"
  },
  "language_info": {
   "codemirror_mode": {
    "name": "ipython",
    "version": 3
   },
   "file_extension": ".py",
   "mimetype": "text/x-python",
   "name": "python",
   "nbconvert_exporter": "python",
   "pygments_lexer": "ipython3",
   "version": "3.10.6"
  },
  "orig_nbformat": 4
 },
 "nbformat": 4,
 "nbformat_minor": 2
}
