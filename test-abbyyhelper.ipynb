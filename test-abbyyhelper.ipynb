{
 "cells": [
  {
   "cell_type": "code",
   "execution_count": 1,
   "metadata": {},
   "outputs": [
    {
     "name": "stdout",
     "output_type": "stream",
     "text": [
      "%pylab is deprecated, use %matplotlib inline and import the required libraries.\n",
      "Populating the interactive namespace from numpy and matplotlib\n"
     ]
    }
   ],
   "source": [
    "%pylab inline"
   ]
  },
  {
   "cell_type": "code",
   "execution_count": 2,
   "metadata": {},
   "outputs": [],
   "source": [
    "# import reload\n",
    "from importlib import reload"
   ]
  },
  {
   "cell_type": "code",
   "execution_count": 3,
   "metadata": {},
   "outputs": [
    {
     "data": {
      "text/plain": [
       "<module 'abbyyhelper' from '/home/tmb/ocropus4extract/abbyyhelper.py'>"
      ]
     },
     "execution_count": 3,
     "metadata": {},
     "output_type": "execute_result"
    }
   ],
   "source": [
    "import abbyyhelper as ah\n",
    "import webdataset as wds\n",
    "reload(ah)"
   ]
  },
  {
   "cell_type": "code",
   "execution_count": 4,
   "metadata": {},
   "outputs": [
    {
     "name": "stdout",
     "output_type": "stream",
     "text": [
      "dict_keys(['__key__', '__url__', 'abbyy.gz', 'json', 'zip'])\n"
     ]
    }
   ],
   "source": [
    "ds = wds.WebDataset(\"gs://ocro-iaa/books/books-000000.tar\").decode()\n",
    "sample = next(iter(ds))\n",
    "print(sample.keys())"
   ]
  },
  {
   "cell_type": "code",
   "execution_count": 5,
   "metadata": {},
   "outputs": [
    {
     "name": "stdout",
     "output_type": "stream",
     "text": [
      "b'<?xml version=\"1.0\" encoding=\"UTF-8\"?>\\n<document version=\"1.0\" producer=\"LuraDocument XML Exporter for ABBYY FineReader\" pagesCount=\"298\"           \\n xmlns=\"http://www.abbyy.com/FineReader_xml/FineReader6-schema-v1.xml\" xmlns:xsi=\"http://www.w3.org/2001/XMLSchema-instance\" xsi:schemaLocation=\"http://www.abbyy.com/FineReader_xml/FineReader6-schema-v1.xml http://www.abbyy.com/FineReader_xml/FineReader6-schema-v1.xml\">\\n<page width=\"1000\" height=\"1500\" resolution=\"500\" originalCoords=\"true\">\\n</page>'\n",
      "b'/page>\\n<page width=\"1000\" height=\"1500\" resolution=\"500\" originalCoords=\"true\">\\n</page>\\n</document>\\n'\n"
     ]
    }
   ],
   "source": [
    "abbyy = sample[\"abbyy.gz\"]\n",
    "print(abbyy[:500])\n",
    "print(abbyy[-100:])"
   ]
  },
  {
   "cell_type": "code",
   "execution_count": 6,
   "metadata": {},
   "outputs": [
    {
     "name": "stdout",
     "output_type": "stream",
     "text": [
      "<?xml version=\"1.0\" encoding=\"UTF-8\"?>\n",
      "<document xmlns:xsi=\"http://www.w3.org/2001/XMLSchema-instance\" version=\"1.0\" producer=\"LuraDocument XML Exporter for ABBYY FineReader\" pagesCount=\"298\" xsi:schemaLocation=\"http://www.abbyy.com/FineReader_xml/FineReader6-schema-v1.xml http://www.abbyy.com/FineReader_xml/FineReader6-schema-v1.xml\">\n",
      "    \n",
      "\n",
      "    <page width=\"1000\" height=\"1500\" resolution=\"500\" originalCoords=\"true\">\n",
      "</page>\n",
      "    <page width=\"2854\" height=\"4155\" resolution=\"500\" originalCoords=\"true\">\n",
      "        \n",
      "\n",
      "        <block blockType=\"Picture\" l=\"0\" t=\"0\" r=\"2854\" b=\"4154\">\n",
      "            \n",
      "\n",
      "            <region>\n",
      "                <rect l=\"0\" t=\"0\" r=\"2854\" b=\"4154\"/>\n",
      "            </region>\n",
      "        </block>\n",
      "    </page>\n",
      "    <page width=\"2854\" height=\"4155\" resolution=\"500\" originalCoords=\"true\">\n",
      "        \n",
      "\n",
      "        <block blockType=\"Text\" l=\"900\" t=\"16\" r=\"1856\" b=\"300\">\n",
      "            \n",
      "\n",
      "            <region>\n",
      "                <rect l=\"900\" t=\"16\" r=\"1856\" b=\"300\"/>\n",
      "            </region>\n",
      "            <text>\n",
      "                \n",
      "\n",
      "                <par>\n",
      "                    \n",
      "\n",
      "                    <line baseline=\"123\" l=\"914\" t=\"30\" r=\"1842\" b=\"142\">\n",
      "                        <formatting lang=\"EnglishUnitedStates\" ff=\"Arial\" fs=\"11.\" bold=\"true\" spacing=\"-6\">\n",
      "                            <charParams l=\"914\" t=\"30\" r=\"962\" b=\"88\" wordStart=\"true\" wordFromDictionary=\"true\" wordNormal=\"true\" wordNumeric=\"false\" wordIdentifier=\"false\" charConfidence=\"30\" serifProbability=\"6\" wordPenalty=\"9\" meanStrokeWidth=\"7 ... Params l=\"1084\" t=\"3917\" r=\"1115\" b=\"3962\" wordStart=\"false\" wordFromDictionary=\"false\" wordNormal=\"false\" wordNumeric=\"false\" wordIdentifier=\"false\" charConfidence=\"255\" serifProbability=\"255\" wordPenalty=\"0\" meanStrokeWidth=\"0\"> </charParams>\n",
      "                            <charParams l=\"1115\" t=\"3918\" r=\"1178\" b=\"3962\" wordStart=\"true\" wordFromDictionary=\"true\" wordNormal=\"true\" wordNumeric=\"false\" wordIdentifier=\"false\" charConfidence=\"100\" serifProbability=\"255\" wordPenalty=\"0\" meanStrokeWidth=\"96\">w</charParams>\n",
      "                            <charParams l=\"1182\" t=\"3918\" r=\"1225\" b=\"3962\" wordStart=\"false\" wordFromDictionary=\"true\" wordNormal=\"true\" wordNumeric=\"false\" wordIdentifier=\"false\" charConfidence=\"100\" serifProbability=\"96\" wordPenalty=\"0\" meanStrokeWidth=\"96\">a</charParams>\n",
      "                            <charParams l=\"1226\" t=\"3918\" r=\"1277\" b=\"3980\" wordStart=\"false\" wordFromDictionary=\"true\" wordNormal=\"true\" wordNumeric=\"false\" wordIdentifier=\"false\" charConfidence=\"100\" serifProbability=\"49\" wordPenalty=\"0\" meanStrokeWidth=\"96\">y</charParams>\n",
      "                            <charParams l=\"1284\" t=\"3946\" r=\"1299\" b=\"3961\" wordStart=\"false\" wordFromDictionary=\"true\" wordNormal=\"true\" wordNumeric=\"false\" wordIdentifier=\"false\" charConfidence=\"100\" serifProbability=\"255\" wordPenalty=\"0\" meanStrokeWidth=\"96\">.</charParams>\n",
      "                        </formatting>\n",
      "                    </line>\n",
      "                </par>\n",
      "            </text>\n",
      "        </block>\n",
      "    </page>\n",
      "</document>\n",
      "\n"
     ]
    }
   ],
   "source": [
    "xml = ah.parse_abbby_xml(abbyy)\n",
    "xml = ah.strip_namespace(xml)\n",
    "xml, _ = ah.copy_limit_element(xml, \"page\", 10)\n",
    "ah.ppxml(xml)"
   ]
  },
  {
   "cell_type": "code",
   "execution_count": 7,
   "metadata": {},
   "outputs": [
    {
     "name": "stdout",
     "output_type": "stream",
     "text": [
      "<?xml version=\"1.0\" encoding=\"UTF-8\"?>\n",
      "<document xmlns:xsi=\"http://www.w3.org/2001/XMLSchema-instance\" version=\"1.0\" producer=\"LuraDocument XML Exporter for ABBYY FineReader\" pagesCount=\"298\" xsi:schemaLocation=\"http://www.abbyy.com/FineReader_xml/FineReader6-schema-v1.xml http://www.abbyy.com/FineReader_xml/FineReader6-schema-v1.xml\">\n",
      "    \n",
      "\n",
      "    <page width=\"1000\" height=\"1500\" resolution=\"500\" originalCoords=\"true\">\n",
      "</page>\n",
      "    <page width=\"2854\" height=\"4155\" resolution=\"500\" originalCoords=\"true\">\n",
      "        \n",
      "\n",
      "        <block blockType=\"Picture\" l=\"0\" t=\"0\" r=\"2854\" b=\"4154\">\n",
      "</block>\n",
      "    </page>\n",
      "    <page width=\"2854\" height=\"4155\" resolution=\"500\" originalCoords=\"true\">\n",
      "        \n",
      "\n",
      "        <block blockType=\"Text\" l=\"900\" t=\"16\" r=\"1856\" b=\"300\">\n",
      "            \n",
      "\n",
      "            <line baseline=\"123\" l=\"914\" t=\"30\" r=\"1842\" b=\"142\">\n",
      "                <charParams l=\"914\" t=\"30\" r=\"962\" b=\"88\" wordStart=\"true\" wordFromDictionary=\"true\" wordNormal=\"true\" wordNumeric=\"false\" wordIdentifier=\"false\" charConfidence=\"30\" serifProbability=\"6\" wordPenalty=\"9\" meanStrokeWidth=\"78\">H</charParams>\n",
      "                <charParams l=\"966\" t=\"36\" r=\"1014\" b=\"90\" wordStart=\"false\" wordFromDictionary=\"true\" wordNormal=\"true\" wordNumeric=\"false\" wordIdentifier=\"false\" charConfidence=\"16\" serifProbability=\"0\" wordPenalty=\"9\" meanStrokeWidth=\"78\">A</charParams>\n",
      "                <charParams l=\"1022\" t=\"38\" r=\"1066\" b=\"94\" wordStart=\"false\" wordFromDictionary=\"true\" wordNormal=\"true\" wordNumeric=\"false\" wordIdentif ... rdIdentifier=\"false\" charConfidence=\"100\" serifProbability=\"70\" wordPenalty=\"0\" meanStrokeWidth=\"91\">e</charParams>\n",
      "                <charParams l=\"1084\" t=\"3917\" r=\"1115\" b=\"3962\" wordStart=\"false\" wordFromDictionary=\"false\" wordNormal=\"false\" wordNumeric=\"false\" wordIdentifier=\"false\" charConfidence=\"255\" serifProbability=\"255\" wordPenalty=\"0\" meanStrokeWidth=\"0\"> </charParams>\n",
      "                <charParams l=\"1115\" t=\"3918\" r=\"1178\" b=\"3962\" wordStart=\"true\" wordFromDictionary=\"true\" wordNormal=\"true\" wordNumeric=\"false\" wordIdentifier=\"false\" charConfidence=\"100\" serifProbability=\"255\" wordPenalty=\"0\" meanStrokeWidth=\"96\">w</charParams>\n",
      "                <charParams l=\"1182\" t=\"3918\" r=\"1225\" b=\"3962\" wordStart=\"false\" wordFromDictionary=\"true\" wordNormal=\"true\" wordNumeric=\"false\" wordIdentifier=\"false\" charConfidence=\"100\" serifProbability=\"96\" wordPenalty=\"0\" meanStrokeWidth=\"96\">a</charParams>\n",
      "                <charParams l=\"1226\" t=\"3918\" r=\"1277\" b=\"3980\" wordStart=\"false\" wordFromDictionary=\"true\" wordNormal=\"true\" wordNumeric=\"false\" wordIdentifier=\"false\" charConfidence=\"100\" serifProbability=\"49\" wordPenalty=\"0\" meanStrokeWidth=\"96\">y</charParams>\n",
      "                <charParams l=\"1284\" t=\"3946\" r=\"1299\" b=\"3961\" wordStart=\"false\" wordFromDictionary=\"true\" wordNormal=\"true\" wordNumeric=\"false\" wordIdentifier=\"false\" charConfidence=\"100\" serifProbability=\"255\" wordPenalty=\"0\" meanStrokeWidth=\"96\">.</charParams>\n",
      "            </line>\n",
      "        </block>\n",
      "    </page>\n",
      "</document>\n",
      "\n"
     ]
    }
   ],
   "source": [
    "allowable_tags = \"document page block line charParams\".split()\n",
    "xml2 = ah.filter_elements(xml, allowable_tags)\n",
    "ah.ppxml(xml2)"
   ]
  },
  {
   "cell_type": "code",
   "execution_count": 8,
   "metadata": {},
   "outputs": [
    {
     "name": "stdout",
     "output_type": "stream",
     "text": [
      "<?xml version=\"1.0\" encoding=\"UTF-8\"?>\n",
      "<line baseline=\"3690\" l=\"228\" t=\"3620\" r=\"2587\" b=\"3708\">\n",
      "    <word l=\"228\" t=\"3620\" r=\"631\" b=\"3707\">\n",
      "        <charParams l=\"228\" t=\"3620\" r=\"275\" b=\"3689\" wordStart=\"true\" wordFromDictionary=\"true\" wordNormal=\"true\" wordNumeric=\"false\" wordIdentifier=\"false\" charConfidence=\"100\" serifProbability=\"100\" wordPenalty=\"0\" meanStrokeWidth=\"91\">d</charParams>\n",
      "        <charParams l=\"278\" t=\"3621\" r=\"300\" b=\"3688\" wordStart=\"false\" wordFromDictionary=\"true\" wordNormal=\"true\" wordNumeric=\"false\" wordIdentifier=\"false\" charConfidence=\"100\" serifProbability=\"255\" wordPenalty=\"0\" meanStrokeWidth=\"91\">i</charParams>\n",
      "        <charParams l=\"305\" t=\"3645\" r=\"340\" b=\"3691\" wordStart=\"false\" wordFromDictionary=\"true\" wordNormal=\"true\" wordNumeric=\"false\" wordIdentifier=\"false\" charConfidence=\"100\" serifProbability=\"77\" wordPenalty=\"0\" meanStrokeWidth=\"91\">c</charParams>\n",
      "        <charParams l=\"343\" t=\"3627\" r=\"377\" b=\"3691\" wordStart=\"false\" wordFromDictionary=\"true\" wordNormal=\"true\" wordNumeric=\"false\" wordIdentifier=\"false\" charConfidence=\"100\" serifProbability=\"70\" wordPenalty=\"0\" meanStrokeWidth=\"91\">t</charParams>\n",
      "        <charParams l=\"379\" t=\"3621\" r=\"399\" b=\"3689\" wordStart=\"false\" wordFromDictionary=\"true\" wordNormal=\"true\" wordNumeric=\"false\" wordIdentifier=\"false\" charConfidence=\"100\" serifProbability=\"255\" wordPenalty=\"0\" meanStrokeWidth=\"91\">i</charParams>\n",
      "        <charParams l=\"406\" t=\"3645\" r=\"447\" b=\"3692\" wordStart=\"false\" wordFromDictio ... rdStart=\"false\" wordFromDictionary=\"true\" wordNormal=\"true\" wordNumeric=\"false\" wordIdentifier=\"false\" charConfidence=\"100\" serifProbability=\"100\" wordPenalty=\"0\" meanStrokeWidth=\"88\">r</charParams>\n",
      "        <charParams l=\"2417\" t=\"3622\" r=\"2438\" b=\"3689\" wordStart=\"false\" wordFromDictionary=\"true\" wordNormal=\"true\" wordNumeric=\"false\" wordIdentifier=\"false\" charConfidence=\"100\" serifProbability=\"255\" wordPenalty=\"0\" meanStrokeWidth=\"88\">i</charParams>\n",
      "        <charParams l=\"2442\" t=\"3646\" r=\"2484\" b=\"3690\" wordStart=\"false\" wordFromDictionary=\"true\" wordNormal=\"true\" wordNumeric=\"false\" wordIdentifier=\"false\" charConfidence=\"100\" serifProbability=\"95\" wordPenalty=\"0\" meanStrokeWidth=\"88\">a</charParams>\n",
      "        <charParams l=\"2487\" t=\"3646\" r=\"2534\" b=\"3689\" wordStart=\"false\" wordFromDictionary=\"true\" wordNormal=\"true\" wordNumeric=\"false\" wordIdentifier=\"false\" charConfidence=\"100\" serifProbability=\"100\" wordPenalty=\"0\" meanStrokeWidth=\"88\">n</charParams>\n",
      "        <charParams l=\"2542\" t=\"3622\" r=\"2557\" b=\"3652\" wordStart=\"false\" wordFromDictionary=\"true\" wordNormal=\"true\" wordNumeric=\"false\" wordIdentifier=\"false\" charConfidence=\"54\" serifProbability=\"255\" wordPenalty=\"0\" meanStrokeWidth=\"88\">'</charParams>\n",
      "        <charParams l=\"2563\" t=\"3645\" r=\"2587\" b=\"3690\" wordStart=\"false\" wordFromDictionary=\"true\" wordNormal=\"true\" wordNumeric=\"false\" wordIdentifier=\"false\" charConfidence=\"24\" serifProbability=\"10\" wordPenalty=\"0\" meanStrokeWidth=\"88\">s</charParams>\n",
      "    </word>\n",
      "</line>\n",
      "\n"
     ]
    }
   ],
   "source": [
    "reload(ah)\n",
    "line = ah.pick_random_tag(xml2, \"line\")\n",
    "line2 = ah.abbby_line_to_word_boxes(line)\n",
    "ah.ppxml(line2)"
   ]
  },
  {
   "cell_type": "code",
   "execution_count": 9,
   "metadata": {},
   "outputs": [
    {
     "name": "stdout",
     "output_type": "stream",
     "text": [
      "<?xml version=\"1.0\" encoding=\"UTF-8\"?>\n",
      "<document xmlns:xsi=\"http://www.w3.org/2001/XMLSchema-instance\" version=\"1.0\" producer=\"LuraDocument XML Exporter for ABBYY FineReader\" pagesCount=\"298\" xsi:schemaLocation=\"http://www.abbyy.com/FineReader_xml/FineReader6-schema-v1.xml http://www.abbyy.com/FineReader_xml/FineReader6-schema-v1.xml\">\n",
      "    \n",
      "\n",
      "    <page width=\"1000\" height=\"1500\" resolution=\"500\" originalCoords=\"true\">\n",
      "</page>\n",
      "    <page width=\"2854\" height=\"4155\" resolution=\"500\" originalCoords=\"true\">\n",
      "        \n",
      "\n",
      "        <block blockType=\"Picture\" l=\"0\" t=\"0\" r=\"2854\" b=\"4154\">\n",
      "</block>\n",
      "    </page>\n",
      "    <page width=\"2854\" height=\"4155\" resolution=\"500\" originalCoords=\"true\">\n",
      "        \n",
      "\n",
      "        <block blockType=\"Text\" l=\"900\" t=\"16\" r=\"1856\" b=\"300\">\n",
      "            \n",
      "\n",
      "            <line baseline=\"123\" l=\"914\" t=\"30\" r=\"1842\" b=\"142\">\n",
      "                <word l=\"914\" t=\"30\" r=\"1232\" b=\"106\">\n",
      "                    <charParams l=\"914\" t=\"30\" r=\"962\" b=\"88\" wordStart=\"true\" wordFromDictionary=\"true\" wordNormal=\"true\" wordNumeric=\"false\" wordIdentifier=\"false\" charConfidence=\"30\" serifProbability=\"6\" wordPenalty=\"9\" meanStrokeWidth=\"78\">H</charParams>\n",
      "                    <charParams l=\"966\" t=\"36\" r=\"1014\" b=\"90\" wordStart=\"false\" wordFromDictionary=\"true\" wordNormal=\"true\" wordNumeric=\"false\" wordIdentifier=\"false\" charConfidence=\"16\" serifProbability=\"0\" wordPenalty=\"9\" meanStrokeWidth=\"78\">A</charParams>\n",
      "                    <charParams l=\"1022\" t=\"38\" r=\"1066\" b=\"94\" wordStart=\"false\" wordFrom ...            <charParams l=\"1047\" t=\"3918\" r=\"1084\" b=\"3963\" wordStart=\"false\" wordFromDictionary=\"true\" wordNormal=\"true\" wordNumeric=\"false\" wordIdentifier=\"false\" charConfidence=\"100\" serifProbability=\"70\" wordPenalty=\"0\" meanStrokeWidth=\"91\">e</charParams>\n",
      "                </word>\n",
      "                <word l=\"1115\" t=\"3918\" r=\"1299\" b=\"3980\">\n",
      "                    <charParams l=\"1115\" t=\"3918\" r=\"1178\" b=\"3962\" wordStart=\"true\" wordFromDictionary=\"true\" wordNormal=\"true\" wordNumeric=\"false\" wordIdentifier=\"false\" charConfidence=\"100\" serifProbability=\"255\" wordPenalty=\"0\" meanStrokeWidth=\"96\">w</charParams>\n",
      "                    <charParams l=\"1182\" t=\"3918\" r=\"1225\" b=\"3962\" wordStart=\"false\" wordFromDictionary=\"true\" wordNormal=\"true\" wordNumeric=\"false\" wordIdentifier=\"false\" charConfidence=\"100\" serifProbability=\"96\" wordPenalty=\"0\" meanStrokeWidth=\"96\">a</charParams>\n",
      "                    <charParams l=\"1226\" t=\"3918\" r=\"1277\" b=\"3980\" wordStart=\"false\" wordFromDictionary=\"true\" wordNormal=\"true\" wordNumeric=\"false\" wordIdentifier=\"false\" charConfidence=\"100\" serifProbability=\"49\" wordPenalty=\"0\" meanStrokeWidth=\"96\">y</charParams>\n",
      "                    <charParams l=\"1284\" t=\"3946\" r=\"1299\" b=\"3961\" wordStart=\"false\" wordFromDictionary=\"true\" wordNormal=\"true\" wordNumeric=\"false\" wordIdentifier=\"false\" charConfidence=\"100\" serifProbability=\"255\" wordPenalty=\"0\" meanStrokeWidth=\"96\">.</charParams>\n",
      "                </word>\n",
      "            </line>\n",
      "        </block>\n",
      "    </page>\n",
      "</document>\n",
      "\n"
     ]
    }
   ],
   "source": [
    "xml3 = ah.map_tags(xml2, 'line', ah.abbby_line_to_word_boxes)\n",
    "ah.ppxml(xml3)"
   ]
  },
  {
   "cell_type": "code",
   "execution_count": 10,
   "metadata": {},
   "outputs": [
    {
     "name": "stdout",
     "output_type": "stream",
     "text": [
      "<?xml version=\"1.0\" encoding=\"UTF-8\"?>\n",
      "<document xmlns:xsi=\"http://www.w3.org/2001/XMLSchema-instance\" version=\"1.0\" producer=\"LuraDocument XML Exporter for ABBYY FineReader\" pagesCount=\"298\" xsi:schemaLocation=\"http://www.abbyy.com/FineReader_xml/FineReader6-schema-v1.xml http://www.abbyy.com/FineReader_xml/FineReader6-schema-v1.xml\">\n",
      "    \n",
      "\n",
      "    <page width=\"1000\" height=\"1500\" resolution=\"500\" originalCoords=\"true\">\n",
      "</page>\n",
      "    <page width=\"2854\" height=\"4155\" resolution=\"500\" originalCoords=\"true\">\n",
      "        \n",
      "\n",
      "        <block blockType=\"Picture\" l=\"0\" t=\"0\" r=\"2854\" b=\"4154\">\n",
      "</block>\n",
      "    </page>\n",
      "    <page width=\"2854\" height=\"4155\" resolution=\"500\" originalCoords=\"true\">\n",
      "        \n",
      "\n",
      "        <block blockType=\"Text\" l=\"900\" t=\"16\" r=\"1856\" b=\"300\">\n",
      "            \n",
      "\n",
      "            <line baseline=\"123\" l=\"914\" t=\"30\" r=\"1842\" b=\"142\">\n",
      "                <word l=\"914\" t=\"30\" r=\"1232\" b=\"106\">\n",
      "                    <charParams l=\"914\" t=\"30\" r=\"962\" b=\"88\" wordStart=\"true\" wordFromDictionary=\"true\" wordNormal=\"true\" wordNumeric=\"false\" wordIdentifier=\"false\" charConfidence=\"30\" serifProbability=\"6\" wordPenalty=\"9\" meanStrokeWidth=\"78\">H</charParams>\n",
      "                    <charParams l=\"966\" t=\"36\" r=\"1014\" b=\"90\" wordStart=\"false\" wordFromDictionary=\"true\" wordNormal=\"true\" wordNumeric=\"false\" wordIdentifier=\"false\" charConfidence=\"16\" serifProbability=\"0\" wordPenalty=\"9\" meanStrokeWidth=\"78\">A</charParams>\n",
      "                    <charParams l=\"1022\" t=\"38\" r=\"1066\" b=\"94\" wordStart=\"false\" wordFrom ...            <charParams l=\"1047\" t=\"3918\" r=\"1084\" b=\"3963\" wordStart=\"false\" wordFromDictionary=\"true\" wordNormal=\"true\" wordNumeric=\"false\" wordIdentifier=\"false\" charConfidence=\"100\" serifProbability=\"70\" wordPenalty=\"0\" meanStrokeWidth=\"91\">e</charParams>\n",
      "                </word>\n",
      "                <word l=\"1115\" t=\"3918\" r=\"1299\" b=\"3980\">\n",
      "                    <charParams l=\"1115\" t=\"3918\" r=\"1178\" b=\"3962\" wordStart=\"true\" wordFromDictionary=\"true\" wordNormal=\"true\" wordNumeric=\"false\" wordIdentifier=\"false\" charConfidence=\"100\" serifProbability=\"255\" wordPenalty=\"0\" meanStrokeWidth=\"96\">w</charParams>\n",
      "                    <charParams l=\"1182\" t=\"3918\" r=\"1225\" b=\"3962\" wordStart=\"false\" wordFromDictionary=\"true\" wordNormal=\"true\" wordNumeric=\"false\" wordIdentifier=\"false\" charConfidence=\"100\" serifProbability=\"96\" wordPenalty=\"0\" meanStrokeWidth=\"96\">a</charParams>\n",
      "                    <charParams l=\"1226\" t=\"3918\" r=\"1277\" b=\"3980\" wordStart=\"false\" wordFromDictionary=\"true\" wordNormal=\"true\" wordNumeric=\"false\" wordIdentifier=\"false\" charConfidence=\"100\" serifProbability=\"49\" wordPenalty=\"0\" meanStrokeWidth=\"96\">y</charParams>\n",
      "                    <charParams l=\"1284\" t=\"3946\" r=\"1299\" b=\"3961\" wordStart=\"false\" wordFromDictionary=\"true\" wordNormal=\"true\" wordNumeric=\"false\" wordIdentifier=\"false\" charConfidence=\"100\" serifProbability=\"255\" wordPenalty=\"0\" meanStrokeWidth=\"96\">.</charParams>\n",
      "                </word>\n",
      "            </line>\n",
      "        </block>\n",
      "    </page>\n",
      "</document>\n",
      "\n"
     ]
    }
   ],
   "source": [
    "xml4 = ah.filter_elements(xml3, \"document page block line word charParams\".split())\n",
    "ah.ppxml(xml4)"
   ]
  },
  {
   "cell_type": "code",
   "execution_count": 11,
   "metadata": {},
   "outputs": [
    {
     "name": "stdout",
     "output_type": "stream",
     "text": [
      "<?xml version=\"1.0\" encoding=\"UTF-8\"?>\n",
      "<document xmlns:xsi=\"http://www.w3.org/2001/XMLSchema-instance\" version=\"1.0\" producer=\"LuraDocument XML Exporter for ABBYY FineReader\" pagesCount=\"298\" xsi:schemaLocation=\"http://www.abbyy.com/FineReader_xml/FineReader6-schema-v1.xml http://www.abbyy.com/FineReader_xml/FineReader6-schema-v1.xml\">\n",
      "    \n",
      "\n",
      "    <page width=\"1000\" height=\"1500\" resolution=\"500\" originalCoords=\"true\">\n",
      "</page>\n",
      "    <page width=\"2854\" height=\"4155\" resolution=\"500\" originalCoords=\"true\">\n",
      "        \n",
      "\n",
      "        <block blockType=\"Picture\" l=\"0\" t=\"0\" r=\"2854\" b=\"4154\">\n",
      "</block>\n",
      "    </page>\n",
      "    <page width=\"2854\" height=\"4155\" resolution=\"500\" originalCoords=\"true\">\n",
      "        \n",
      "\n",
      "        <block blockType=\"Text\" l=\"900\" t=\"16\" r=\"1856\" b=\"300\">\n",
      "            \n",
      "\n",
      "            <line baseline=\"123\" l=\"914\" t=\"30\" r=\"1842\" b=\"142\">\n",
      "                <word l=\"914\" t=\"30\" r=\"1232\" b=\"106\">\n",
      "                    <charParams l=\"914\" t=\"30\" r=\"962\" b=\"88\" wordStart=\"true\" wordFromDictionary=\"true\" wordNormal=\"true\" wordNumeric=\"false\" wordIdentifier=\"false\" charConfidence=\"30\" serifProbability=\"6\" wordPenalty=\"9\" meanStrokeWidth=\"78\">H</charParams>\n",
      "                    <charParams l=\"966\" t=\"36\" r=\"1014\" b=\"90\" wordStart=\"false\" wordFromDictionary=\"true\" wordNormal=\"true\" wordNumeric=\"false\" wordIdentifier=\"false\" charConfidence=\"16\" serifProbability=\"0\" wordPenalty=\"9\" meanStrokeWidth=\"78\">A</charParams>\n",
      "                    <charParams l=\"1022\" t=\"38\" r=\"1066\" b=\"94\" wordStart=\"false\" wordFrom ...            <charParams l=\"1047\" t=\"3918\" r=\"1084\" b=\"3963\" wordStart=\"false\" wordFromDictionary=\"true\" wordNormal=\"true\" wordNumeric=\"false\" wordIdentifier=\"false\" charConfidence=\"100\" serifProbability=\"70\" wordPenalty=\"0\" meanStrokeWidth=\"91\">e</charParams>\n",
      "                </word>\n",
      "                <word l=\"1115\" t=\"3918\" r=\"1299\" b=\"3980\">\n",
      "                    <charParams l=\"1115\" t=\"3918\" r=\"1178\" b=\"3962\" wordStart=\"true\" wordFromDictionary=\"true\" wordNormal=\"true\" wordNumeric=\"false\" wordIdentifier=\"false\" charConfidence=\"100\" serifProbability=\"255\" wordPenalty=\"0\" meanStrokeWidth=\"96\">w</charParams>\n",
      "                    <charParams l=\"1182\" t=\"3918\" r=\"1225\" b=\"3962\" wordStart=\"false\" wordFromDictionary=\"true\" wordNormal=\"true\" wordNumeric=\"false\" wordIdentifier=\"false\" charConfidence=\"100\" serifProbability=\"96\" wordPenalty=\"0\" meanStrokeWidth=\"96\">a</charParams>\n",
      "                    <charParams l=\"1226\" t=\"3918\" r=\"1277\" b=\"3980\" wordStart=\"false\" wordFromDictionary=\"true\" wordNormal=\"true\" wordNumeric=\"false\" wordIdentifier=\"false\" charConfidence=\"100\" serifProbability=\"49\" wordPenalty=\"0\" meanStrokeWidth=\"96\">y</charParams>\n",
      "                    <charParams l=\"1284\" t=\"3946\" r=\"1299\" b=\"3961\" wordStart=\"false\" wordFromDictionary=\"true\" wordNormal=\"true\" wordNumeric=\"false\" wordIdentifier=\"false\" charConfidence=\"100\" serifProbability=\"255\" wordPenalty=\"0\" meanStrokeWidth=\"96\">.</charParams>\n",
      "                </word>\n",
      "            </line>\n",
      "        </block>\n",
      "    </page>\n",
      "</document>\n",
      "\n"
     ]
    }
   ],
   "source": [
    "reload(ah)\n",
    "xml5 = ah.complete_element_tree(xml4, \"document page block line\".split())\n",
    "ah.ppxml(xml5)"
   ]
  },
  {
   "cell_type": "code",
   "execution_count": 12,
   "metadata": {},
   "outputs": [
    {
     "name": "stdout",
     "output_type": "stream",
     "text": [
      "<?xml version=\"1.0\" encoding=\"UTF-8\"?>\n",
      "<html>\n",
      "    <div class=\"ocr_page\" title=\"image\"/>\n",
      "    <div class=\"ocr_page\" title=\"image\">\n",
      "        <div class=\"ocr_carea\" title=\"bbox 0 0 2854 4154\">\n",
      "            <img class=\"ocr_image\" src=\"data:image/png;base64,iVBORw0KGgoAAAANSUhEUgAAAAEAAAABCAYAAAAfFcSJAAAAC0lEQVQYV2NkQAIAAAoABaKrrkAAAAASUVORK5CYII=\"/>\n",
      "        </div>\n",
      "    </div>\n",
      "    <div class=\"ocr_page\" title=\"image\">\n",
      "        <div class=\"ocr_carea\" title=\"bbox 900 16 1856 300\">\n",
      "            <span class=\"ocr_line\" title=\"bbox 914 30 1842 142\">\n",
      "                <span class=\"ocrx_word\" title=\"bbox 914 30 1232 106\">HAROLD</span>\n",
      "                <span class=\"ocrx_word\" title=\"bbox 1260 54 1324 112\">B.</span>\n",
      "                <span class=\"ocrx_word\" title=\"bbox 1358 62 1492 124\">LEE</span>\n",
      "                <span class=\"ocrx_word\" title=\"bbox 1522 74 1842 142\">LIBRARY</span>\n",
      "            </span>\n",
      "            <span class=\"ocr_line\" title=\"bbox 944 88 1802 218\">\n",
      "                <span class=\"ocrx_word\" title=\"bbox 944 116 1210 176\">3RIGHAM</span>\n",
      "                <span class=\"ocrx_word\" title=\"bbox 1236 138 1440 192\">roUNG</span>\n",
      "                <span class=\"ocrx_word\" title=\"bbox 1464 88 1802 218\">UN.S.Ty</span>\n",
      "            </span>\n",
      "            <span class=\"ocr_line\" title=\"bbox 1108 206 1628 298\">\n",
      "                <span class=\"ocrx_word\" title=\"bbox 1108 206 1390 290\">PROVO.</span>\n",
      "                <span class=\"ocrx_word\" title=\"bbox 1422 226 1628 298\">UTAH</span>\n",
      "            </span>\n",
      "        </div>\n",
      "     ...             <span class=\"ocrx_word\" title=\"bbox 2451 3707 2587 3782\">ana</span>\n",
      "            </span>\n",
      "            <span class=\"ocr_line\" title=\"bbox 230 3803 2583 3891\">\n",
      "                <span class=\"ocrx_word\" title=\"bbox 230 3803 374 3873\">this</span>\n",
      "                <span class=\"ocrx_word\" title=\"bbox 427 3804 485 3873\">is</span>\n",
      "                <span class=\"ocrx_word\" title=\"bbox 539 3805 819 3888\">exactly</span>\n",
      "                <span class=\"ocrx_word\" title=\"bbox 871 3804 1066 3873\">what</span>\n",
      "                <span class=\"ocrx_word\" title=\"bbox 1119 3804 1396 3890\">Hugo's</span>\n",
      "                <span class=\"ocrx_word\" title=\"bbox 1449 3804 1868 3875\">Grammars</span>\n",
      "                <span class=\"ocrx_word\" title=\"bbox 1921 3805 2037 3890\">do,</span>\n",
      "                <span class=\"ocrx_word\" title=\"bbox 2093 3805 2168 3874\">in</span>\n",
      "                <span class=\"ocrx_word\" title=\"bbox 2220 3827 2266 3873\">a</span>\n",
      "                <span class=\"ocrx_word\" title=\"bbox 2317 3805 2583 3891\">simple,</span>\n",
      "            </span>\n",
      "            <span class=\"ocr_line\" title=\"bbox 232 3895 1299 3980\">\n",
      "                <span class=\"ocrx_word\" title=\"bbox 232 3895 596 3975\">practical,</span>\n",
      "                <span class=\"ocrx_word\" title=\"bbox 631 3895 776 3963\">and</span>\n",
      "                <span class=\"ocrx_word\" title=\"bbox 808 3895 1084 3963\">concise</span>\n",
      "                <span class=\"ocrx_word\" title=\"bbox 1115 3918 1299 3980\">way.</span>\n",
      "            </span>\n",
      "        </div>\n",
      "    </div>\n",
      "</html>\n",
      "\n"
     ]
    }
   ],
   "source": [
    "reload(ah)\n",
    "hocr = ah.abbyy_to_hocr(xml5)\n",
    "ah.ppxml(hocr)"
   ]
  }
 ],
 "metadata": {
  "kernelspec": {
   "display_name": "venv",
   "language": "python",
   "name": "python3"
  },
  "language_info": {
   "codemirror_mode": {
    "name": "ipython",
    "version": 3
   },
   "file_extension": ".py",
   "mimetype": "text/x-python",
   "name": "python",
   "nbconvert_exporter": "python",
   "pygments_lexer": "ipython3",
   "version": "3.10.6"
  },
  "orig_nbformat": 4
 },
 "nbformat": 4,
 "nbformat_minor": 2
}
