{
 "cells": [
  {
   "cell_type": "code",
   "execution_count": 1,
   "metadata": {},
   "outputs": [
    {
     "name": "stdout",
     "output_type": "stream",
     "text": [
      "%pylab is deprecated, use %matplotlib inline and import the required libraries.\n",
      "Populating the interactive namespace from numpy and matplotlib\n"
     ]
    }
   ],
   "source": [
    "%pylab inline"
   ]
  },
  {
   "cell_type": "code",
   "execution_count": 2,
   "metadata": {},
   "outputs": [],
   "source": [
    "# import reload\n",
    "from importlib import reload"
   ]
  },
  {
   "cell_type": "code",
   "execution_count": 3,
   "metadata": {},
   "outputs": [
    {
     "data": {
      "text/plain": [
       "<module 'abbyyhelper' from '/home/tmb/ocropus4extract/abbyyhelper.py'>"
      ]
     },
     "execution_count": 3,
     "metadata": {},
     "output_type": "execute_result"
    }
   ],
   "source": [
    "import abbyyhelper as ah\n",
    "import webdataset as wds\n",
    "reload(ah)"
   ]
  },
  {
   "cell_type": "code",
   "execution_count": 4,
   "metadata": {},
   "outputs": [
    {
     "name": "stdout",
     "output_type": "stream",
     "text": [
      "dict_keys(['__key__', '__url__', 'abbyy.gz', 'json', 'zip'])\n"
     ]
    }
   ],
   "source": [
    "ds = wds.WebDataset(\"gs://ocro-iaa/books/books-000000.tar\").decode()\n",
    "sample = next(iter(ds))\n",
    "print(sample.keys())"
   ]
  },
  {
   "cell_type": "code",
   "execution_count": 5,
   "metadata": {},
   "outputs": [
    {
     "name": "stdout",
     "output_type": "stream",
     "text": [
      "b'<?xml version=\"1.0\" encoding=\"UTF-8\"?>\\n<document version=\"1.0\" producer=\"LuraDocument XML Exporter for ABBYY FineReader\" pagesCount=\"298\"           \\n xmlns=\"http://www.abbyy.com/FineReader_xml/FineReader6-schema-v1.xml\" xmlns:xsi=\"http://www.w3.org/2001/XMLSchema-instance\" xsi:schemaLocation=\"http://www.abbyy.com/FineReader_xml/FineReader6-schema-v1.xml http://www.abbyy.com/FineReader_xml/FineReader6-schema-v1.xml\">\\n<page width=\"1000\" height=\"1500\" resolution=\"500\" originalCoords=\"true\">\\n</page>'\n",
      "b'/page>\\n<page width=\"1000\" height=\"1500\" resolution=\"500\" originalCoords=\"true\">\\n</page>\\n</document>\\n'\n"
     ]
    }
   ],
   "source": [
    "abbyy = sample[\"abbyy.gz\"]\n",
    "print(abbyy[:500])\n",
    "print(abbyy[-100:])"
   ]
  },
  {
   "cell_type": "code",
   "execution_count": 6,
   "metadata": {},
   "outputs": [
    {
     "name": "stdout",
     "output_type": "stream",
     "text": [
      "<?xml version=\"1.0\" encoding=\"UTF-8\"?>\n",
      "<document xmlns:xsi=\"http://www.w3.org/2001/XMLSchema-instance\" version=\"1.0\" producer=\"LuraDocument XML Exporter for ABBYY FineReader\" pagesCount=\"298\" xsi:schemaLocation=\"http://www.abbyy.com/FineReader_xml/FineReader6-schema-v1.xml http://www.abbyy.com/FineReader_xml/FineReader6-schema-v1.xml\">\n",
      "    \n",
      "\n",
      "    <page width=\"1000\" height=\"1500\" resolution=\"500\" originalCoords=\"true\">\n",
      "</page>\n",
      "    <page width=\"2854\" height=\"4155\" resolution=\"500\" originalCoords=\"true\">\n",
      "        \n",
      "\n",
      "        <block blockType=\"Picture\" l=\"0\" t=\"0\" r=\"2854\" b=\"4154\">\n",
      "            \n",
      "\n",
      "            <region>\n",
      "                <rect l=\"0\" t=\"0\" r=\"2854\" b=\"4154\"/>\n",
      "            </region>\n",
      "        </block>\n",
      "    </page>\n",
      "    <page width=\"2854\" height=\"4155\" resolution=\"500\" originalCoords=\"true\">\n",
      "        \n",
      "\n",
      "        <block blockType=\"Text\" l=\"900\" t=\"16\" r=\"1856\" b=\"300\">\n",
      "            \n",
      "\n",
      "            <region>\n",
      "                <rect l=\"900\" t=\"16\" r=\"1856\" b=\"300\"/>\n",
      "            </region>\n",
      "            <text>\n",
      "                \n",
      "\n",
      "                <par>\n",
      "                    \n",
      "\n",
      "                    <line baseline=\"123\" l=\"914\" t=\"30\" r=\"1842\" b=\"142\">\n",
      "                        <formatting lang=\"EnglishUnitedStates\" ff=\"Arial\" fs=\"11.\" bold=\"true\" spacing=\"-6\">\n",
      "                            <charParams l=\"914\" t=\"30\" r=\"962\" b=\"88\" wordStart=\"true\" wordFromDictionary=\"true\" wordNormal=\"true\" wordNumeric=\"false\" wordIdentifier=\"false\" charConfidence=\"30\" serifProbability=\"6\" wordPenalty=\"9\" meanStrokeWidth=\"7 ... Params l=\"1084\" t=\"3917\" r=\"1115\" b=\"3962\" wordStart=\"false\" wordFromDictionary=\"false\" wordNormal=\"false\" wordNumeric=\"false\" wordIdentifier=\"false\" charConfidence=\"255\" serifProbability=\"255\" wordPenalty=\"0\" meanStrokeWidth=\"0\"> </charParams>\n",
      "                            <charParams l=\"1115\" t=\"3918\" r=\"1178\" b=\"3962\" wordStart=\"true\" wordFromDictionary=\"true\" wordNormal=\"true\" wordNumeric=\"false\" wordIdentifier=\"false\" charConfidence=\"100\" serifProbability=\"255\" wordPenalty=\"0\" meanStrokeWidth=\"96\">w</charParams>\n",
      "                            <charParams l=\"1182\" t=\"3918\" r=\"1225\" b=\"3962\" wordStart=\"false\" wordFromDictionary=\"true\" wordNormal=\"true\" wordNumeric=\"false\" wordIdentifier=\"false\" charConfidence=\"100\" serifProbability=\"96\" wordPenalty=\"0\" meanStrokeWidth=\"96\">a</charParams>\n",
      "                            <charParams l=\"1226\" t=\"3918\" r=\"1277\" b=\"3980\" wordStart=\"false\" wordFromDictionary=\"true\" wordNormal=\"true\" wordNumeric=\"false\" wordIdentifier=\"false\" charConfidence=\"100\" serifProbability=\"49\" wordPenalty=\"0\" meanStrokeWidth=\"96\">y</charParams>\n",
      "                            <charParams l=\"1284\" t=\"3946\" r=\"1299\" b=\"3961\" wordStart=\"false\" wordFromDictionary=\"true\" wordNormal=\"true\" wordNumeric=\"false\" wordIdentifier=\"false\" charConfidence=\"100\" serifProbability=\"255\" wordPenalty=\"0\" meanStrokeWidth=\"96\">.</charParams>\n",
      "                        </formatting>\n",
      "                    </line>\n",
      "                </par>\n",
      "            </text>\n",
      "        </block>\n",
      "    </page>\n",
      "</document>\n",
      "\n"
     ]
    }
   ],
   "source": [
    "xml = ah.parse_abbby_xml(abbyy)\n",
    "xml = ah.strip_namespace(xml)\n",
    "xml, _ = ah.copy_limit_element(xml, \"page\", 10)\n",
    "ah.ppxml(xml)"
   ]
  },
  {
   "cell_type": "code",
   "execution_count": 7,
   "metadata": {},
   "outputs": [
    {
     "name": "stdout",
     "output_type": "stream",
     "text": [
      "<?xml version=\"1.0\" encoding=\"UTF-8\"?>\n",
      "<document xmlns:xsi=\"http://www.w3.org/2001/XMLSchema-instance\" version=\"1.0\" producer=\"LuraDocument XML Exporter for ABBYY FineReader\" pagesCount=\"298\" xsi:schemaLocation=\"http://www.abbyy.com/FineReader_xml/FineReader6-schema-v1.xml http://www.abbyy.com/FineReader_xml/FineReader6-schema-v1.xml\">\n",
      "    \n",
      "\n",
      "    <page width=\"1000\" height=\"1500\" resolution=\"500\" originalCoords=\"true\">\n",
      "</page>\n",
      "    <page width=\"2854\" height=\"4155\" resolution=\"500\" originalCoords=\"true\">\n",
      "        \n",
      "\n",
      "        <block blockType=\"Picture\" l=\"0\" t=\"0\" r=\"2854\" b=\"4154\">\n",
      "</block>\n",
      "    </page>\n",
      "    <page width=\"2854\" height=\"4155\" resolution=\"500\" originalCoords=\"true\">\n",
      "        \n",
      "\n",
      "        <block blockType=\"Text\" l=\"900\" t=\"16\" r=\"1856\" b=\"300\">\n",
      "            \n",
      "\n",
      "            <line baseline=\"123\" l=\"914\" t=\"30\" r=\"1842\" b=\"142\">\n",
      "                <charParams l=\"914\" t=\"30\" r=\"962\" b=\"88\" wordStart=\"true\" wordFromDictionary=\"true\" wordNormal=\"true\" wordNumeric=\"false\" wordIdentifier=\"false\" charConfidence=\"30\" serifProbability=\"6\" wordPenalty=\"9\" meanStrokeWidth=\"78\">H</charParams>\n",
      "                <charParams l=\"966\" t=\"36\" r=\"1014\" b=\"90\" wordStart=\"false\" wordFromDictionary=\"true\" wordNormal=\"true\" wordNumeric=\"false\" wordIdentifier=\"false\" charConfidence=\"16\" serifProbability=\"0\" wordPenalty=\"9\" meanStrokeWidth=\"78\">A</charParams>\n",
      "                <charParams l=\"1022\" t=\"38\" r=\"1066\" b=\"94\" wordStart=\"false\" wordFromDictionary=\"true\" wordNormal=\"true\" wordNumeric=\"false\" wordIdentif ... rdIdentifier=\"false\" charConfidence=\"100\" serifProbability=\"70\" wordPenalty=\"0\" meanStrokeWidth=\"91\">e</charParams>\n",
      "                <charParams l=\"1084\" t=\"3917\" r=\"1115\" b=\"3962\" wordStart=\"false\" wordFromDictionary=\"false\" wordNormal=\"false\" wordNumeric=\"false\" wordIdentifier=\"false\" charConfidence=\"255\" serifProbability=\"255\" wordPenalty=\"0\" meanStrokeWidth=\"0\"> </charParams>\n",
      "                <charParams l=\"1115\" t=\"3918\" r=\"1178\" b=\"3962\" wordStart=\"true\" wordFromDictionary=\"true\" wordNormal=\"true\" wordNumeric=\"false\" wordIdentifier=\"false\" charConfidence=\"100\" serifProbability=\"255\" wordPenalty=\"0\" meanStrokeWidth=\"96\">w</charParams>\n",
      "                <charParams l=\"1182\" t=\"3918\" r=\"1225\" b=\"3962\" wordStart=\"false\" wordFromDictionary=\"true\" wordNormal=\"true\" wordNumeric=\"false\" wordIdentifier=\"false\" charConfidence=\"100\" serifProbability=\"96\" wordPenalty=\"0\" meanStrokeWidth=\"96\">a</charParams>\n",
      "                <charParams l=\"1226\" t=\"3918\" r=\"1277\" b=\"3980\" wordStart=\"false\" wordFromDictionary=\"true\" wordNormal=\"true\" wordNumeric=\"false\" wordIdentifier=\"false\" charConfidence=\"100\" serifProbability=\"49\" wordPenalty=\"0\" meanStrokeWidth=\"96\">y</charParams>\n",
      "                <charParams l=\"1284\" t=\"3946\" r=\"1299\" b=\"3961\" wordStart=\"false\" wordFromDictionary=\"true\" wordNormal=\"true\" wordNumeric=\"false\" wordIdentifier=\"false\" charConfidence=\"100\" serifProbability=\"255\" wordPenalty=\"0\" meanStrokeWidth=\"96\">.</charParams>\n",
      "            </line>\n",
      "        </block>\n",
      "    </page>\n",
      "</document>\n",
      "\n"
     ]
    }
   ],
   "source": [
    "allowable_tags = \"document page block line charParams\".split()\n",
    "xml2 = ah.filter_elements(xml, allowable_tags)\n",
    "ah.ppxml(xml2)"
   ]
  },
  {
   "cell_type": "code",
   "execution_count": 8,
   "metadata": {},
   "outputs": [
    {
     "name": "stdout",
     "output_type": "stream",
     "text": [
      "<?xml version=\"1.0\" encoding=\"UTF-8\"?>\n",
      "<line baseline=\"2591\" l=\"484\" t=\"2520\" r=\"2675\" b=\"2610\">\n",
      "    <word l=\"484\" t=\"2522\" r=\"770\" b=\"2608\">\n",
      "        <charParams l=\"484\" t=\"2522\" r=\"550\" b=\"2590\" wordStart=\"true\" wordFromDictionary=\"true\" wordNormal=\"true\" wordNumeric=\"false\" wordIdentifier=\"false\" charConfidence=\"100\" serifProbability=\"98\" wordPenalty=\"0\" meanStrokeWidth=\"90\">A</charParams>\n",
      "        <charParams l=\"553\" t=\"2544\" r=\"625\" b=\"2590\" wordStart=\"false\" wordFromDictionary=\"true\" wordNormal=\"true\" wordNumeric=\"false\" wordIdentifier=\"false\" charConfidence=\"100\" serifProbability=\"100\" wordPenalty=\"0\" meanStrokeWidth=\"90\">m</charParams>\n",
      "        <charParams l=\"630\" t=\"2545\" r=\"671\" b=\"2591\" wordStart=\"false\" wordFromDictionary=\"true\" wordNormal=\"true\" wordNumeric=\"false\" wordIdentifier=\"false\" charConfidence=\"100\" serifProbability=\"255\" wordPenalty=\"0\" meanStrokeWidth=\"90\">o</charParams>\n",
      "        <charParams l=\"675\" t=\"2544\" r=\"721\" b=\"2589\" wordStart=\"false\" wordFromDictionary=\"true\" wordNormal=\"true\" wordNumeric=\"false\" wordIdentifier=\"false\" charConfidence=\"100\" serifProbability=\"100\" wordPenalty=\"0\" meanStrokeWidth=\"90\">n</charParams>\n",
      "        <charParams l=\"725\" t=\"2545\" r=\"770\" b=\"2608\" wordStart=\"false\" wordFromDictionary=\"true\" wordNormal=\"true\" wordNumeric=\"false\" wordIdentifier=\"false\" charConfidence=\"100\" serifProbability=\"53\" wordPenalty=\"0\" meanStrokeWidth=\"90\">g</charParams>\n",
      "    </word>\n",
      "    <word l=\"813\" t=\"2522\" r=\"1021\" b=\"2592\">\n",
      "        <charParams l=\"813\"  ... ce=\"100\" serifProbability=\"86\" wordPenalty=\"0\" meanStrokeWidth=\"88\">s</charParams>\n",
      "    </word>\n",
      "    <word l=\"2411\" t=\"2543\" r=\"2506\" b=\"2591\">\n",
      "        <charParams l=\"2411\" t=\"2545\" r=\"2453\" b=\"2591\" wordStart=\"true\" wordFromDictionary=\"true\" wordNormal=\"true\" wordNumeric=\"false\" wordIdentifier=\"false\" charConfidence=\"100\" serifProbability=\"255\" wordPenalty=\"0\" meanStrokeWidth=\"90\">o</charParams>\n",
      "        <charParams l=\"2458\" t=\"2543\" r=\"2506\" b=\"2589\" wordStart=\"false\" wordFromDictionary=\"true\" wordNormal=\"true\" wordNumeric=\"false\" wordIdentifier=\"false\" charConfidence=\"100\" serifProbability=\"100\" wordPenalty=\"0\" meanStrokeWidth=\"90\">n</charParams>\n",
      "    </word>\n",
      "    <word l=\"2549\" t=\"2520\" r=\"2675\" b=\"2591\">\n",
      "        <charParams l=\"2549\" t=\"2527\" r=\"2583\" b=\"2590\" wordStart=\"true\" wordFromDictionary=\"true\" wordNormal=\"true\" wordNumeric=\"false\" wordIdentifier=\"false\" charConfidence=\"100\" serifProbability=\"70\" wordPenalty=\"0\" meanStrokeWidth=\"91\">t</charParams>\n",
      "        <charParams l=\"2587\" t=\"2520\" r=\"2633\" b=\"2588\" wordStart=\"false\" wordFromDictionary=\"true\" wordNormal=\"true\" wordNumeric=\"false\" wordIdentifier=\"false\" charConfidence=\"100\" serifProbability=\"98\" wordPenalty=\"0\" meanStrokeWidth=\"91\">h</charParams>\n",
      "        <charParams l=\"2637\" t=\"2543\" r=\"2675\" b=\"2591\" wordStart=\"false\" wordFromDictionary=\"true\" wordNormal=\"true\" wordNumeric=\"false\" wordIdentifier=\"false\" charConfidence=\"52\" serifProbability=\"83\" wordPenalty=\"0\" meanStrokeWidth=\"91\">e</charParams>\n",
      "    </word>\n",
      "</line>\n",
      "\n"
     ]
    }
   ],
   "source": [
    "reload(ah)\n",
    "line = ah.pick_random_tag(xml2, \"line\")\n",
    "line2 = ah.abbby_line_to_word_boxes(line)\n",
    "ah.ppxml(line2)"
   ]
  },
  {
   "attachments": {},
   "cell_type": "markdown",
   "metadata": {},
   "source": []
  },
  {
   "cell_type": "code",
   "execution_count": 9,
   "metadata": {},
   "outputs": [
    {
     "name": "stdout",
     "output_type": "stream",
     "text": [
      "<?xml version=\"1.0\" encoding=\"UTF-8\"?>\n",
      "<document xmlns:xsi=\"http://www.w3.org/2001/XMLSchema-instance\" version=\"1.0\" producer=\"LuraDocument XML Exporter for ABBYY FineReader\" pagesCount=\"298\" xsi:schemaLocation=\"http://www.abbyy.com/FineReader_xml/FineReader6-schema-v1.xml http://www.abbyy.com/FineReader_xml/FineReader6-schema-v1.xml\">\n",
      "    \n",
      "\n",
      "    <page width=\"1000\" height=\"1500\" resolution=\"500\" originalCoords=\"true\">\n",
      "</page>\n",
      "    <page width=\"2854\" height=\"4155\" resolution=\"500\" originalCoords=\"true\">\n",
      "        \n",
      "\n",
      "        <block blockType=\"Picture\" l=\"0\" t=\"0\" r=\"2854\" b=\"4154\">\n",
      "</block>\n",
      "    </page>\n",
      "    <page width=\"2854\" height=\"4155\" resolution=\"500\" originalCoords=\"true\">\n",
      "        \n",
      "\n",
      "        <block blockType=\"Text\" l=\"900\" t=\"16\" r=\"1856\" b=\"300\">\n",
      "            \n",
      "\n",
      "            <line baseline=\"123\" l=\"914\" t=\"30\" r=\"1842\" b=\"142\">\n",
      "                <word l=\"914\" t=\"30\" r=\"1232\" b=\"106\">\n",
      "                    <charParams l=\"914\" t=\"30\" r=\"962\" b=\"88\" wordStart=\"true\" wordFromDictionary=\"true\" wordNormal=\"true\" wordNumeric=\"false\" wordIdentifier=\"false\" charConfidence=\"30\" serifProbability=\"6\" wordPenalty=\"9\" meanStrokeWidth=\"78\">H</charParams>\n",
      "                    <charParams l=\"966\" t=\"36\" r=\"1014\" b=\"90\" wordStart=\"false\" wordFromDictionary=\"true\" wordNormal=\"true\" wordNumeric=\"false\" wordIdentifier=\"false\" charConfidence=\"16\" serifProbability=\"0\" wordPenalty=\"9\" meanStrokeWidth=\"78\">A</charParams>\n",
      "                    <charParams l=\"1022\" t=\"38\" r=\"1066\" b=\"94\" wordStart=\"false\" wordFrom ...            <charParams l=\"1047\" t=\"3918\" r=\"1084\" b=\"3963\" wordStart=\"false\" wordFromDictionary=\"true\" wordNormal=\"true\" wordNumeric=\"false\" wordIdentifier=\"false\" charConfidence=\"100\" serifProbability=\"70\" wordPenalty=\"0\" meanStrokeWidth=\"91\">e</charParams>\n",
      "                </word>\n",
      "                <word l=\"1115\" t=\"3918\" r=\"1299\" b=\"3980\">\n",
      "                    <charParams l=\"1115\" t=\"3918\" r=\"1178\" b=\"3962\" wordStart=\"true\" wordFromDictionary=\"true\" wordNormal=\"true\" wordNumeric=\"false\" wordIdentifier=\"false\" charConfidence=\"100\" serifProbability=\"255\" wordPenalty=\"0\" meanStrokeWidth=\"96\">w</charParams>\n",
      "                    <charParams l=\"1182\" t=\"3918\" r=\"1225\" b=\"3962\" wordStart=\"false\" wordFromDictionary=\"true\" wordNormal=\"true\" wordNumeric=\"false\" wordIdentifier=\"false\" charConfidence=\"100\" serifProbability=\"96\" wordPenalty=\"0\" meanStrokeWidth=\"96\">a</charParams>\n",
      "                    <charParams l=\"1226\" t=\"3918\" r=\"1277\" b=\"3980\" wordStart=\"false\" wordFromDictionary=\"true\" wordNormal=\"true\" wordNumeric=\"false\" wordIdentifier=\"false\" charConfidence=\"100\" serifProbability=\"49\" wordPenalty=\"0\" meanStrokeWidth=\"96\">y</charParams>\n",
      "                    <charParams l=\"1284\" t=\"3946\" r=\"1299\" b=\"3961\" wordStart=\"false\" wordFromDictionary=\"true\" wordNormal=\"true\" wordNumeric=\"false\" wordIdentifier=\"false\" charConfidence=\"100\" serifProbability=\"255\" wordPenalty=\"0\" meanStrokeWidth=\"96\">.</charParams>\n",
      "                </word>\n",
      "            </line>\n",
      "        </block>\n",
      "    </page>\n",
      "</document>\n",
      "\n"
     ]
    }
   ],
   "source": [
    "xml3 = ah.map_tags(xml2, 'line', ah.abbby_line_to_word_boxes)\n",
    "ah.ppxml(xml3)"
   ]
  },
  {
   "cell_type": "code",
   "execution_count": 10,
   "metadata": {},
   "outputs": [
    {
     "name": "stdout",
     "output_type": "stream",
     "text": [
      "<?xml version=\"1.0\" encoding=\"UTF-8\"?>\n",
      "<document xmlns:xsi=\"http://www.w3.org/2001/XMLSchema-instance\" version=\"1.0\" producer=\"LuraDocument XML Exporter for ABBYY FineReader\" pagesCount=\"298\" xsi:schemaLocation=\"http://www.abbyy.com/FineReader_xml/FineReader6-schema-v1.xml http://www.abbyy.com/FineReader_xml/FineReader6-schema-v1.xml\">\n",
      "    \n",
      "\n",
      "    <page width=\"1000\" height=\"1500\" resolution=\"500\" originalCoords=\"true\">\n",
      "</page>\n",
      "    <page width=\"2854\" height=\"4155\" resolution=\"500\" originalCoords=\"true\">\n",
      "        \n",
      "\n",
      "        <block blockType=\"Picture\" l=\"0\" t=\"0\" r=\"2854\" b=\"4154\">\n",
      "</block>\n",
      "    </page>\n",
      "    <page width=\"2854\" height=\"4155\" resolution=\"500\" originalCoords=\"true\">\n",
      "        \n",
      "\n",
      "        <block blockType=\"Text\" l=\"900\" t=\"16\" r=\"1856\" b=\"300\">\n",
      "            \n",
      "\n",
      "            <line baseline=\"123\" l=\"914\" t=\"30\" r=\"1842\" b=\"142\">\n",
      "                <word l=\"914\" t=\"30\" r=\"1232\" b=\"106\">\n",
      "                    <charParams l=\"914\" t=\"30\" r=\"962\" b=\"88\" wordStart=\"true\" wordFromDictionary=\"true\" wordNormal=\"true\" wordNumeric=\"false\" wordIdentifier=\"false\" charConfidence=\"30\" serifProbability=\"6\" wordPenalty=\"9\" meanStrokeWidth=\"78\">H</charParams>\n",
      "                    <charParams l=\"966\" t=\"36\" r=\"1014\" b=\"90\" wordStart=\"false\" wordFromDictionary=\"true\" wordNormal=\"true\" wordNumeric=\"false\" wordIdentifier=\"false\" charConfidence=\"16\" serifProbability=\"0\" wordPenalty=\"9\" meanStrokeWidth=\"78\">A</charParams>\n",
      "                    <charParams l=\"1022\" t=\"38\" r=\"1066\" b=\"94\" wordStart=\"false\" wordFrom ...            <charParams l=\"1047\" t=\"3918\" r=\"1084\" b=\"3963\" wordStart=\"false\" wordFromDictionary=\"true\" wordNormal=\"true\" wordNumeric=\"false\" wordIdentifier=\"false\" charConfidence=\"100\" serifProbability=\"70\" wordPenalty=\"0\" meanStrokeWidth=\"91\">e</charParams>\n",
      "                </word>\n",
      "                <word l=\"1115\" t=\"3918\" r=\"1299\" b=\"3980\">\n",
      "                    <charParams l=\"1115\" t=\"3918\" r=\"1178\" b=\"3962\" wordStart=\"true\" wordFromDictionary=\"true\" wordNormal=\"true\" wordNumeric=\"false\" wordIdentifier=\"false\" charConfidence=\"100\" serifProbability=\"255\" wordPenalty=\"0\" meanStrokeWidth=\"96\">w</charParams>\n",
      "                    <charParams l=\"1182\" t=\"3918\" r=\"1225\" b=\"3962\" wordStart=\"false\" wordFromDictionary=\"true\" wordNormal=\"true\" wordNumeric=\"false\" wordIdentifier=\"false\" charConfidence=\"100\" serifProbability=\"96\" wordPenalty=\"0\" meanStrokeWidth=\"96\">a</charParams>\n",
      "                    <charParams l=\"1226\" t=\"3918\" r=\"1277\" b=\"3980\" wordStart=\"false\" wordFromDictionary=\"true\" wordNormal=\"true\" wordNumeric=\"false\" wordIdentifier=\"false\" charConfidence=\"100\" serifProbability=\"49\" wordPenalty=\"0\" meanStrokeWidth=\"96\">y</charParams>\n",
      "                    <charParams l=\"1284\" t=\"3946\" r=\"1299\" b=\"3961\" wordStart=\"false\" wordFromDictionary=\"true\" wordNormal=\"true\" wordNumeric=\"false\" wordIdentifier=\"false\" charConfidence=\"100\" serifProbability=\"255\" wordPenalty=\"0\" meanStrokeWidth=\"96\">.</charParams>\n",
      "                </word>\n",
      "            </line>\n",
      "        </block>\n",
      "    </page>\n",
      "</document>\n",
      "\n"
     ]
    }
   ],
   "source": [
    "xml4 = ah.filter_elements(xml3, \"document page block line word charParams\".split())\n",
    "ah.ppxml(xml4)"
   ]
  },
  {
   "cell_type": "code",
   "execution_count": 11,
   "metadata": {},
   "outputs": [
    {
     "name": "stdout",
     "output_type": "stream",
     "text": [
      "<?xml version=\"1.0\" encoding=\"UTF-8\"?>\n",
      "<document xmlns:xsi=\"http://www.w3.org/2001/XMLSchema-instance\" version=\"1.0\" producer=\"LuraDocument XML Exporter for ABBYY FineReader\" pagesCount=\"298\" xsi:schemaLocation=\"http://www.abbyy.com/FineReader_xml/FineReader6-schema-v1.xml http://www.abbyy.com/FineReader_xml/FineReader6-schema-v1.xml\">\n",
      "    \n",
      "\n",
      "    <page width=\"1000\" height=\"1500\" resolution=\"500\" originalCoords=\"true\">\n",
      "</page>\n",
      "    <page width=\"2854\" height=\"4155\" resolution=\"500\" originalCoords=\"true\">\n",
      "        \n",
      "\n",
      "        <block blockType=\"Picture\" l=\"0\" t=\"0\" r=\"2854\" b=\"4154\">\n",
      "</block>\n",
      "    </page>\n",
      "    <page width=\"2854\" height=\"4155\" resolution=\"500\" originalCoords=\"true\">\n",
      "        \n",
      "\n",
      "        <block blockType=\"Text\" l=\"900\" t=\"16\" r=\"1856\" b=\"300\">\n",
      "            \n",
      "\n",
      "            <line baseline=\"123\" l=\"914\" t=\"30\" r=\"1842\" b=\"142\">\n",
      "                <word l=\"914\" t=\"30\" r=\"1232\" b=\"106\">\n",
      "                    <charParams l=\"914\" t=\"30\" r=\"962\" b=\"88\" wordStart=\"true\" wordFromDictionary=\"true\" wordNormal=\"true\" wordNumeric=\"false\" wordIdentifier=\"false\" charConfidence=\"30\" serifProbability=\"6\" wordPenalty=\"9\" meanStrokeWidth=\"78\">H</charParams>\n",
      "                    <charParams l=\"966\" t=\"36\" r=\"1014\" b=\"90\" wordStart=\"false\" wordFromDictionary=\"true\" wordNormal=\"true\" wordNumeric=\"false\" wordIdentifier=\"false\" charConfidence=\"16\" serifProbability=\"0\" wordPenalty=\"9\" meanStrokeWidth=\"78\">A</charParams>\n",
      "                    <charParams l=\"1022\" t=\"38\" r=\"1066\" b=\"94\" wordStart=\"false\" wordFrom ...            <charParams l=\"1047\" t=\"3918\" r=\"1084\" b=\"3963\" wordStart=\"false\" wordFromDictionary=\"true\" wordNormal=\"true\" wordNumeric=\"false\" wordIdentifier=\"false\" charConfidence=\"100\" serifProbability=\"70\" wordPenalty=\"0\" meanStrokeWidth=\"91\">e</charParams>\n",
      "                </word>\n",
      "                <word l=\"1115\" t=\"3918\" r=\"1299\" b=\"3980\">\n",
      "                    <charParams l=\"1115\" t=\"3918\" r=\"1178\" b=\"3962\" wordStart=\"true\" wordFromDictionary=\"true\" wordNormal=\"true\" wordNumeric=\"false\" wordIdentifier=\"false\" charConfidence=\"100\" serifProbability=\"255\" wordPenalty=\"0\" meanStrokeWidth=\"96\">w</charParams>\n",
      "                    <charParams l=\"1182\" t=\"3918\" r=\"1225\" b=\"3962\" wordStart=\"false\" wordFromDictionary=\"true\" wordNormal=\"true\" wordNumeric=\"false\" wordIdentifier=\"false\" charConfidence=\"100\" serifProbability=\"96\" wordPenalty=\"0\" meanStrokeWidth=\"96\">a</charParams>\n",
      "                    <charParams l=\"1226\" t=\"3918\" r=\"1277\" b=\"3980\" wordStart=\"false\" wordFromDictionary=\"true\" wordNormal=\"true\" wordNumeric=\"false\" wordIdentifier=\"false\" charConfidence=\"100\" serifProbability=\"49\" wordPenalty=\"0\" meanStrokeWidth=\"96\">y</charParams>\n",
      "                    <charParams l=\"1284\" t=\"3946\" r=\"1299\" b=\"3961\" wordStart=\"false\" wordFromDictionary=\"true\" wordNormal=\"true\" wordNumeric=\"false\" wordIdentifier=\"false\" charConfidence=\"100\" serifProbability=\"255\" wordPenalty=\"0\" meanStrokeWidth=\"96\">.</charParams>\n",
      "                </word>\n",
      "            </line>\n",
      "        </block>\n",
      "    </page>\n",
      "</document>\n",
      "\n"
     ]
    }
   ],
   "source": [
    "reload(ah)\n",
    "xml5 = ah.complete_element_tree(xml4, \"document page block line\".split())\n",
    "ah.ppxml(xml5)"
   ]
  },
  {
   "cell_type": "code",
   "execution_count": 12,
   "metadata": {},
   "outputs": [
    {
     "name": "stdout",
     "output_type": "stream",
     "text": [
      "<?xml version=\"1.0\" encoding=\"UTF-8\"?>\n",
      "<html>\n",
      "    <div class=\"ocr_page\" title=\"image\"/>\n",
      "    <div class=\"ocr_page\" title=\"image\">\n",
      "        <div class=\"ocr_carea\" title=\"bbox 0 0 2854 4154\">\n",
      "            <img class=\"ocr_image\" src=\"data:image/png;base64,iVBORw0KGgoAAAANSUhEUgAAAAEAAAABCAYAAAAfFcSJAAAAC0lEQVQYV2NkQAIAAAoABaKrrkAAAAASUVORK5CYII=\" alt=\"image\" width=\"2854\" height=\"4154\"/>\n",
      "        </div>\n",
      "    </div>\n",
      "    <div class=\"ocr_page\" title=\"image\">\n",
      "        <div class=\"ocr_carea\" title=\"bbox 900 16 1856 300\">\n",
      "            <span class=\"ocr_line\" title=\"bbox 914 30 1842 142\">\n",
      "                <span class=\"ocrx_word\" title=\"bbox 914 30 1232 106\">HAROLD</span>\n",
      "                <span class=\"ocrx_word\" title=\"bbox 1260 54 1324 112\">B.</span>\n",
      "                <span class=\"ocrx_word\" title=\"bbox 1358 62 1492 124\">LEE</span>\n",
      "                <span class=\"ocrx_word\" title=\"bbox 1522 74 1842 142\">LIBRARY</span>\n",
      "            </span>\n",
      "            <span class=\"ocr_line\" title=\"bbox 944 88 1802 218\">\n",
      "                <span class=\"ocrx_word\" title=\"bbox 944 116 1210 176\">3RIGHAM</span>\n",
      "                <span class=\"ocrx_word\" title=\"bbox 1236 138 1440 192\">roUNG</span>\n",
      "                <span class=\"ocrx_word\" title=\"bbox 1464 88 1802 218\">UN.S.Ty</span>\n",
      "            </span>\n",
      "            <span class=\"ocr_line\" title=\"bbox 1108 206 1628 298\">\n",
      "                <span class=\"ocrx_word\" title=\"bbox 1108 206 1390 290\">PROVO.</span>\n",
      "                <span class=\"ocrx_word\" title=\"bbox 1422 226 1628 298\">UTAH</span>\n",
      " ...             <span class=\"ocrx_word\" title=\"bbox 2451 3707 2587 3782\">ana</span>\n",
      "            </span>\n",
      "            <span class=\"ocr_line\" title=\"bbox 230 3803 2583 3891\">\n",
      "                <span class=\"ocrx_word\" title=\"bbox 230 3803 374 3873\">this</span>\n",
      "                <span class=\"ocrx_word\" title=\"bbox 427 3804 485 3873\">is</span>\n",
      "                <span class=\"ocrx_word\" title=\"bbox 539 3805 819 3888\">exactly</span>\n",
      "                <span class=\"ocrx_word\" title=\"bbox 871 3804 1066 3873\">what</span>\n",
      "                <span class=\"ocrx_word\" title=\"bbox 1119 3804 1396 3890\">Hugo's</span>\n",
      "                <span class=\"ocrx_word\" title=\"bbox 1449 3804 1868 3875\">Grammars</span>\n",
      "                <span class=\"ocrx_word\" title=\"bbox 1921 3805 2037 3890\">do,</span>\n",
      "                <span class=\"ocrx_word\" title=\"bbox 2093 3805 2168 3874\">in</span>\n",
      "                <span class=\"ocrx_word\" title=\"bbox 2220 3827 2266 3873\">a</span>\n",
      "                <span class=\"ocrx_word\" title=\"bbox 2317 3805 2583 3891\">simple,</span>\n",
      "            </span>\n",
      "            <span class=\"ocr_line\" title=\"bbox 232 3895 1299 3980\">\n",
      "                <span class=\"ocrx_word\" title=\"bbox 232 3895 596 3975\">practical,</span>\n",
      "                <span class=\"ocrx_word\" title=\"bbox 631 3895 776 3963\">and</span>\n",
      "                <span class=\"ocrx_word\" title=\"bbox 808 3895 1084 3963\">concise</span>\n",
      "                <span class=\"ocrx_word\" title=\"bbox 1115 3918 1299 3980\">way.</span>\n",
      "            </span>\n",
      "        </div>\n",
      "    </div>\n",
      "</html>\n",
      "\n"
     ]
    }
   ],
   "source": [
    "reload(ah)\n",
    "hocr = ah.abbyy_to_hocr(xml5)\n",
    "ah.ppxml(hocr)"
   ]
  },
  {
   "cell_type": "code",
   "execution_count": 43,
   "metadata": {},
   "outputs": [
    {
     "name": "stdout",
     "output_type": "stream",
     "text": [
      "<?xml version=\"1.0\" encoding=\"UTF-8\"?>\n",
      "<html>\n",
      "    <head/>\n",
      "    <body>\n",
      "        <html>\n",
      "            <div class=\"ocr_page\" title=\"image\"/>\n",
      "            <div class=\"ocr_page\" title=\"image\">\n",
      "                <div class=\"ocr_carea\" title=\"bbox 0 0 2854 4154\">\n",
      "                    <img class=\"ocr_image\" src=\"data:image/png;base64,iVBORw0KGgoAAAANSUhEUgAAAAEAAAABCAYAAAAfFcSJAAAAC0lEQVQYV2NkQAIAAAoABaKrrkAAAAASUVORK5CYII=\" alt=\"image\" width=\"2854\" height=\"4154\"/>\n",
      "                </div>\n",
      "            </div>\n",
      "            <div class=\"ocr_page\" title=\"image\">\n",
      "                <div class=\"ocr_carea\" title=\"bbox 900 16 1856 300\">\n",
      "                    <span class=\"ocr_line\" title=\"bbox 914 30 1842 142\">\n",
      "                        <span class=\"ocrx_word\" title=\"bbox 914 30 1232 106\">\n",
      "                            <span class=\"ocr_glyph\" title=\"x_conf 30; x_msw 78; bbox 914 30 962 88\">H</span>\n",
      "                            <span class=\"ocr_glyph\" title=\"x_conf 16; x_msw 78; bbox 966 36 1014 90\">A</span>\n",
      "                            <span class=\"ocr_glyph\" title=\"x_conf 49; x_msw 78; bbox 1022 38 1066 94\">R</span>\n",
      "                            <span class=\"ocr_glyph\" title=\"x_conf 32; x_msw 78; bbox 1074 42 1130 100\">O</span>\n",
      "                            <span class=\"ocr_glyph\" title=\"x_conf 6; x_msw 78; bbox 1136 46 1172 102\">L</span>\n",
      "                            <span class=\"ocr_glyph\" title=\"x_conf 84; x_msw 78; bbox 1182 48 1232 106\">D</span>\n",
      "                        </span>\n",
      "                        <span class=\"o ...          <span class=\"ocr_glyph\" title=\"x_conf 100; x_msw 91; bbox 808 3918 844 3963\">c</span>\n",
      "                            <span class=\"ocr_glyph\" title=\"x_conf 100; x_msw 91; bbox 849 3918 889 3963\">o</span>\n",
      "                            <span class=\"ocr_glyph\" title=\"x_conf 100; x_msw 91; bbox 894 3918 941 3962\">n</span>\n",
      "                            <span class=\"ocr_glyph\" title=\"x_conf 100; x_msw 91; bbox 946 3918 981 3963\">c</span>\n",
      "                            <span class=\"ocr_glyph\" title=\"x_conf 100; x_msw 91; bbox 985 3895 1006 3963\">i</span>\n",
      "                            <span class=\"ocr_glyph\" title=\"x_conf 100; x_msw 91; bbox 1011 3918 1045 3963\">s</span>\n",
      "                            <span class=\"ocr_glyph\" title=\"x_conf 100; x_msw 91; bbox 1047 3918 1084 3963\">e</span>\n",
      "                        </span>\n",
      "                        <span class=\"ocrx_word\" title=\"bbox 1115 3918 1299 3980\">\n",
      "                            <span class=\"ocr_glyph\" title=\"x_conf 100; x_msw 96; bbox 1115 3918 1178 3962\">w</span>\n",
      "                            <span class=\"ocr_glyph\" title=\"x_conf 100; x_msw 96; bbox 1182 3918 1225 3962\">a</span>\n",
      "                            <span class=\"ocr_glyph\" title=\"x_conf 100; x_msw 96; bbox 1226 3918 1277 3980\">y</span>\n",
      "                            <span class=\"ocr_glyph\" title=\"x_conf 100; x_msw 96; bbox 1284 3946 1299 3961\">.</span>\n",
      "                        </span>\n",
      "                    </span>\n",
      "                </div>\n",
      "            </div>\n",
      "        </html>\n",
      "    </body>\n",
      "</html>\n",
      "\n"
     ]
    }
   ],
   "source": [
    "reload(ah)\n",
    "hocr = ah.abbyy_to_hocr(xml5, ah.usual_glyph_properties)\n",
    "ah.ppxml(hocr)"
   ]
  },
  {
   "cell_type": "code",
   "execution_count": 44,
   "metadata": {},
   "outputs": [
    {
     "name": "stdout",
     "output_type": "stream",
     "text": [
      "<?xml version=\"1.0\" encoding=\"UTF-8\"?>\n",
      "<html>\n",
      "    <head>\n",
      "        <meta name=\"ocr-capabilities\" content=\"ocr_page ocr_line ocrx_word ocr_glyph\"/>\n",
      "        <meta name=\"ocr-system\" content=\"ABBYY\"/>\n",
      "    </head>\n",
      "    <body>\n",
      "        <html>\n",
      "            <div class=\"ocr_page\" title=\"image\"/>\n",
      "            <div class=\"ocr_page\" title=\"image\">\n",
      "                <div class=\"ocr_carea\" title=\"bbox 0 0 2854 4154\">\n",
      "                    <img class=\"ocr_image\" src=\"data:image/png;base64,iVBORw0KGgoAAAANSUhEUgAAAAEAAAABCAYAAAAfFcSJAAAAC0lEQVQYV2NkQAIAAAoABaKrrkAAAAASUVORK5CYII=\" alt=\"image\" width=\"2854\" height=\"4154\"/>\n",
      "                </div>\n",
      "            </div>\n",
      "            <div class=\"ocr_page\" title=\"image\">\n",
      "                <div class=\"ocr_carea\" title=\"bbox 900 16 1856 300\">\n",
      "                    <span class=\"ocr_line\" title=\"bbox 914 30 1842 142\">\n",
      "                        <span class=\"ocrx_word\" title=\"bbox 914 30 1232 106\">\n",
      "                            <span class=\"ocr_glyph\" title=\"x_conf 30; x_msw 78; bbox 914 30 962 88\">H</span>\n",
      "                            <span class=\"ocr_glyph\" title=\"x_conf 16; x_msw 78; bbox 966 36 1014 90\">A</span>\n",
      "                            <span class=\"ocr_glyph\" title=\"x_conf 49; x_msw 78; bbox 1022 38 1066 94\">R</span>\n",
      "                            <span class=\"ocr_glyph\" title=\"x_conf 32; x_msw 78; bbox 1074 42 1130 100\">O</span>\n",
      "                            <span class=\"ocr_glyph\" title=\"x_conf 6; x_msw 78; bbox 1136 46 1172 102\">L</span>\n",
      "                            <span ...          <span class=\"ocr_glyph\" title=\"x_conf 100; x_msw 91; bbox 808 3918 844 3963\">c</span>\n",
      "                            <span class=\"ocr_glyph\" title=\"x_conf 100; x_msw 91; bbox 849 3918 889 3963\">o</span>\n",
      "                            <span class=\"ocr_glyph\" title=\"x_conf 100; x_msw 91; bbox 894 3918 941 3962\">n</span>\n",
      "                            <span class=\"ocr_glyph\" title=\"x_conf 100; x_msw 91; bbox 946 3918 981 3963\">c</span>\n",
      "                            <span class=\"ocr_glyph\" title=\"x_conf 100; x_msw 91; bbox 985 3895 1006 3963\">i</span>\n",
      "                            <span class=\"ocr_glyph\" title=\"x_conf 100; x_msw 91; bbox 1011 3918 1045 3963\">s</span>\n",
      "                            <span class=\"ocr_glyph\" title=\"x_conf 100; x_msw 91; bbox 1047 3918 1084 3963\">e</span>\n",
      "                        </span>\n",
      "                        <span class=\"ocrx_word\" title=\"bbox 1115 3918 1299 3980\">\n",
      "                            <span class=\"ocr_glyph\" title=\"x_conf 100; x_msw 96; bbox 1115 3918 1178 3962\">w</span>\n",
      "                            <span class=\"ocr_glyph\" title=\"x_conf 100; x_msw 96; bbox 1182 3918 1225 3962\">a</span>\n",
      "                            <span class=\"ocr_glyph\" title=\"x_conf 100; x_msw 96; bbox 1226 3918 1277 3980\">y</span>\n",
      "                            <span class=\"ocr_glyph\" title=\"x_conf 100; x_msw 96; bbox 1284 3946 1299 3961\">.</span>\n",
      "                        </span>\n",
      "                    </span>\n",
      "                </div>\n",
      "            </div>\n",
      "        </html>\n",
      "    </body>\n",
      "</html>\n",
      "\n"
     ]
    }
   ],
   "source": [
    "import hocrhelper as hh\n",
    "reload(hh)\n",
    "hh.check_valid_hocr(hocr, check_classes=False)\n",
    "hh.guess_and_set_hocr_capabilities(hocr, \"ocr_page ocr_par ocr_line ocrx_word ocr_glyph\".split())\n",
    "hh.set_ocr_system(hocr, \"ABBYY\")\n",
    "ah.ppxml(hocr)"
   ]
  },
  {
   "cell_type": "code",
   "execution_count": 45,
   "metadata": {},
   "outputs": [
    {
     "name": "stdout",
     "output_type": "stream",
     "text": [
      "<?xml version=\"1.0\" encoding=\"UTF-8\"?>\n",
      "<html>\n",
      "    <head>\n",
      "        <meta name=\"ocr-capabilities\" content=\"ocr_page ocr_line ocrx_word ocr_glyph\"/>\n",
      "        <meta name=\"ocr-system\" content=\"ABBYY\"/>\n",
      "    </head>\n",
      "    <body>\n",
      "        <html>\n",
      "            <div class=\"ocr_page\" title=\"image\"/>\n",
      "            <div class=\"ocr_page\" title=\"image\">\n",
      "                <div class=\"ocr_carea\" title=\"bbox 0 0 1427 2077\">\n",
      "                    <img class=\"ocr_image\" src=\"data:image/png;base64,iVBORw0KGgoAAAANSUhEUgAAAAEAAAABCAYAAAAfFcSJAAAAC0lEQVQYV2NkQAIAAAoABaKrrkAAAAASUVORK5CYII=\" alt=\"image\" width=\"2854\" height=\"4154\"/>\n",
      "                </div>\n",
      "            </div>\n",
      "            <div class=\"ocr_page\" title=\"image\">\n",
      "                <div class=\"ocr_carea\" title=\"bbox 450 8 928 150\">\n",
      "                    <span class=\"ocr_line\" title=\"bbox 457 15 921 71\">\n",
      "                        <span class=\"ocrx_word\" title=\"bbox 457 15 616 53\">\n",
      "                            <span class=\"ocr_glyph\" title=\"x_conf 30; x_msw 78; bbox 457 15 481 44\">H</span>\n",
      "                            <span class=\"ocr_glyph\" title=\"x_conf 16; x_msw 78; bbox 483 18 507 45\">A</span>\n",
      "                            <span class=\"ocr_glyph\" title=\"x_conf 49; x_msw 78; bbox 511 19 533 47\">R</span>\n",
      "                            <span class=\"ocr_glyph\" title=\"x_conf 32; x_msw 78; bbox 537 21 565 50\">O</span>\n",
      "                            <span class=\"ocr_glyph\" title=\"x_conf 6; x_msw 78; bbox 568 23 586 51\">L</span>\n",
      "                            <span class=\"ocr_gly ...                         <span class=\"ocr_glyph\" title=\"x_conf 100; x_msw 91; bbox 404 1959 422 1981\">c</span>\n",
      "                            <span class=\"ocr_glyph\" title=\"x_conf 100; x_msw 91; bbox 424 1959 444 1981\">o</span>\n",
      "                            <span class=\"ocr_glyph\" title=\"x_conf 100; x_msw 91; bbox 447 1959 470 1981\">n</span>\n",
      "                            <span class=\"ocr_glyph\" title=\"x_conf 100; x_msw 91; bbox 473 1959 490 1981\">c</span>\n",
      "                            <span class=\"ocr_glyph\" title=\"x_conf 100; x_msw 91; bbox 492 1947 503 1981\">i</span>\n",
      "                            <span class=\"ocr_glyph\" title=\"x_conf 100; x_msw 91; bbox 505 1959 522 1981\">s</span>\n",
      "                            <span class=\"ocr_glyph\" title=\"x_conf 100; x_msw 91; bbox 523 1959 542 1981\">e</span>\n",
      "                        </span>\n",
      "                        <span class=\"ocrx_word\" title=\"bbox 557 1959 649 1990\">\n",
      "                            <span class=\"ocr_glyph\" title=\"x_conf 100; x_msw 96; bbox 557 1959 589 1981\">w</span>\n",
      "                            <span class=\"ocr_glyph\" title=\"x_conf 100; x_msw 96; bbox 591 1959 612 1981\">a</span>\n",
      "                            <span class=\"ocr_glyph\" title=\"x_conf 100; x_msw 96; bbox 613 1959 638 1990\">y</span>\n",
      "                            <span class=\"ocr_glyph\" title=\"x_conf 100; x_msw 96; bbox 642 1973 649 1980\">.</span>\n",
      "                        </span>\n",
      "                    </span>\n",
      "                </div>\n",
      "            </div>\n",
      "        </html>\n",
      "    </body>\n",
      "</html>\n",
      "\n"
     ]
    }
   ],
   "source": [
    "reload(hh)\n",
    "\n",
    "def scalefn(scale):\n",
    "    def f(x, y, width, height):\n",
    "        return int(x*scale), int(y*scale), int(width*scale), int(height*scale)\n",
    "    return f\n",
    "\n",
    "hh.map_bounding_boxes(hocr, scalefn(0.5))\n",
    "ah.ppxml(hocr)"
   ]
  },
  {
   "cell_type": "code",
   "execution_count": 39,
   "metadata": {},
   "outputs": [
    {
     "data": {
      "text/plain": [
       "<function RandomState.f>"
      ]
     },
     "execution_count": 39,
     "metadata": {},
     "output_type": "execute_result"
    }
   ],
   "source": [
    "f"
   ]
  },
  {
   "cell_type": "code",
   "execution_count": null,
   "metadata": {},
   "outputs": [],
   "source": []
  }
 ],
 "metadata": {
  "kernelspec": {
   "display_name": "venv",
   "language": "python",
   "name": "python3"
  },
  "language_info": {
   "codemirror_mode": {
    "name": "ipython",
    "version": 3
   },
   "file_extension": ".py",
   "mimetype": "text/x-python",
   "name": "python",
   "nbconvert_exporter": "python",
   "pygments_lexer": "ipython3",
   "version": "3.10.6"
  },
  "orig_nbformat": 4
 },
 "nbformat": 4,
 "nbformat_minor": 2
}
