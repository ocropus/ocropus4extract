{
 "cells": [
  {
   "cell_type": "code",
   "execution_count": 1,
   "metadata": {},
   "outputs": [
    {
     "name": "stdout",
     "output_type": "stream",
     "text": [
      "%pylab is deprecated, use %matplotlib inline and import the required libraries.\n",
      "Populating the interactive namespace from numpy and matplotlib\n"
     ]
    }
   ],
   "source": [
    "%pylab inline"
   ]
  },
  {
   "cell_type": "code",
   "execution_count": 2,
   "metadata": {},
   "outputs": [],
   "source": [
    "import PIL # must do this before importing lxml because of bug in Pillow/lxml (gzip conflict)\n",
    "import numpy as np\n",
    "import tempfile\n",
    "from itertools import islice\n",
    "import xml.etree.ElementTree as ET\n",
    "from lxml import etree\n",
    "import io\n",
    "import matplotlib.pyplot as plt\n",
    "from matplotlib.patches import Rectangle\n",
    "import imageio.v2 as imageio\n",
    "import subprocess\n",
    "import os\n",
    "import webdataset as wds\n",
    "import glob\n",
    "import textcheck\n",
    "import scipy.ndimage as ndi\n",
    "\n",
    "import numpy as np\n",
    "import matplotlib.pyplot as plt\n",
    "from ipywidgets import interact, interact_manual\n",
    "import ipywidgets as widgets"
   ]
  },
  {
   "cell_type": "code",
   "execution_count": 3,
   "metadata": {},
   "outputs": [
    {
     "data": {
      "text/plain": [
       "<module 'iautils' from '/home/tmb/pdfocrhelpers/iautils.py'>"
      ]
     },
     "execution_count": 3,
     "metadata": {},
     "output_type": "execute_result"
    }
   ],
   "source": [
    "\n",
    "from importlib import reload\n",
    "import iautils\n",
    "reload(iautils)"
   ]
  },
  {
   "cell_type": "code",
   "execution_count": 4,
   "metadata": {},
   "outputs": [],
   "source": [
    "def shuffled(l):\n",
    "    l = list(l)\n",
    "    np.random.shuffle(l)\n",
    "    return l\n",
    "\n",
    "def checkvalid(image, text):\n",
    "    assert image.ndim in [2, 3]\n",
    "    if image.ndim == 3:\n",
    "        assert image.shape[2] == 3\n",
    "    if len(text) < 1:\n",
    "        return False\n",
    "    h, w = image.shape[:2]\n",
    "    if h < 8 or w < 8:\n",
    "        return False\n",
    "    return True"
   ]
  },
  {
   "cell_type": "code",
   "execution_count": 5,
   "metadata": {},
   "outputs": [],
   "source": [
    "def scale_page_(page, scale):\n",
    "    page[\"size\"][\"w\"] = int(page[\"size\"][\"w\"] * scale)\n",
    "    page[\"size\"][\"h\"] = int(page[\"size\"][\"h\"] * scale)\n",
    "    for w in page[\"words\"]:\n",
    "        w[\"t\"] = int(w[\"t\"] * scale)\n",
    "        w[\"l\"] = int(w[\"l\"] * scale)\n",
    "        w[\"b\"] = int(w[\"b\"] * scale)\n",
    "        w[\"r\"] = int(w[\"r\"] * scale)\n",
    "    for l in page[\"lines\"]:\n",
    "        l[\"t\"] = int(l[\"t\"] * scale)\n",
    "        l[\"l\"] = int(l[\"l\"] * scale)\n",
    "        l[\"b\"] = int(l[\"b\"] * scale)\n",
    "        l[\"r\"] = int(l[\"r\"] * scale)\n"
   ]
  },
  {
   "cell_type": "code",
   "execution_count": 6,
   "metadata": {},
   "outputs": [],
   "source": [
    "last_display = 0\n",
    "\n",
    "def report(pagesample=None, wordsample=None, linesample=None, every=15, title=\"\"):\n",
    "    global last_display\n",
    "    import matplotlib.pyplot as plt\n",
    "    from IPython import display\n",
    "    if time.time()-last_display < every: return\n",
    "    last_display = time.time()\n",
    "    plt.close(\"all\")\n",
    "    fig = plt.figure(figsize=(12, 12))\n",
    "    fig.clf()\n",
    "    for i in range(4): fig.add_subplot(2, 2, i+1)    \n",
    "    ax1, ax2, ax3, ax4 = fig.get_axes()\n",
    "    if pagesample:\n",
    "        ax1.imshow(pagesample[\"jpg\"], cmap=\"gray\")\n",
    "        ax1.set_title(title)\n",
    "        if len(pagesample[\"mp\"][\"words\"]) > 0:\n",
    "            for w in pagesample[\"mp\"][\"words\"]:\n",
    "                iautils.Bbox(from_dict=w).draw_rect(\"red\", ax=ax1)\n",
    "        else:\n",
    "            for w in pagesample[\"mp\"][\"lines\"]:\n",
    "                iautils.Bbox(from_dict=w).draw_rect(\"green\", ax=ax1)\n",
    "        ax2.set_title(f\"{len(pagesample['mp']['words'])} words, {len(pagesample['mp']['lines'])} lines\")\n",
    "        ax2.imshow(pagesample[\"lines.jpg\"])\n",
    "    if wordsample:\n",
    "        ax3.imshow(wordsample[\"jpg\"], cmap=\"gray\")\n",
    "        ax3.set_title(wordsample[\"txt\"])\n",
    "    if linesample:\n",
    "        ax4.imshow(linesample[\"jpg\"], cmap=\"gray\")\n",
    "        ax4.set_title(linesample[\"txt\"])\n",
    "    display.clear_output(wait=True)\n",
    "    display.display(fig)"
   ]
  },
  {
   "cell_type": "code",
   "execution_count": 7,
   "metadata": {},
   "outputs": [],
   "source": [
    "def extract_pages(pages, images, segwriter, wordwriter, linewriter, key, pagesel=None, wordsel=None, linesel=None, do_report=False, title=\"\"):\n",
    "    # write a usage comment in Google style for this function\n",
    "    \"\"\"Extract pages from an ABBYY XML-derived page structure and a list of images.\n",
    "\n",
    "    Args:\n",
    "        pages: ABBYY XML-derived page structure\n",
    "        images: Jp2ZipFile object\n",
    "        segwriter: TarWriter for segmentations\n",
    "        wordwriter: TarWriter for word images\n",
    "        linewriter: TarWriter for line images\n",
    "        key: the key for the current book (used as prefix for outputs)\n",
    "        pagelist: list of pages to extract. Defaults to None (=all)\n",
    "        wordsel: a selection predicate for words. Defaults to None.\n",
    "        linesel: a selection predicate for lines. Defaults to None.\n",
    "\n",
    "    Returns:\n",
    "        _description_\n",
    "    \"\"\"\n",
    "    if len(images) != len(pages):\n",
    "        return False\n",
    "\n",
    "    page_offset = 0 if 0 in images else 1\n",
    "    print(f\"page_offset={page_offset}\")\n",
    "\n",
    "    npages, nwords, nlines = 0, 0, 0\n",
    "\n",
    "    print(f\"pages={len(pages)}:\", end=\" \", flush=True)\n",
    "\n",
    "    allpages = set(range(len(pages)))\n",
    "    if pagesel is not None:\n",
    "        allpages = sorted(list(set(pagesel(allpages))))\n",
    "\n",
    "    for pageno in allpages:\n",
    "        print(f\"{pageno} \", end=\"\", flush=True)\n",
    "        page = pages[pageno]\n",
    "        page[\"__class__\"] = \"page\"\n",
    "        page[\"pageno\"] = pageno\n",
    "        if len(page[\"lines\"]) == 0:\n",
    "            continue\n",
    "        image = images.decode(pageno+page_offset)\n",
    "        h = page[\"size\"][\"h\"]\n",
    "        w = page[\"size\"][\"w\"]\n",
    "        if not (h == image.shape[0] and w == image.shape[1]):\n",
    "            print(\"mismatch\", pageno, (h, w), image.shape)\n",
    "            continue\n",
    "        line_mask = iautils.make_page_mask(page, page[\"lines\"])\n",
    "        word_mask = iautils.make_page_mask(page, page[\"words\"])\n",
    "\n",
    "        scale = 3500.0 / max(image.shape[0], image.shape[1])\n",
    "        if scale < 1.0:\n",
    "            image = ndi.zoom(image, (scale, scale, 1)[:image.ndim], order=1)\n",
    "            line_mask = ndi.zoom(line_mask, scale, order=0)\n",
    "            word_mask = ndi.zoom(word_mask, scale, order=0)\n",
    "            scale_page_(page, scale)\n",
    "            page[\"scale\"] = scale\n",
    "\n",
    "        seg = {\n",
    "            \"__key__\": f\"{key}({pageno:04d})\",\n",
    "            \"jpg\": image,\n",
    "            \"lines.jpg\": line_mask,\n",
    "            \"words.jpg\": word_mask,\n",
    "            \"mp\": page,\n",
    "        }\n",
    "        segwriter.write(seg)\n",
    "        npages += 1\n",
    "        the_linesample = None\n",
    "        for lineno, line in enumerate(page[\"lines\"]):\n",
    "            bbox = iautils.Bbox(from_dict=line)\n",
    "            growth = 10 # max(10, bbox.height() // 10)\n",
    "            lineimage = bbox.grow(growth).extract(image)\n",
    "            linetext = line[\"text\"]\n",
    "            if not checkvalid(lineimage, linetext):\n",
    "                continue\n",
    "            if linesel is not None and not linesel(lineno, linetext, lineimage):\n",
    "                continue\n",
    "            linesample = {\n",
    "                \"__key__\": f\"{key}({pageno:04d}-{lineno:04d})\",\n",
    "                \"jpg\": lineimage,\n",
    "                \"txt\": linetext,\n",
    "            }\n",
    "            if lineno == 5:\n",
    "                the_linesample = linesample\n",
    "            linewriter.write(linesample)\n",
    "            nlines += 1\n",
    "        the_wordsample = None\n",
    "        for wordno, word in enumerate(page[\"words\"]):\n",
    "            bbox = iautils.Bbox(from_dict=word)\n",
    "            growth = 10 # max(10, bbox.height() // 10)\n",
    "            wordimage = bbox.grow(growth).extract(image)\n",
    "            wordtext = word[\"text\"]\n",
    "            if not checkvalid(wordimage, wordtext):\n",
    "                continue\n",
    "            if wordsel is not None and not wordsel(wordno, wordtext, wordimage):\n",
    "                continue\n",
    "            wordsample = {\n",
    "                \"__key__\": f\"{key}({pageno:04d}-{wordno:04d})\",\n",
    "                \"jpg\": wordimage,\n",
    "                \"txt\": wordtext,\n",
    "            }\n",
    "            if wordno == 20:\n",
    "                the_wordsample = wordsample\n",
    "            wordwriter.write(wordsample)\n",
    "            nwords += 1\n",
    "        if do_report:\n",
    "            report(pagesample=seg, wordsample=the_wordsample, linesample=the_linesample, title=title)\n",
    "    print()\n",
    "    return npages, nwords, nlines"
   ]
  },
  {
   "cell_type": "code",
   "execution_count": 8,
   "metadata": {},
   "outputs": [],
   "source": [
    "class Nothing(Exception):\n",
    "    pass"
   ]
  },
  {
   "cell_type": "code",
   "execution_count": 9,
   "metadata": {},
   "outputs": [],
   "source": [
    "def convert_book_shard(url, prefix=\"\", maxbooks=99999999, pagesel=None, linesel=None, wordsel=None, exn=Nothing, do_report=False):\n",
    "    ds = wds.WebDataset(url).decode()\n",
    "    segwriter = wds.TarWriter(prefix+\"segs.tar\")\n",
    "    wordwriter = wds.TarWriter(prefix+\"words.tar\")\n",
    "    linewriter = wds.TarWriter(prefix+\"lines.tar\")\n",
    "    nbooks = 0\n",
    "    try:\n",
    "        for sample in ds:\n",
    "            if nbooks >= maxbooks:\n",
    "                break\n",
    "            key = sample[\"__key__\"]\n",
    "            print(f\"key={key}\")\n",
    "            identifier = bytes.fromhex(key).decode(\"utf-8\")\n",
    "            print(f\"identifier={identifier}\")\n",
    "            try:\n",
    "                pages = iautils.parse_abbyy(io.StringIO(sample[\"abbyy.gz\"].decode(\"utf-8\")))\n",
    "                if pages is None:\n",
    "                    print(\"no pages\")\n",
    "                    continue\n",
    "            except exn as e:\n",
    "                print(\"failed to parse abbyy\", repr(e))\n",
    "                continue\n",
    "            try:\n",
    "                images = iautils.Jp2Zip(io.BytesIO(sample[\"zip\"]))\n",
    "            except exn as e:\n",
    "                print(\"failed to load zip\", repr(e))\n",
    "                continue\n",
    "            if set(images.pages.keys()) == set(range(len(pages))):\n",
    "                print(\"zero-based page numbers in images\")\n",
    "            elif set(images.pages.keys()) == set(range(1, len(pages)+1)):\n",
    "                print(\"one-based page numbers in images\")\n",
    "            else:\n",
    "                print(\"page number mismatch\", len(pages), len(images))\n",
    "                continue\n",
    "            for page in pages:\n",
    "                page[\"identifier\"] = identifier\n",
    "            try:\n",
    "                result = extract_pages(pages, images, segwriter, wordwriter, linewriter, key=key, pagesel=pagesel, linesel=linesel, wordsel=wordsel, do_report=do_report, title=url)\n",
    "            except exn as e:\n",
    "                print(\"failed to extract pages\", repr(e))\n",
    "                continue\n",
    "            if result is False:\n",
    "                print(\"failed\", sample[\"__key__\"])\n",
    "            else:\n",
    "                npages, nwords, nlines = result\n",
    "                print(f\"{prefix} {sample['__key__']} {npages} pages, {nwords} words, {nlines} lines\")\n",
    "                nbooks += 1\n",
    "    finally:\n",
    "        segwriter.close()\n",
    "        wordwriter.close()\n",
    "        linewriter.close()\n",
    "\n"
   ]
  },
  {
   "cell_type": "code",
   "execution_count": 10,
   "metadata": {},
   "outputs": [],
   "source": [
    "def select_every(n):\n",
    "    def f(i, text, image):\n",
    "        return i % n == 0\n",
    "    return f\n",
    "\n",
    "def select_random_subset(n):\n",
    "    def f(pages):\n",
    "        pages = list(pages)\n",
    "        random.shuffle(pages)\n",
    "        return sorted(pages[:n])\n",
    "    return f\n",
    "\n",
    "import textcheck"
   ]
  },
  {
   "cell_type": "code",
   "execution_count": 11,
   "metadata": {},
   "outputs": [
    {
     "data": {
      "application/vnd.jupyter.widget-view+json": {
       "model_id": "2a530311c3d840b8bc662163d55efe20",
       "version_major": 2,
       "version_minor": 0
      },
      "text/plain": [
       "interactive(children=(Button(description='Run Interact', style=ButtonStyle()), Output()), _dom_classes=('widge…"
      ]
     },
     "metadata": {},
     "output_type": "display_data"
    }
   ],
   "source": [
    "@interact_manual\n",
    "def run_test():\n",
    "    convert_book_shard(\"books-000000.tar\", prefix=\"test-\", maxbooks=1, do_report=True, pagesel=select_random_subset(10), wordsel=textcheck.wordsel)"
   ]
  },
  {
   "cell_type": "code",
   "execution_count": 12,
   "metadata": {},
   "outputs": [
    {
     "data": {
      "application/vnd.jupyter.widget-view+json": {
       "model_id": "c59eb0c065ae4bb79a32cd28a3714017",
       "version_major": 2,
       "version_minor": 0
      },
      "text/plain": [
       "interactive(children=(Button(description='Run Interact', style=ButtonStyle()), Output()), _dom_classes=('widge…"
      ]
     },
     "metadata": {},
     "output_type": "display_data"
    }
   ],
   "source": [
    "@interact_manual\n",
    "def remove_old_output():\n",
    "    os.system(\"gsutil -m rm -r gs://ocro-iaa/segs/\")\n",
    "    os.system(\"gsutil -m rm -r gs://ocro-iaa/words/\")\n",
    "    os.system(\"gsutil -m rm -r gs://ocro-iaa/lines/\")\n"
   ]
  },
  {
   "cell_type": "code",
   "execution_count": 13,
   "metadata": {},
   "outputs": [],
   "source": [
    "urls = sorted(os.popen(\"gsutil ls gs://ocro-iaa/books/books-*.tar\").read().strip().split(\"\\n\"))\n",
    "shards = [s[-10:-4] for s in urls]"
   ]
  },
  {
   "cell_type": "code",
   "execution_count": 14,
   "metadata": {},
   "outputs": [],
   "source": [
    "def run(cmd):\n",
    "    print(\"#\", cmd)\n",
    "    assert 0 == os.system(cmd), f\"command failed: {cmd}\""
   ]
  },
  {
   "cell_type": "code",
   "execution_count": 15,
   "metadata": {},
   "outputs": [],
   "source": [
    "def extract_shard(shard, do_report=False, env={}, npages=5):\n",
    "    os.environ.update(env)\n",
    "    print(f\"\\n=== {shard} ===\\n\")\n",
    "    if os.system(f\"gsutil ls gs://ocro-iaa/segs/books-{shard}-segs.tar > /dev/null 2>&1\") == 0:\n",
    "        print(f\"shard {shard} already exists\")\n",
    "        return \"already-done\"\n",
    "    url = f\"gs://ocro-iaa/books/books-{shard}.tar\"\n",
    "    if not os.path.exists(f\"books-{shard}.tar\"):\n",
    "        run(f\"gsutil cp {url} books-{shard}.tar\")\n",
    "    convert_book_shard(f\"./books-{shard}.tar\", prefix=f\"books-{shard}-\", pagesel=select_random_subset(npages), wordsel=textcheck.wordsel, exn=Nothing, do_report=do_report)\n",
    "    run(f\"gsutil cp books-{shard}-words.tar gs://ocro-iaa/words/\")\n",
    "    run(f\"gsutil cp books-{shard}-lines.tar gs://ocro-iaa/lines/\")\n",
    "    run(f\"gsutil cp books-{shard}-segs.tar gs://ocro-iaa/segs/\")\n",
    "    os.remove(f\"books-{shard}.tar\")\n",
    "    os.remove(f\"books-{shard}-segs.tar\")\n",
    "    os.remove(f\"books-{shard}-words.tar\")\n",
    "    os.remove(f\"books-{shard}-lines.tar\")\n",
    "    return \"finished\""
   ]
  },
  {
   "cell_type": "code",
   "execution_count": 16,
   "metadata": {},
   "outputs": [],
   "source": [
    "credentials = {k: v for k, v in os.environ.items() if k.startswith(\"GOOGLE_\")}"
   ]
  },
  {
   "cell_type": "code",
   "execution_count": 17,
   "metadata": {},
   "outputs": [
    {
     "data": {
      "application/vnd.jupyter.widget-view+json": {
       "model_id": "395753260b6b40b682f2d81d91a0090e",
       "version_major": 2,
       "version_minor": 0
      },
      "text/plain": [
       "interactive(children=(Checkbox(value=True, description='do_report'), Button(description='Run Interact', style=…"
      ]
     },
     "metadata": {},
     "output_type": "display_data"
    }
   ],
   "source": [
    "@interact_manual\n",
    "def extract_all(do_report=True):\n",
    "    for shard in shards:\n",
    "        extract_shard(shard, do_report=do_report)"
   ]
  },
  {
   "cell_type": "code",
   "execution_count": 18,
   "metadata": {},
   "outputs": [
    {
     "data": {
      "application/vnd.jupyter.widget-view+json": {
       "model_id": "28a3f16313194ab9863e7db36cf15e6d",
       "version_major": 2,
       "version_minor": 0
      },
      "text/plain": [
       "interactive(children=(Button(description='Run Interact', style=ButtonStyle()), Output()), _dom_classes=('widge…"
      ]
     },
     "metadata": {},
     "output_type": "display_data"
    }
   ],
   "source": [
    "@interact_manual\n",
    "def extract_all_parallel():\n",
    "    import ray\n",
    "    import os\n",
    "    if not ray.is_initialized():\n",
    "        print(\"initializing ray\")\n",
    "        ray.init()\n",
    "    extract_shard_ = ray.remote(num_cpus=2)(extract_shard)\n",
    "    print(\"starting jobs\")\n",
    "    result = [extract_shard_.remote(shard, env=credentials) for shard in shards]\n",
    "    print(\"waiting for jobs\")\n",
    "    ray.get(result)"
   ]
  },
  {
   "cell_type": "code",
   "execution_count": 19,
   "metadata": {},
   "outputs": [],
   "source": [
    "def normalize(a):\n",
    "    a = a.astype(\"float32\")\n",
    "    a = a - a.min()\n",
    "    a /= a.max()\n",
    "    return a"
   ]
  },
  {
   "cell_type": "code",
   "execution_count": 20,
   "metadata": {},
   "outputs": [],
   "source": [
    "the_bucket = \"gs://\"\n",
    "the_shard = \"000000\""
   ]
  },
  {
   "cell_type": "code",
   "execution_count": 21,
   "metadata": {},
   "outputs": [
    {
     "data": {
      "application/vnd.jupyter.widget-view+json": {
       "model_id": "d4d0a1a52d7745c5a682b6f7ad790ac8",
       "version_major": 2,
       "version_minor": 0
      },
      "text/plain": [
       "interactive(children=(Text(value='gs://ocro-iaa/segs/books-', continuous_update=False, description='prefix'), …"
      ]
     },
     "metadata": {},
     "output_type": "display_data"
    }
   ],
   "source": [
    "@interact_manual\n",
    "def show_segs(prefix=\"gs://ocro-iaa/segs/books-\", shard=\"000000\"):\n",
    "    ds = wds.WebDataset(f\"{prefix}{shard}-segs.tar\").decode(\"rgb\")\n",
    "    sample = next(iter(islice(ds, 10, 11)))\n",
    "    print(sample.keys())\n",
    "    figsize(18, 10)\n",
    "    subplot(131); imshow(sample[\"jpeg\"])\n",
    "    subplot(132); imshow(normalize(sample[\"lines.jpg\"]))\n",
    "    subplot(133); imshow(normalize(sample[\"words.jpg\"]))"
   ]
  },
  {
   "cell_type": "code",
   "execution_count": 22,
   "metadata": {},
   "outputs": [
    {
     "data": {
      "application/vnd.jupyter.widget-view+json": {
       "model_id": "52063fd7f9144077a96f8fd7a9c4bfc8",
       "version_major": 2,
       "version_minor": 0
      },
      "text/plain": [
       "interactive(children=(Text(value='gs://ocro-iaa/segs/books-', continuous_update=False, description='prefix'), …"
      ]
     },
     "metadata": {},
     "output_type": "display_data"
    }
   ],
   "source": [
    "@interact_manual\n",
    "def show_zoomed(prefix=\"gs://ocro-iaa/segs/books-\", shard=\"000000\"):\n",
    "    ds = wds.WebDataset(f\"{prefix}{shard}-segs.tar\").decode(\"rgb\")\n",
    "    sample = next(iter(islice(ds, 10, 11)))\n",
    "    print(sample.keys())\n",
    "    figsize(18, 10)\n",
    "    sl = (slice(500, 1000), slice(500, 1000))\n",
    "    figsize(18, 10)\n",
    "    subplot(131); imshow(sample[\"jpeg\"][sl])\n",
    "    subplot(132); imshow(normalize(sample[\"lines.jpg\"][sl]))\n",
    "    subplot(133); imshow(normalize(sample[\"words.jpg\"][sl]))"
   ]
  },
  {
   "cell_type": "code",
   "execution_count": 23,
   "metadata": {},
   "outputs": [
    {
     "data": {
      "application/vnd.jupyter.widget-view+json": {
       "model_id": "d42e7aadf3cc46ef8726c71b9b310988",
       "version_major": 2,
       "version_minor": 0
      },
      "text/plain": [
       "interactive(children=(Text(value='gs://ocro-iaa/segs/books-', continuous_update=False, description='prefix'), …"
      ]
     },
     "metadata": {},
     "output_type": "display_data"
    }
   ],
   "source": [
    "@interact_manual\n",
    "def show_lines(prefix=\"gs://ocro-iaa/segs/books-\", shard=\"000000\"):\n",
    "    ds = wds.WebDataset(f\"{prefix}{shard}-lines.tar\").decode(\"rgb\")\n",
    "    src = list(islice(iter(ds), 50, 1000*17, 17))\n",
    "    figsize(18, 10)\n",
    "    random.shuffle(src)\n",
    "    i = 0\n",
    "    n = 8\n",
    "    while i < n:\n",
    "        sample = src[i]\n",
    "        subplot(n, 1, i+1)\n",
    "        imshow(sample[\"png\"]); xticks([]); yticks([])\n",
    "        title(sample[\"txt\"])\n",
    "        i += 1"
   ]
  },
  {
   "cell_type": "code",
   "execution_count": 24,
   "metadata": {},
   "outputs": [
    {
     "data": {
      "application/vnd.jupyter.widget-view+json": {
       "model_id": "e50a0535d7184aac9273f7283ca3e316",
       "version_major": 2,
       "version_minor": 0
      },
      "text/plain": [
       "interactive(children=(Text(value='gs://ocro-iaa/segs/books-', continuous_update=False, description='prefix'), …"
      ]
     },
     "metadata": {},
     "output_type": "display_data"
    }
   ],
   "source": [
    "@interact_manual\n",
    "def show_words(prefix=\"gs://ocro-iaa/segs/books-\", shard=\"000000\"):\n",
    "    ds = wds.WebDataset(f\"{prefix}{shard}-words.tar\").decode(\"rgb\")\n",
    "    src = list(islice(iter(ds), 50, 1000*17, 17))\n",
    "    figsize(18, 10)\n",
    "    random.shuffle(src)\n",
    "    i = 0\n",
    "    n = 8\n",
    "    while i < n:\n",
    "        sample = src[i]\n",
    "        subplot(n, 1, i+1)\n",
    "        imshow(sample[\"png\"]); xticks([]); yticks([])\n",
    "        title(sample[\"txt\"])\n",
    "        i += 1"
   ]
  },
  {
   "cell_type": "code",
   "execution_count": null,
   "metadata": {},
   "outputs": [],
   "source": []
  }
 ],
 "metadata": {
  "kernelspec": {
   "display_name": "venv",
   "language": "python",
   "name": "python3"
  },
  "language_info": {
   "codemirror_mode": {
    "name": "ipython",
    "version": 3
   },
   "file_extension": ".py",
   "mimetype": "text/x-python",
   "name": "python",
   "nbconvert_exporter": "python",
   "pygments_lexer": "ipython3",
   "version": "3.10.6"
  },
  "orig_nbformat": 4
 },
 "nbformat": 4,
 "nbformat_minor": 2
}
