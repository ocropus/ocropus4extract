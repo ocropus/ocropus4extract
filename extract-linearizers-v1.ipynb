{
 "cells": [
  {
   "cell_type": "code",
   "execution_count": null,
   "metadata": {},
   "outputs": [],
   "source": [
    "import xmlhocr as xh\n",
    "import webdataset as wds\n",
    "import iautils\n",
    "import io\n",
    "from itertools import islice\n",
    "import sys\n",
    "import tempfile\n",
    "import os\n",
    "\n",
    "os.environ[\"RAY_DEDUP_LOGS\"] = \"0\""
   ]
  },
  {
   "cell_type": "code",
   "execution_count": null,
   "metadata": {},
   "outputs": [],
   "source": [
    "exn = Exception\n",
    "\n",
    "def get_samples_full(url):\n",
    "    ds = wds.WebDataset(url).decode()\n",
    "    try:\n",
    "        for sample in ds:\n",
    "            key = sample[\"__key__\"]\n",
    "            print(f\"key={key}\", sample.keys())\n",
    "            identifier = bytes.fromhex(key).decode(\"utf-8\")\n",
    "\n",
    "            try:\n",
    "                pages = list(xh.convert_abbyy_to_serial(sample[\"abbyy.gz\"]))\n",
    "            except exn as e:\n",
    "                print(\"failed to parse abbyy\", repr(e))\n",
    "                continue\n",
    "            try:\n",
    "                images = iautils.Jp2Zip(io.BytesIO(sample[\"zip\"]))\n",
    "            except exn as e:\n",
    "                print(\"failed to load zip\", repr(e))\n",
    "                continue\n",
    "\n",
    "            if set(images.pages.keys()) == set(range(len(pages))):\n",
    "                print(\"zero-based page numbers in images\")\n",
    "            elif set(images.pages.keys()) == set(range(1, len(pages)+1)):\n",
    "                print(\"one-based page numbers in images\")\n",
    "            else:\n",
    "                print(\"page number mismatch\", len(pages), len(images))\n",
    "                continue\n",
    "\n",
    "            page_offset = 0 if 0 in images else 1\n",
    "\n",
    "            for i in range(len(pages)):\n",
    "                pagekey = f\"{identifier}/{i:05d}\"\n",
    "                print(pagekey, file=sys.stderr)\n",
    "                image = images.decode(i+page_offset)\n",
    "                sample = {\n",
    "                    \"__key__\": pagekey,\n",
    "                    \"jpg\": image,\n",
    "                    \"words.json\": pages[i],\n",
    "                }\n",
    "                yield sample\n",
    "    except Exception as e:\n",
    "        print(\"exception\", repr(e))\n",
    "        raise e"
   ]
  },
  {
   "cell_type": "code",
   "execution_count": null,
   "metadata": {},
   "outputs": [],
   "source": [
    "exn = Exception\n",
    "\n",
    "def get_samples(url):\n",
    "    ds = wds.WebDataset(url).decode()\n",
    "    try:\n",
    "        for sample in ds:\n",
    "            key = sample[\"__key__\"]\n",
    "            identifier = bytes.fromhex(key).decode(\"utf-8\")\n",
    "            print(identifier, key)\n",
    "\n",
    "            try:\n",
    "                pages = list(xh.convert_abbyy_to_serial(sample[\"abbyy.gz\"]))\n",
    "            except exn as e:\n",
    "                print(\"failed to parse abbyy\", repr(e))\n",
    "                continue\n",
    "\n",
    "            for i in range(len(pages)):\n",
    "                pagekey = f\"{key}/{i:05d}\"\n",
    "                # print(pagekey, file=sys.stderr)\n",
    "                sample = {\n",
    "                    \"__key__\": pagekey,\n",
    "                    \"lin.json\": pages[i],\n",
    "                }\n",
    "                yield sample\n",
    "    except Exception as e:\n",
    "        print(\"exception\", repr(e))\n",
    "        raise e\n"
   ]
  },
  {
   "cell_type": "code",
   "execution_count": null,
   "metadata": {},
   "outputs": [],
   "source": [
    "if False:\n",
    "    for sample in islice(get_samples(\"gs://ocro-iaa/books/books-000000.tar\"), 30, 40):\n",
    "        break\n",
    "    sample"
   ]
  },
  {
   "cell_type": "code",
   "execution_count": null,
   "metadata": {},
   "outputs": [],
   "source": [
    "!gsutil ls gs://ocro-iaa/books/ | shardsum"
   ]
  },
  {
   "cell_type": "code",
   "execution_count": null,
   "metadata": {},
   "outputs": [],
   "source": [
    "def convert_books_to_lin(srcurl, dsturl):\n",
    "    print(\"=== converting\", srcurl, \"-->\", dsturl, file=sys.stderr)\n",
    "    with tempfile.NamedTemporaryFile() as f:\n",
    "        dst = wds.TarWriter(f.name)\n",
    "        for sample in get_samples(srcurl):\n",
    "            dst.write(sample)\n",
    "        dst.close()\n",
    "        f.flush()\n",
    "        assert os.system(f\"gsutil cp {f.name} {dsturl}\") == 0\n"
   ]
  },
  {
   "cell_type": "code",
   "execution_count": null,
   "metadata": {},
   "outputs": [],
   "source": [
    "# convert_books_to_lin(\"gs://ocro-iaa/books/books-000001.tar\", \"gs://ocro-iaa/lin/lin-000001.tar\")"
   ]
  },
  {
   "cell_type": "code",
   "execution_count": null,
   "metadata": {},
   "outputs": [],
   "source": [
    "import ray\n",
    "\n",
    "if not ray.is_initialized():\n",
    "    ray.init()\n",
    "\n",
    "@ray.remote(num_cpus=4, memory=int(8e9))\n",
    "def process_shard(shard):\n",
    "    srcurl = f\"gs://ocro-iaa/books/books-{shard:06d}.tar\"\n",
    "    dsturl = f\"gs://ocro-iaa/lin/lin-{shard:06d}.tar\"\n",
    "    try:\n",
    "        convert_books_to_lin(srcurl, dsturl)\n",
    "    except Exception as e:\n",
    "        return (shard, repr(e))\n",
    "    return (shard, True)\n",
    "\n",
    "# List of filenames to process\n",
    "fnames = list(range(0, 704))\n",
    "\n",
    "# Submit tasks to Ray in parallel\n",
    "results = [process_shard.remote(fname) for fname in fnames]\n",
    "\n",
    "# Wait for all tasks to complete and retrieve results\n",
    "results = ray.get(results)"
   ]
  },
  {
   "cell_type": "code",
   "execution_count": null,
   "metadata": {},
   "outputs": [],
   "source": []
  }
 ],
 "metadata": {
  "kernelspec": {
   "display_name": "venv",
   "language": "python",
   "name": "python3"
  },
  "language_info": {
   "codemirror_mode": {
    "name": "ipython",
    "version": 3
   },
   "file_extension": ".py",
   "mimetype": "text/x-python",
   "name": "python",
   "nbconvert_exporter": "python",
   "pygments_lexer": "ipython3",
   "version": "3.10.6"
  }
 },
 "nbformat": 4,
 "nbformat_minor": 2
}
