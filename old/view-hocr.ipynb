{
 "cells": [
  {
   "cell_type": "code",
   "execution_count": null,
   "metadata": {},
   "outputs": [],
   "source": [
    "import matplotlib.pyplot as plt\n",
    "import ipywidgets as widgets\n",
    "from IPython.display import display\n",
    "\n",
    "# Define a list of images\n",
    "images = ['image1.png', 'image2.png', 'image3.png']\n",
    "\n",
    "# Define a function to plot an image given its filename\n",
    "def plot_image(filename):\n",
    "    image = plt.imread(filename)\n",
    "    plt.imshow(image)\n",
    "    plt.show()\n",
    "\n",
    "# Define a function to update the plot when the button is clicked\n",
    "def on_button_clicked(b):\n",
    "    # Get the index of the current image\n",
    "    current_index = images.index(filename.value)\n",
    "    \n",
    "    # Calculate the index of the next image\n",
    "    next_index = (current_index + 1) % len(images)\n",
    "    \n",
    "    # Get the filename of the next image\n",
    "    next_filename = images[next_index]\n",
    "    \n",
    "    # Update the value of the filename widget\n",
    "    filename.value = next_filename\n",
    "    \n",
    "    # Plot the next image\n",
    "    plot_image(next_filename)\n",
    "\n",
    "# Create a dropdown widget to select an image\n",
    "filename = widgets.Dropdown(options=images)\n",
    "\n",
    "# Create a button widget to step to the next image\n",
    "button = widgets.Button(description=\"Next Image\")\n",
    "button.on_click(on_button_clicked)\n",
    "\n",
    "# Plot the first image\n",
    "plot_image(images[0])\n",
    "\n",
    "# Display the widgets and the initial plot\n",
    "display(filename)\n",
    "display(button)\n"
   ]
  }
 ],
 "metadata": {
  "language_info": {
   "name": "python"
  },
  "orig_nbformat": 4
 },
 "nbformat": 4,
 "nbformat_minor": 2
}
